{
 "cells": [
  {
   "cell_type": "code",
   "execution_count": 1,
   "metadata": {
    "colab": {
     "base_uri": "https://localhost:8080/"
    },
    "id": "OJbEHHgno58Q",
    "outputId": "83147187-ce42-4946-b486-ac5dd75f31e7"
   },
   "outputs": [
    {
     "name": "stdout",
     "output_type": "stream",
     "text": [
      "Requirement already satisfied: nltk in /usr/local/lib/python3.6/dist-packages (3.2.5)\n",
      "Requirement already satisfied: six in /usr/local/lib/python3.6/dist-packages (from nltk) (1.15.0)\n",
      "Collecting owlready2\n",
      "\u001b[?25l  Downloading https://files.pythonhosted.org/packages/d1/0a/5968df803f6f8c8171fbacde0dca5fc6f6f7542d6a1bc221ec52d8d96bda/Owlready2-0.25.tar.gz (20.9MB)\n",
      "\u001b[K     |████████████████████████████████| 20.9MB 1.3MB/s \n",
      "\u001b[?25hBuilding wheels for collected packages: owlready2\n",
      "  Building wheel for owlready2 (setup.py) ... \u001b[?25l\u001b[?25hdone\n",
      "  Created wheel for owlready2: filename=Owlready2-0.25-cp36-cp36m-linux_x86_64.whl size=20269689 sha256=d4737d7529b6a4e4040c1db11e22aa4ace976d834a5e64e43be181f03d92dfc0\n",
      "  Stored in directory: /root/.cache/pip/wheels/62/74/7f/ab814059f816d87b26a1e1ec242c40d443cd2e22b0868a2a94\n",
      "Successfully built owlready2\n",
      "Installing collected packages: owlready2\n",
      "Successfully installed owlready2-0.25\n",
      "Collecting pronto\n",
      "\u001b[?25l  Downloading https://files.pythonhosted.org/packages/ad/c5/e6b354c454a0cca6e5b34d16914621718ac6c04e4ae2af61689a37262101/pronto-2.3.1-py2.py3-none-any.whl (58kB)\n",
      "\u001b[K     |████████████████████████████████| 61kB 6.5MB/s \n",
      "\u001b[?25hRequirement already satisfied: python-dateutil~=2.8 in /usr/local/lib/python3.6/dist-packages (from pronto) (2.8.1)\n",
      "Collecting fastobo~=0.9.0\n",
      "\u001b[?25l  Downloading https://files.pythonhosted.org/packages/d0/e4/c6ca7cec4242f268c5ca9f451d0dc361fd196718f4e68207c5599e1851fb/fastobo-0.9.2-cp36-cp36m-manylinux2010_x86_64.manylinux1_x86_64.whl (1.8MB)\n",
      "\u001b[K     |████████████████████████████████| 1.8MB 23.9MB/s \n",
      "\u001b[?25hRequirement already satisfied: networkx~=2.3 in /usr/local/lib/python3.6/dist-packages (from pronto) (2.5)\n",
      "Requirement already satisfied: chardet~=3.0 in /usr/local/lib/python3.6/dist-packages (from pronto) (3.0.4)\n",
      "Requirement already satisfied: six>=1.5 in /usr/local/lib/python3.6/dist-packages (from python-dateutil~=2.8->pronto) (1.15.0)\n",
      "Requirement already satisfied: decorator>=4.3.0 in /usr/local/lib/python3.6/dist-packages (from networkx~=2.3->pronto) (4.4.2)\n",
      "Installing collected packages: fastobo, pronto\n",
      "Successfully installed fastobo-0.9.2 pronto-2.3.1\n",
      "Collecting ipynb-py-convert\n",
      "  Downloading https://files.pythonhosted.org/packages/43/90/37ff1b9f553583e60c327e1ea8cbfea469c38c9d8791ad1f7ee6d3482efa/ipynb-py-convert-0.4.6.tar.gz\n",
      "Building wheels for collected packages: ipynb-py-convert\n",
      "  Building wheel for ipynb-py-convert (setup.py) ... \u001b[?25l\u001b[?25hdone\n",
      "  Created wheel for ipynb-py-convert: filename=ipynb_py_convert-0.4.6-cp36-none-any.whl size=4625 sha256=31e4a8e49870716668e4f8370754b2cd76469d8cc5bd749945bcab66f3493d9f\n",
      "  Stored in directory: /root/.cache/pip/wheels/80/dc/7c/a7279f7726d66951fe48d5afd45247bcf5bf92c98282e4e78e\n",
      "Successfully built ipynb-py-convert\n",
      "Installing collected packages: ipynb-py-convert\n",
      "Successfully installed ipynb-py-convert-0.4.6\n",
      "Collecting langdetect\n",
      "\u001b[?25l  Downloading https://files.pythonhosted.org/packages/56/a3/8407c1e62d5980188b4acc45ef3d94b933d14a2ebc9ef3505f22cf772570/langdetect-1.0.8.tar.gz (981kB)\n",
      "\u001b[K     |████████████████████████████████| 983kB 20.9MB/s \n",
      "\u001b[?25hRequirement already satisfied: six in /usr/local/lib/python3.6/dist-packages (from langdetect) (1.15.0)\n",
      "Building wheels for collected packages: langdetect\n",
      "  Building wheel for langdetect (setup.py) ... \u001b[?25l\u001b[?25hdone\n",
      "  Created wheel for langdetect: filename=langdetect-1.0.8-cp36-none-any.whl size=993195 sha256=42945defb2fb9dabdaccc1ffddef8d595361e3b4ff8a12cc8962080dea141016\n",
      "  Stored in directory: /root/.cache/pip/wheels/8d/b3/aa/6d99de9f3841d7d3d40a60ea06e6d669e8e5012e6c8b947a57\n",
      "Successfully built langdetect\n",
      "Installing collected packages: langdetect\n",
      "Successfully installed langdetect-1.0.8\n",
      "Collecting contractions\n",
      "  Downloading https://files.pythonhosted.org/packages/00/92/a05b76a692ac08d470ae5c23873cf1c9a041532f1ee065e74b374f218306/contractions-0.0.25-py2.py3-none-any.whl\n",
      "Collecting textsearch\n",
      "  Downloading https://files.pythonhosted.org/packages/42/a8/03407021f9555043de5492a2bd7a35c56cc03c2510092b5ec018cae1bbf1/textsearch-0.0.17-py2.py3-none-any.whl\n",
      "Collecting pyahocorasick\n",
      "\u001b[?25l  Downloading https://files.pythonhosted.org/packages/f4/9f/f0d8e8850e12829eea2e778f1c90e3c53a9a799b7f412082a5d21cd19ae1/pyahocorasick-1.4.0.tar.gz (312kB)\n",
      "\u001b[K     |████████████████████████████████| 317kB 22.5MB/s \n",
      "\u001b[?25hCollecting Unidecode\n",
      "\u001b[?25l  Downloading https://files.pythonhosted.org/packages/d0/42/d9edfed04228bacea2d824904cae367ee9efd05e6cce7ceaaedd0b0ad964/Unidecode-1.1.1-py2.py3-none-any.whl (238kB)\n",
      "\u001b[K     |████████████████████████████████| 245kB 48.2MB/s \n",
      "\u001b[?25hBuilding wheels for collected packages: pyahocorasick\n",
      "  Building wheel for pyahocorasick (setup.py) ... \u001b[?25l\u001b[?25hdone\n",
      "  Created wheel for pyahocorasick: filename=pyahocorasick-1.4.0-cp36-cp36m-linux_x86_64.whl size=81701 sha256=a289bff8b4ea5130f4a09a513feefbe211e4da9ef7ceb6b5f9223070408e1e0f\n",
      "  Stored in directory: /root/.cache/pip/wheels/0a/90/61/87a55f5b459792fbb2b7ba6b31721b06ff5cf6bde541b40994\n",
      "Successfully built pyahocorasick\n",
      "Installing collected packages: pyahocorasick, Unidecode, textsearch, contractions\n",
      "Successfully installed Unidecode-1.1.1 contractions-0.0.25 pyahocorasick-1.4.0 textsearch-0.0.17\n",
      "Requirement already satisfied: inflect in /usr/local/lib/python3.6/dist-packages (2.1.0)\n",
      "Collecting num2words\n",
      "\u001b[?25l  Downloading https://files.pythonhosted.org/packages/eb/a2/ea800689730732e27711c41beed4b2a129b34974435bdc450377ec407738/num2words-0.5.10-py3-none-any.whl (101kB)\n",
      "\u001b[K     |████████████████████████████████| 102kB 8.5MB/s \n",
      "\u001b[?25hRequirement already satisfied: docopt>=0.6.2 in /usr/local/lib/python3.6/dist-packages (from num2words) (0.6.2)\n",
      "Installing collected packages: num2words\n",
      "Successfully installed num2words-0.5.10\n",
      "Requirement already satisfied: tables in /usr/local/lib/python3.6/dist-packages (3.4.4)\n",
      "Requirement already satisfied: numpy>=1.8.0 in /usr/local/lib/python3.6/dist-packages (from tables) (1.18.5)\n",
      "Requirement already satisfied: numexpr>=2.5.2 in /usr/local/lib/python3.6/dist-packages (from tables) (2.7.1)\n",
      "Requirement already satisfied: six>=1.9.0 in /usr/local/lib/python3.6/dist-packages (from tables) (1.15.0)\n",
      "Requirement already satisfied: h5py in /usr/local/lib/python3.6/dist-packages (2.10.0)\n",
      "Requirement already satisfied: six in /usr/local/lib/python3.6/dist-packages (from h5py) (1.15.0)\n",
      "Requirement already satisfied: numpy>=1.7 in /usr/local/lib/python3.6/dist-packages (from h5py) (1.18.5)\n",
      "Collecting sentence-transformers\n",
      "\u001b[?25l  Downloading https://files.pythonhosted.org/packages/f4/fd/0190080aa0af78d7cd5874e4e8e85f0bed9967dd387cf05d760832b95da9/sentence-transformers-0.3.8.tar.gz (66kB)\n",
      "\u001b[K     |████████████████████████████████| 71kB 6.7MB/s \n",
      "\u001b[?25hCollecting transformers<3.4.0,>=3.1.0\n",
      "\u001b[?25l  Downloading https://files.pythonhosted.org/packages/19/22/aff234f4a841f8999e68a7a94bdd4b60b4cebcfeca5d67d61cd08c9179de/transformers-3.3.1-py3-none-any.whl (1.1MB)\n",
      "\u001b[K     |████████████████████████████████| 1.1MB 20.4MB/s \n",
      "\u001b[?25hRequirement already satisfied: tqdm in /usr/local/lib/python3.6/dist-packages (from sentence-transformers) (4.41.1)\n",
      "Requirement already satisfied: torch>=1.2.0 in /usr/local/lib/python3.6/dist-packages (from sentence-transformers) (1.7.0+cu101)\n",
      "Requirement already satisfied: numpy in /usr/local/lib/python3.6/dist-packages (from sentence-transformers) (1.18.5)\n",
      "Requirement already satisfied: scikit-learn in /usr/local/lib/python3.6/dist-packages (from sentence-transformers) (0.22.2.post1)\n",
      "Requirement already satisfied: scipy in /usr/local/lib/python3.6/dist-packages (from sentence-transformers) (1.4.1)\n",
      "Requirement already satisfied: nltk in /usr/local/lib/python3.6/dist-packages (from sentence-transformers) (3.2.5)\n",
      "Requirement already satisfied: requests in /usr/local/lib/python3.6/dist-packages (from transformers<3.4.0,>=3.1.0->sentence-transformers) (2.23.0)\n",
      "Collecting sacremoses\n",
      "\u001b[?25l  Downloading https://files.pythonhosted.org/packages/7d/34/09d19aff26edcc8eb2a01bed8e98f13a1537005d31e95233fd48216eed10/sacremoses-0.0.43.tar.gz (883kB)\n",
      "\u001b[K     |████████████████████████████████| 890kB 49.7MB/s \n",
      "\u001b[?25hRequirement already satisfied: regex!=2019.12.17 in /usr/local/lib/python3.6/dist-packages (from transformers<3.4.0,>=3.1.0->sentence-transformers) (2019.12.20)\n",
      "Requirement already satisfied: packaging in /usr/local/lib/python3.6/dist-packages (from transformers<3.4.0,>=3.1.0->sentence-transformers) (20.4)\n",
      "Collecting tokenizers==0.8.1.rc2\n",
      "\u001b[?25l  Downloading https://files.pythonhosted.org/packages/80/83/8b9fccb9e48eeb575ee19179e2bdde0ee9a1904f97de5f02d19016b8804f/tokenizers-0.8.1rc2-cp36-cp36m-manylinux1_x86_64.whl (3.0MB)\n",
      "\u001b[K     |████████████████████████████████| 3.0MB 48.9MB/s \n",
      "\u001b[?25hCollecting sentencepiece!=0.1.92\n",
      "\u001b[?25l  Downloading https://files.pythonhosted.org/packages/e5/2d/6d4ca4bef9a67070fa1cac508606328329152b1df10bdf31fb6e4e727894/sentencepiece-0.1.94-cp36-cp36m-manylinux2014_x86_64.whl (1.1MB)\n",
      "\u001b[K     |████████████████████████████████| 1.1MB 40.9MB/s \n",
      "\u001b[?25hRequirement already satisfied: filelock in /usr/local/lib/python3.6/dist-packages (from transformers<3.4.0,>=3.1.0->sentence-transformers) (3.0.12)\n",
      "Requirement already satisfied: dataclasses; python_version < \"3.7\" in /usr/local/lib/python3.6/dist-packages (from transformers<3.4.0,>=3.1.0->sentence-transformers) (0.7)\n",
      "Requirement already satisfied: future in /usr/local/lib/python3.6/dist-packages (from torch>=1.2.0->sentence-transformers) (0.16.0)\n",
      "Requirement already satisfied: typing-extensions in /usr/local/lib/python3.6/dist-packages (from torch>=1.2.0->sentence-transformers) (3.7.4.3)\n",
      "Requirement already satisfied: joblib>=0.11 in /usr/local/lib/python3.6/dist-packages (from scikit-learn->sentence-transformers) (0.17.0)\n",
      "Requirement already satisfied: six in /usr/local/lib/python3.6/dist-packages (from nltk->sentence-transformers) (1.15.0)\n",
      "Requirement already satisfied: chardet<4,>=3.0.2 in /usr/local/lib/python3.6/dist-packages (from requests->transformers<3.4.0,>=3.1.0->sentence-transformers) (3.0.4)\n",
      "Requirement already satisfied: urllib3!=1.25.0,!=1.25.1,<1.26,>=1.21.1 in /usr/local/lib/python3.6/dist-packages (from requests->transformers<3.4.0,>=3.1.0->sentence-transformers) (1.24.3)\n",
      "Requirement already satisfied: certifi>=2017.4.17 in /usr/local/lib/python3.6/dist-packages (from requests->transformers<3.4.0,>=3.1.0->sentence-transformers) (2020.6.20)\n",
      "Requirement already satisfied: idna<3,>=2.5 in /usr/local/lib/python3.6/dist-packages (from requests->transformers<3.4.0,>=3.1.0->sentence-transformers) (2.10)\n",
      "Requirement already satisfied: click in /usr/local/lib/python3.6/dist-packages (from sacremoses->transformers<3.4.0,>=3.1.0->sentence-transformers) (7.1.2)\n",
      "Requirement already satisfied: pyparsing>=2.0.2 in /usr/local/lib/python3.6/dist-packages (from packaging->transformers<3.4.0,>=3.1.0->sentence-transformers) (2.4.7)\n",
      "Building wheels for collected packages: sentence-transformers, sacremoses\n",
      "  Building wheel for sentence-transformers (setup.py) ... \u001b[?25l\u001b[?25hdone\n",
      "  Created wheel for sentence-transformers: filename=sentence_transformers-0.3.8-cp36-none-any.whl size=101996 sha256=c46e98d6e6df31c7fdf520f04534cb96275f45d0bc8f65ebb5d76c34252bc8eb\n",
      "  Stored in directory: /root/.cache/pip/wheels/27/ec/b3/d12cc8e4daf77846db6543033d3a5642f204c0320b15945647\n",
      "  Building wheel for sacremoses (setup.py) ... \u001b[?25l\u001b[?25hdone\n",
      "  Created wheel for sacremoses: filename=sacremoses-0.0.43-cp36-none-any.whl size=893257 sha256=c97d4deeecbec9fc1518435d25a140e0f6d583ff97028ea157c8836ac0d6df41\n",
      "  Stored in directory: /root/.cache/pip/wheels/29/3c/fd/7ce5c3f0666dab31a50123635e6fb5e19ceb42ce38d4e58f45\n",
      "Successfully built sentence-transformers sacremoses\n",
      "Installing collected packages: sacremoses, tokenizers, sentencepiece, transformers, sentence-transformers\n",
      "Successfully installed sacremoses-0.0.43 sentence-transformers-0.3.8 sentencepiece-0.1.94 tokenizers-0.8.1rc2 transformers-3.3.1\n",
      "Requirement already satisfied: pandas in /usr/local/lib/python3.6/dist-packages (1.1.4)\n",
      "Requirement already satisfied: python-dateutil>=2.7.3 in /usr/local/lib/python3.6/dist-packages (from pandas) (2.8.1)\n",
      "Requirement already satisfied: numpy>=1.15.4 in /usr/local/lib/python3.6/dist-packages (from pandas) (1.18.5)\n",
      "Requirement already satisfied: pytz>=2017.2 in /usr/local/lib/python3.6/dist-packages (from pandas) (2018.9)\n",
      "Requirement already satisfied: six>=1.5 in /usr/local/lib/python3.6/dist-packages (from python-dateutil>=2.7.3->pandas) (1.15.0)\n",
      "Requirement already satisfied: tqdm in /usr/local/lib/python3.6/dist-packages (4.41.1)\n",
      "Requirement already satisfied: seaborn in /usr/local/lib/python3.6/dist-packages (0.11.0)\n",
      "Requirement already satisfied: scipy>=1.0 in /usr/local/lib/python3.6/dist-packages (from seaborn) (1.4.1)\n",
      "Requirement already satisfied: pandas>=0.23 in /usr/local/lib/python3.6/dist-packages (from seaborn) (1.1.4)\n",
      "Requirement already satisfied: matplotlib>=2.2 in /usr/local/lib/python3.6/dist-packages (from seaborn) (3.2.2)\n",
      "Requirement already satisfied: numpy>=1.15 in /usr/local/lib/python3.6/dist-packages (from seaborn) (1.18.5)\n",
      "Requirement already satisfied: pytz>=2017.2 in /usr/local/lib/python3.6/dist-packages (from pandas>=0.23->seaborn) (2018.9)\n",
      "Requirement already satisfied: python-dateutil>=2.7.3 in /usr/local/lib/python3.6/dist-packages (from pandas>=0.23->seaborn) (2.8.1)\n",
      "Requirement already satisfied: pyparsing!=2.0.4,!=2.1.2,!=2.1.6,>=2.0.1 in /usr/local/lib/python3.6/dist-packages (from matplotlib>=2.2->seaborn) (2.4.7)\n",
      "Requirement already satisfied: cycler>=0.10 in /usr/local/lib/python3.6/dist-packages (from matplotlib>=2.2->seaborn) (0.10.0)\n",
      "Requirement already satisfied: kiwisolver>=1.0.1 in /usr/local/lib/python3.6/dist-packages (from matplotlib>=2.2->seaborn) (1.3.1)\n",
      "Requirement already satisfied: six>=1.5 in /usr/local/lib/python3.6/dist-packages (from python-dateutil>=2.7.3->pandas>=0.23->seaborn) (1.15.0)\n",
      "Requirement already satisfied: numpy in /usr/local/lib/python3.6/dist-packages (1.18.5)\n",
      "Requirement already satisfied: scipy in /usr/local/lib/python3.6/dist-packages (1.4.1)\n",
      "Requirement already satisfied: numpy>=1.13.3 in /usr/local/lib/python3.6/dist-packages (from scipy) (1.18.5)\n",
      "Requirement already satisfied: matplotlib in /usr/local/lib/python3.6/dist-packages (3.2.2)\n",
      "Requirement already satisfied: python-dateutil>=2.1 in /usr/local/lib/python3.6/dist-packages (from matplotlib) (2.8.1)\n",
      "Requirement already satisfied: pyparsing!=2.0.4,!=2.1.2,!=2.1.6,>=2.0.1 in /usr/local/lib/python3.6/dist-packages (from matplotlib) (2.4.7)\n",
      "Requirement already satisfied: numpy>=1.11 in /usr/local/lib/python3.6/dist-packages (from matplotlib) (1.18.5)\n",
      "Requirement already satisfied: cycler>=0.10 in /usr/local/lib/python3.6/dist-packages (from matplotlib) (0.10.0)\n",
      "Requirement already satisfied: kiwisolver>=1.0.1 in /usr/local/lib/python3.6/dist-packages (from matplotlib) (1.3.1)\n",
      "Requirement already satisfied: six>=1.5 in /usr/local/lib/python3.6/dist-packages (from python-dateutil>=2.1->matplotlib) (1.15.0)\n",
      "Requirement already satisfied: numpy in /usr/local/lib/python3.6/dist-packages (1.18.5)\n",
      "Requirement already satisfied: bottleneck in /usr/local/lib/python3.6/dist-packages (1.3.2)\n",
      "Requirement already satisfied: numpy in /usr/local/lib/python3.6/dist-packages (from bottleneck) (1.18.5)\n",
      "Collecting pandarallel\n",
      "  Downloading https://files.pythonhosted.org/packages/62/30/3c2c89597bb01b75779432d469562a235c47538cf96152ed01d695ad41ce/pandarallel-1.5.1.tar.gz\n",
      "Requirement already satisfied: dill in /usr/local/lib/python3.6/dist-packages (from pandarallel) (0.3.3)\n",
      "Building wheels for collected packages: pandarallel\n",
      "  Building wheel for pandarallel (setup.py) ... \u001b[?25l\u001b[?25hdone\n",
      "  Created wheel for pandarallel: filename=pandarallel-1.5.1-cp36-none-any.whl size=17126 sha256=09f6fde4ed227e80572ba832a2f2a0561093b6b7c679f7fc7ac522358083711c\n",
      "  Stored in directory: /root/.cache/pip/wheels/6f/c8/e5/d43fa63105ce1dd22f4df51bc2edfefd54d92ce64f25326314\n",
      "Successfully built pandarallel\n",
      "Installing collected packages: pandarallel\n",
      "Successfully installed pandarallel-1.5.1\n",
      "Requirement already satisfied: wordcloud in /usr/local/lib/python3.6/dist-packages (1.5.0)\n",
      "Requirement already satisfied: pillow in /usr/local/lib/python3.6/dist-packages (from wordcloud) (7.0.0)\n",
      "Requirement already satisfied: numpy>=1.6.1 in /usr/local/lib/python3.6/dist-packages (from wordcloud) (1.18.5)\n",
      "Requirement already satisfied: spacy in /usr/local/lib/python3.6/dist-packages (2.2.4)\n",
      "Requirement already satisfied: cymem<2.1.0,>=2.0.2 in /usr/local/lib/python3.6/dist-packages (from spacy) (2.0.4)\n",
      "Requirement already satisfied: preshed<3.1.0,>=3.0.2 in /usr/local/lib/python3.6/dist-packages (from spacy) (3.0.2)\n",
      "Requirement already satisfied: setuptools in /usr/local/lib/python3.6/dist-packages (from spacy) (50.3.2)\n",
      "Requirement already satisfied: numpy>=1.15.0 in /usr/local/lib/python3.6/dist-packages (from spacy) (1.18.5)\n",
      "Requirement already satisfied: srsly<1.1.0,>=1.0.2 in /usr/local/lib/python3.6/dist-packages (from spacy) (1.0.2)\n",
      "Requirement already satisfied: requests<3.0.0,>=2.13.0 in /usr/local/lib/python3.6/dist-packages (from spacy) (2.23.0)\n",
      "Requirement already satisfied: wasabi<1.1.0,>=0.4.0 in /usr/local/lib/python3.6/dist-packages (from spacy) (0.8.0)\n",
      "Requirement already satisfied: catalogue<1.1.0,>=0.0.7 in /usr/local/lib/python3.6/dist-packages (from spacy) (1.0.0)\n",
      "Requirement already satisfied: blis<0.5.0,>=0.4.0 in /usr/local/lib/python3.6/dist-packages (from spacy) (0.4.1)\n",
      "Requirement already satisfied: tqdm<5.0.0,>=4.38.0 in /usr/local/lib/python3.6/dist-packages (from spacy) (4.41.1)\n",
      "Requirement already satisfied: plac<1.2.0,>=0.9.6 in /usr/local/lib/python3.6/dist-packages (from spacy) (1.1.3)\n",
      "Requirement already satisfied: thinc==7.4.0 in /usr/local/lib/python3.6/dist-packages (from spacy) (7.4.0)\n",
      "Requirement already satisfied: murmurhash<1.1.0,>=0.28.0 in /usr/local/lib/python3.6/dist-packages (from spacy) (1.0.3)\n",
      "Requirement already satisfied: chardet<4,>=3.0.2 in /usr/local/lib/python3.6/dist-packages (from requests<3.0.0,>=2.13.0->spacy) (3.0.4)\n",
      "Requirement already satisfied: urllib3!=1.25.0,!=1.25.1,<1.26,>=1.21.1 in /usr/local/lib/python3.6/dist-packages (from requests<3.0.0,>=2.13.0->spacy) (1.24.3)\n",
      "Requirement already satisfied: idna<3,>=2.5 in /usr/local/lib/python3.6/dist-packages (from requests<3.0.0,>=2.13.0->spacy) (2.10)\n",
      "Requirement already satisfied: certifi>=2017.4.17 in /usr/local/lib/python3.6/dist-packages (from requests<3.0.0,>=2.13.0->spacy) (2020.6.20)\n",
      "Requirement already satisfied: importlib-metadata>=0.20; python_version < \"3.8\" in /usr/local/lib/python3.6/dist-packages (from catalogue<1.1.0,>=0.0.7->spacy) (2.0.0)\n",
      "Requirement already satisfied: zipp>=0.5 in /usr/local/lib/python3.6/dist-packages (from importlib-metadata>=0.20; python_version < \"3.8\"->catalogue<1.1.0,>=0.0.7->spacy) (3.4.0)\n",
      "Collecting https://github.com/explosion/spacy-models/releases/download/en_core_web_sm-2.2.0/en_core_web_sm-2.2.0.tar.gz\n",
      "\u001b[?25l  Downloading https://github.com/explosion/spacy-models/releases/download/en_core_web_sm-2.2.0/en_core_web_sm-2.2.0.tar.gz (12.0MB)\n",
      "\u001b[K     |████████████████████████████████| 12.0MB 17.2MB/s \n",
      "\u001b[?25hRequirement already satisfied: spacy>=2.2.0 in /usr/local/lib/python3.6/dist-packages (from en-core-web-sm==2.2.0) (2.2.4)\n",
      "Requirement already satisfied: wasabi<1.1.0,>=0.4.0 in /usr/local/lib/python3.6/dist-packages (from spacy>=2.2.0->en-core-web-sm==2.2.0) (0.8.0)\n",
      "Requirement already satisfied: catalogue<1.1.0,>=0.0.7 in /usr/local/lib/python3.6/dist-packages (from spacy>=2.2.0->en-core-web-sm==2.2.0) (1.0.0)\n",
      "Requirement already satisfied: preshed<3.1.0,>=3.0.2 in /usr/local/lib/python3.6/dist-packages (from spacy>=2.2.0->en-core-web-sm==2.2.0) (3.0.2)\n",
      "Requirement already satisfied: cymem<2.1.0,>=2.0.2 in /usr/local/lib/python3.6/dist-packages (from spacy>=2.2.0->en-core-web-sm==2.2.0) (2.0.4)\n",
      "Requirement already satisfied: tqdm<5.0.0,>=4.38.0 in /usr/local/lib/python3.6/dist-packages (from spacy>=2.2.0->en-core-web-sm==2.2.0) (4.41.1)\n",
      "Requirement already satisfied: thinc==7.4.0 in /usr/local/lib/python3.6/dist-packages (from spacy>=2.2.0->en-core-web-sm==2.2.0) (7.4.0)\n",
      "Requirement already satisfied: blis<0.5.0,>=0.4.0 in /usr/local/lib/python3.6/dist-packages (from spacy>=2.2.0->en-core-web-sm==2.2.0) (0.4.1)\n",
      "Requirement already satisfied: plac<1.2.0,>=0.9.6 in /usr/local/lib/python3.6/dist-packages (from spacy>=2.2.0->en-core-web-sm==2.2.0) (1.1.3)\n",
      "Requirement already satisfied: requests<3.0.0,>=2.13.0 in /usr/local/lib/python3.6/dist-packages (from spacy>=2.2.0->en-core-web-sm==2.2.0) (2.23.0)\n",
      "Requirement already satisfied: srsly<1.1.0,>=1.0.2 in /usr/local/lib/python3.6/dist-packages (from spacy>=2.2.0->en-core-web-sm==2.2.0) (1.0.2)\n",
      "Requirement already satisfied: numpy>=1.15.0 in /usr/local/lib/python3.6/dist-packages (from spacy>=2.2.0->en-core-web-sm==2.2.0) (1.18.5)\n",
      "Requirement already satisfied: setuptools in /usr/local/lib/python3.6/dist-packages (from spacy>=2.2.0->en-core-web-sm==2.2.0) (50.3.2)\n",
      "Requirement already satisfied: murmurhash<1.1.0,>=0.28.0 in /usr/local/lib/python3.6/dist-packages (from spacy>=2.2.0->en-core-web-sm==2.2.0) (1.0.3)\n",
      "Requirement already satisfied: importlib-metadata>=0.20; python_version < \"3.8\" in /usr/local/lib/python3.6/dist-packages (from catalogue<1.1.0,>=0.0.7->spacy>=2.2.0->en-core-web-sm==2.2.0) (2.0.0)\n",
      "Requirement already satisfied: chardet<4,>=3.0.2 in /usr/local/lib/python3.6/dist-packages (from requests<3.0.0,>=2.13.0->spacy>=2.2.0->en-core-web-sm==2.2.0) (3.0.4)\n",
      "Requirement already satisfied: certifi>=2017.4.17 in /usr/local/lib/python3.6/dist-packages (from requests<3.0.0,>=2.13.0->spacy>=2.2.0->en-core-web-sm==2.2.0) (2020.6.20)\n",
      "Requirement already satisfied: urllib3!=1.25.0,!=1.25.1,<1.26,>=1.21.1 in /usr/local/lib/python3.6/dist-packages (from requests<3.0.0,>=2.13.0->spacy>=2.2.0->en-core-web-sm==2.2.0) (1.24.3)\n",
      "Requirement already satisfied: idna<3,>=2.5 in /usr/local/lib/python3.6/dist-packages (from requests<3.0.0,>=2.13.0->spacy>=2.2.0->en-core-web-sm==2.2.0) (2.10)\n",
      "Requirement already satisfied: zipp>=0.5 in /usr/local/lib/python3.6/dist-packages (from importlib-metadata>=0.20; python_version < \"3.8\"->catalogue<1.1.0,>=0.0.7->spacy>=2.2.0->en-core-web-sm==2.2.0) (3.4.0)\n",
      "Building wheels for collected packages: en-core-web-sm\n",
      "  Building wheel for en-core-web-sm (setup.py) ... \u001b[?25l\u001b[?25hdone\n",
      "  Created wheel for en-core-web-sm: filename=en_core_web_sm-2.2.0-cp36-none-any.whl size=12019126 sha256=5dfe5aae0968a86c42cf0a90f8f33198433298496cb8e8e863b90925ab86edd5\n",
      "  Stored in directory: /root/.cache/pip/wheels/48/5c/1c/15f9d02afc8221a668d2172446dd8467b20cdb9aef80a172a4\n",
      "Successfully built en-core-web-sm\n",
      "Installing collected packages: en-core-web-sm\n",
      "Successfully installed en-core-web-sm-2.2.0\n"
     ]
    }
   ],
   "source": [
    "# install packages\n",
    "!pip install nltk \n",
    "!pip install owlready2 \n",
    "!pip install pronto \n",
    "!pip install ipynb-py-convert \n",
    "!pip install langdetect \n",
    "!pip install contractions \n",
    "!pip install inflect \n",
    "!pip install num2words \n",
    "!pip install tables \n",
    "!pip install h5py \n",
    "!pip install sentence-transformers\n",
    "!pip install pandas \n",
    "!pip install tqdm \n",
    "!pip install seaborn\n",
    "!pip install numpy \n",
    "!pip install scipy \n",
    "!pip install matplotlib\n",
    "!pip install numpy\n",
    "!pip install bottleneck \n",
    "!pip install pandarallel \n",
    "!pip install wordcloud\n",
    "!pip install  --user spacy\n",
    "!pip install --user https://github.com/explosion/spacy-models/releases/download/en_core_web_sm-2.2.0/en_core_web_sm-2.2.0.tar.gz"
   ]
  },
  {
   "cell_type": "code",
   "execution_count": 2,
   "metadata": {
    "colab": {
     "base_uri": "https://localhost:8080/"
    },
    "id": "hgMVMu2wrQYG",
    "outputId": "d3ff4780-8235-4788-ed17-456f3cfe1567"
   },
   "outputs": [
    {
     "name": "stdout",
     "output_type": "stream",
     "text": [
      "Collecting semantic_text_similarity\n",
      "\u001b[?25l  Downloading https://files.pythonhosted.org/packages/f1/d7/eade8afd89103e3dcc4b4db146a134a26bd7336ba86d9a95cf0d0e3a28cb/semantic_text_similarity-1.0.3-py3-none-any.whl (416kB)\n",
      "\u001b[K     |████████████████████████████████| 419kB 11.8MB/s \n",
      "\u001b[?25hCollecting fuzzywuzzy[speedup]\n",
      "  Downloading https://files.pythonhosted.org/packages/43/ff/74f23998ad2f93b945c0309f825be92e04e0348e062026998b5eefef4c33/fuzzywuzzy-0.18.0-py2.py3-none-any.whl\n",
      "Collecting pytorch-transformers==1.1.0\n",
      "\u001b[?25l  Downloading https://files.pythonhosted.org/packages/50/89/ad0d6bb932d0a51793eaabcf1617a36ff530dc9ab9e38f765a35dc293306/pytorch_transformers-1.1.0-py3-none-any.whl (158kB)\n",
      "\u001b[K     |████████████████████████████████| 163kB 42.2MB/s \n",
      "\u001b[?25hRequirement already satisfied: torch in /usr/local/lib/python3.6/dist-packages (from semantic_text_similarity) (1.7.0+cu101)\n",
      "Requirement already satisfied: scipy in /usr/local/lib/python3.6/dist-packages (from semantic_text_similarity) (1.4.1)\n",
      "Collecting strsim\n",
      "\u001b[?25l  Downloading https://files.pythonhosted.org/packages/0d/95/14e5dea00c3bc73e5962261442957ee3691de8d51c97909ba7b2f46bf584/strsim-0.0.3-py3-none-any.whl (42kB)\n",
      "\u001b[K     |████████████████████████████████| 51kB 8.3MB/s \n",
      "\u001b[?25hCollecting python-levenshtein>=0.12; extra == \"speedup\"\n",
      "\u001b[?25l  Downloading https://files.pythonhosted.org/packages/42/a9/d1785c85ebf9b7dfacd08938dd028209c34a0ea3b1bcdb895208bd40a67d/python-Levenshtein-0.12.0.tar.gz (48kB)\n",
      "\u001b[K     |████████████████████████████████| 51kB 9.2MB/s \n",
      "\u001b[?25hCollecting boto3\n",
      "\u001b[?25l  Downloading https://files.pythonhosted.org/packages/25/39/87f03b1599e4bfe3e8eaa57ff2ae4c2e99e813ad94e29e9b065df6c8f1e8/boto3-1.16.20-py2.py3-none-any.whl (129kB)\n",
      "\u001b[K     |████████████████████████████████| 133kB 48.3MB/s \n",
      "\u001b[?25hRequirement already satisfied: regex in /usr/local/lib/python3.6/dist-packages (from pytorch-transformers==1.1.0->semantic_text_similarity) (2019.12.20)\n",
      "Requirement already satisfied: tqdm in /usr/local/lib/python3.6/dist-packages (from pytorch-transformers==1.1.0->semantic_text_similarity) (4.41.1)\n",
      "Requirement already satisfied: numpy in /usr/local/lib/python3.6/dist-packages (from pytorch-transformers==1.1.0->semantic_text_similarity) (1.18.5)\n",
      "Requirement already satisfied: sentencepiece in /usr/local/lib/python3.6/dist-packages (from pytorch-transformers==1.1.0->semantic_text_similarity) (0.1.94)\n",
      "Requirement already satisfied: requests in /usr/local/lib/python3.6/dist-packages (from pytorch-transformers==1.1.0->semantic_text_similarity) (2.23.0)\n",
      "Requirement already satisfied: typing-extensions in /usr/local/lib/python3.6/dist-packages (from torch->semantic_text_similarity) (3.7.4.3)\n",
      "Requirement already satisfied: dataclasses in /usr/local/lib/python3.6/dist-packages (from torch->semantic_text_similarity) (0.7)\n",
      "Requirement already satisfied: future in /usr/local/lib/python3.6/dist-packages (from torch->semantic_text_similarity) (0.16.0)\n",
      "Requirement already satisfied: setuptools in /usr/local/lib/python3.6/dist-packages (from python-levenshtein>=0.12; extra == \"speedup\"->fuzzywuzzy[speedup]->semantic_text_similarity) (50.3.2)\n",
      "Collecting botocore<1.20.0,>=1.19.20\n",
      "\u001b[?25l  Downloading https://files.pythonhosted.org/packages/7f/c7/118b4be030bd181b451442e00116aedb445664d7e363b826c9c9bf842456/botocore-1.19.20-py2.py3-none-any.whl (6.8MB)\n",
      "\u001b[K     |████████████████████████████████| 6.8MB 38.8MB/s \n",
      "\u001b[?25hCollecting jmespath<1.0.0,>=0.7.1\n",
      "  Downloading https://files.pythonhosted.org/packages/07/cb/5f001272b6faeb23c1c9e0acc04d48eaaf5c862c17709d20e3469c6e0139/jmespath-0.10.0-py2.py3-none-any.whl\n",
      "Collecting s3transfer<0.4.0,>=0.3.0\n",
      "\u001b[?25l  Downloading https://files.pythonhosted.org/packages/69/79/e6afb3d8b0b4e96cefbdc690f741d7dd24547ff1f94240c997a26fa908d3/s3transfer-0.3.3-py2.py3-none-any.whl (69kB)\n",
      "\u001b[K     |████████████████████████████████| 71kB 11.0MB/s \n",
      "\u001b[?25hRequirement already satisfied: certifi>=2017.4.17 in /usr/local/lib/python3.6/dist-packages (from requests->pytorch-transformers==1.1.0->semantic_text_similarity) (2020.6.20)\n",
      "Requirement already satisfied: chardet<4,>=3.0.2 in /usr/local/lib/python3.6/dist-packages (from requests->pytorch-transformers==1.1.0->semantic_text_similarity) (3.0.4)\n",
      "Requirement already satisfied: idna<3,>=2.5 in /usr/local/lib/python3.6/dist-packages (from requests->pytorch-transformers==1.1.0->semantic_text_similarity) (2.10)\n",
      "Requirement already satisfied: urllib3!=1.25.0,!=1.25.1,<1.26,>=1.21.1 in /usr/local/lib/python3.6/dist-packages (from requests->pytorch-transformers==1.1.0->semantic_text_similarity) (1.24.3)\n",
      "Requirement already satisfied: python-dateutil<3.0.0,>=2.1 in /usr/local/lib/python3.6/dist-packages (from botocore<1.20.0,>=1.19.20->boto3->pytorch-transformers==1.1.0->semantic_text_similarity) (2.8.1)\n",
      "Requirement already satisfied: six>=1.5 in /usr/local/lib/python3.6/dist-packages (from python-dateutil<3.0.0,>=2.1->botocore<1.20.0,>=1.19.20->boto3->pytorch-transformers==1.1.0->semantic_text_similarity) (1.15.0)\n",
      "Building wheels for collected packages: python-levenshtein\n",
      "  Building wheel for python-levenshtein (setup.py) ... \u001b[?25l\u001b[?25hdone\n",
      "  Created wheel for python-levenshtein: filename=python_Levenshtein-0.12.0-cp36-cp36m-linux_x86_64.whl size=144792 sha256=87e187a26905f055c9fed2cd834e4eb3e99450bda4c51553ab7a698d60dce453\n",
      "  Stored in directory: /root/.cache/pip/wheels/de/c2/93/660fd5f7559049268ad2dc6d81c4e39e9e36518766eaf7e342\n",
      "Successfully built python-levenshtein\n",
      "\u001b[31mERROR: botocore 1.19.20 has requirement urllib3<1.27,>=1.25.4; python_version != \"3.4\", but you'll have urllib3 1.24.3 which is incompatible.\u001b[0m\n",
      "Installing collected packages: python-levenshtein, fuzzywuzzy, jmespath, botocore, s3transfer, boto3, pytorch-transformers, strsim, semantic-text-similarity\n",
      "Successfully installed boto3-1.16.20 botocore-1.19.20 fuzzywuzzy-0.18.0 jmespath-0.10.0 python-levenshtein-0.12.0 pytorch-transformers-1.1.0 s3transfer-0.3.3 semantic-text-similarity-1.0.3 strsim-0.0.3\n"
     ]
    }
   ],
   "source": [
    "!pip install semantic_text_similarity"
   ]
  },
  {
   "cell_type": "code",
   "execution_count": 3,
   "metadata": {
    "id": "AMUj4avYTZL6"
   },
   "outputs": [],
   "source": [
    "from semantic_text_similarity.models import ClinicalBertSimilarity\n"
   ]
  },
  {
   "cell_type": "code",
   "execution_count": 4,
   "metadata": {
    "colab": {
     "base_uri": "https://localhost:8080/"
    },
    "id": "ImJ-fNjNV6qR",
    "outputId": "385f79ad-9af1-4989-c3c4-800d5a8eeebe"
   },
   "outputs": [
    {
     "name": "stdout",
     "output_type": "stream",
     "text": [
      "\u001b[31mERROR: Could not find a version that satisfies the requirement ahocorasick (from versions: none)\u001b[0m\n",
      "\u001b[31mERROR: No matching distribution found for ahocorasick\u001b[0m\n"
     ]
    }
   ],
   "source": [
    "!pip install ahocorasick"
   ]
  },
  {
   "cell_type": "code",
   "execution_count": 5,
   "metadata": {
    "colab": {
     "base_uri": "https://localhost:8080/"
    },
    "id": "0LzqRGI_TVj3",
    "outputId": "206eab17-5d92-4098-cb9a-6758a1a4ebb6"
   },
   "outputs": [
    {
     "name": "stdout",
     "output_type": "stream",
     "text": [
      "[nltk_data] Downloading package punkt to /root/nltk_data...\n",
      "[nltk_data]   Unzipping tokenizers/punkt.zip.\n",
      "[nltk_data] Downloading package stopwords to /root/nltk_data...\n",
      "[nltk_data]   Unzipping corpora/stopwords.zip.\n",
      "[nltk_data] Downloading package wordnet to /root/nltk_data...\n",
      "[nltk_data]   Unzipping corpora/wordnet.zip.\n",
      "INFO: Pandarallel will run on 2 workers.\n",
      "INFO: Pandarallel will use standard multiprocessing data transfer (pipe) to transfer data between the main process and workers.\n"
     ]
    }
   ],
   "source": [
    "\n",
    "from collections import defaultdict\n",
    "import glob\n",
    "import itertools\n",
    "import json\n",
    "import pickle\n",
    "import os\n",
    "import re\n",
    "\n",
    "import bs4\n",
    "import inflect\n",
    "from langdetect import *\n",
    "import matplotlib.pyplot as plt\n",
    "import networkx as nx\n",
    "import nltk\n",
    "nltk.download('punkt')\n",
    "nltk.download('stopwords')\n",
    "nltk.download('wordnet')\n",
    "from nltk import tokenize\n",
    "from nltk.corpus import wordnet as wn\n",
    "from nltk.corpus import stopwords\n",
    "from nltk.stem import LancasterStemmer\n",
    "from nltk.stem import PorterStemmer\n",
    "from nltk.stem import WordNetLemmatizer\n",
    "import numpy as np\n",
    "import pandas as pd\n",
    "from pandarallel import pandarallel\n",
    "from PIL import Image\n",
    "import requests\n",
    "import seaborn as sns\n",
    "from sentence_transformers import *\n",
    "from sklearn.cluster import KMeans\n",
    "from sklearn.feature_extraction.text import CountVectorizer, TfidfVectorizer\n",
    "from sklearn.metrics.pairwise import cosine_similarity\n",
    "import spacy\n",
    "from spacy import displacy\n",
    "nlp = spacy.load('en_core_web_sm')\n",
    "from spacy.matcher import Matcher\n",
    "from spacy.tokens import Span\n",
    "from tqdm import tqdm\n",
    "from wordcloud import WordCloud, STOPWORDS, ImageColorGenerator\n",
    "# Initialize pandarallel\n",
    "pandarallel.initialize(use_memory_fs=False,nb_workers=2)"
   ]
  },
  {
   "cell_type": "code",
   "execution_count": 7,
   "metadata": {
    "colab": {
     "base_uri": "https://localhost:8080/",
     "height": 297
    },
    "id": "G7vDn3-uo58U",
    "outputId": "fe82a227-96af-4f0d-8d72-a2aae4d117c5"
   },
   "outputs": [
    {
     "name": "stdout",
     "output_type": "stream",
     "text": [
      "29500\n"
     ]
    },
    {
     "data": {
      "text/html": [
       "<div>\n",
       "<style scoped>\n",
       "    .dataframe tbody tr th:only-of-type {\n",
       "        vertical-align: middle;\n",
       "    }\n",
       "\n",
       "    .dataframe tbody tr th {\n",
       "        vertical-align: top;\n",
       "    }\n",
       "\n",
       "    .dataframe thead th {\n",
       "        text-align: right;\n",
       "    }\n",
       "</style>\n",
       "<table border=\"1\" class=\"dataframe\">\n",
       "  <thead>\n",
       "    <tr style=\"text-align: right;\">\n",
       "      <th></th>\n",
       "      <th>paper_id</th>\n",
       "      <th>abstract</th>\n",
       "      <th>authors</th>\n",
       "      <th>title</th>\n",
       "      <th>journal</th>\n",
       "      <th>publish_time</th>\n",
       "    </tr>\n",
       "  </thead>\n",
       "  <tbody>\n",
       "    <tr>\n",
       "      <th>2</th>\n",
       "      <td>210a892deb1c61577f6fba58505fd65356ce6636</td>\n",
       "      <td>The geographic spread of 2019 novel coronaviru...</td>\n",
       "      <td>Linton, M. Natalie; Kobayashi, Tetsuro; Yang, ...</td>\n",
       "      <td>Incubation Period and Other Epidemiological Ch...</td>\n",
       "      <td>Journal of Clinical Medicine</td>\n",
       "      <td>2020</td>\n",
       "    </tr>\n",
       "    <tr>\n",
       "      <th>3</th>\n",
       "      <td>e3b40cc8e0e137c416b4a2273a4dca94ae8178cc</td>\n",
       "      <td>In December 2019, cases of unidentified pneumo...</td>\n",
       "      <td>Deng, Sheng-Qun; Peng, Hong-Juan</td>\n",
       "      <td>Characteristics of and Public Health Responses...</td>\n",
       "      <td>J Clin Med</td>\n",
       "      <td>2020</td>\n",
       "    </tr>\n",
       "    <tr>\n",
       "      <th>5</th>\n",
       "      <td>0df0d5270a9399cf4e23c0cdd877a80616a9725e</td>\n",
       "      <td>The basic reproduction number of an infectious...</td>\n",
       "      <td>Tang, Biao; Bragazzi, Nicola Luigi; Li, Qian; ...</td>\n",
       "      <td>An updated estimation of the risk of transmiss...</td>\n",
       "      <td>Infectious Disease Modelling</td>\n",
       "      <td>2020</td>\n",
       "    </tr>\n",
       "    <tr>\n",
       "      <th>6</th>\n",
       "      <td>f24242580be243d5fc3f432915d86af6854bb8b7</td>\n",
       "      <td>The initial cluster of severe pneumonia cases ...</td>\n",
       "      <td>Roosa, K.; Lee, Y.; Luo, R.; Kirpich, A.; Roth...</td>\n",
       "      <td>Real-time forecasts of the 2019-nCoV epidemic ...</td>\n",
       "      <td>Infectious Disease Modelling</td>\n",
       "      <td>2020</td>\n",
       "    </tr>\n",
       "    <tr>\n",
       "      <th>8</th>\n",
       "      <td>e1b336d8be1a4c0ccc5a1bf41e48b3b004d3ece1</td>\n",
       "      <td>Cruise ships carry a large number of people in...</td>\n",
       "      <td>Rocklöv, J.; Sjödin, H.; Wilder-Smith, A.</td>\n",
       "      <td>COVID-19 outbreak on the Diamond Princess crui...</td>\n",
       "      <td>Journal of Travel Medicine</td>\n",
       "      <td>2020</td>\n",
       "    </tr>\n",
       "  </tbody>\n",
       "</table>\n",
       "</div>"
      ],
      "text/plain": [
       "                                   paper_id  ... publish_time\n",
       "2  210a892deb1c61577f6fba58505fd65356ce6636  ...         2020\n",
       "3  e3b40cc8e0e137c416b4a2273a4dca94ae8178cc  ...         2020\n",
       "5  0df0d5270a9399cf4e23c0cdd877a80616a9725e  ...         2020\n",
       "6  f24242580be243d5fc3f432915d86af6854bb8b7  ...         2020\n",
       "8  e1b336d8be1a4c0ccc5a1bf41e48b3b004d3ece1  ...         2020\n",
       "\n",
       "[5 rows x 6 columns]"
      ]
     },
     "execution_count": 7,
     "metadata": {
      "tags": []
     },
     "output_type": "execute_result"
    }
   ],
   "source": [
    "# data.frame for meta data\n",
    "import pandas as pd\n",
    "meta_df = pd.read_csv('all_sources_metadata_2020-03-13.csv',\n",
    "                      dtype={'pubmed_id': str,\n",
    "                             'Microsoft Academic Paper ID': str,\n",
    "                             'doi': str,\n",
    "                             'journal':str\n",
    "                             },\n",
    "                     low_memory=False)\n",
    "print(len(meta_df)) # number of lines in meta_df_all\n",
    "df_covid =meta_df[['sha', 'abstract', 'authors', 'title',  'journal', 'publish_time']]\n",
    "df_covid=df_covid.dropna( subset=['abstract'])\n",
    "df_covid=df_covid.rename(columns={\"sha\": \"paper_id\"})\n",
    "df_covid.head()"
   ]
  },
  {
   "cell_type": "code",
   "execution_count": null,
   "metadata": {
    "colab": {
     "base_uri": "https://localhost:8080/",
     "height": 161
    },
    "id": "lvI74A1-pva0",
    "outputId": "ede41d89-fe17-4573-960d-a63d2dd9834e"
   },
   "outputs": [],
   "source": [
    "df.shape"
   ]
  },
  {
   "cell_type": "code",
   "execution_count": 9,
   "metadata": {
    "colab": {
     "base_uri": "https://localhost:8080/",
     "height": 157
    },
    "id": "HbS7A4_bUxfj",
    "outputId": "382ac4ff-65d6-4ec9-dd49-a817a8957a70"
   },
   "outputs": [
    {
     "name": "stdout",
     "output_type": "stream",
     "text": [
      "Number of English Articles: 26879/26909\n"
     ]
    },
    {
     "data": {
      "text/html": [
       "<div>\n",
       "<style scoped>\n",
       "    .dataframe tbody tr th:only-of-type {\n",
       "        vertical-align: middle;\n",
       "    }\n",
       "\n",
       "    .dataframe tbody tr th {\n",
       "        vertical-align: top;\n",
       "    }\n",
       "\n",
       "    .dataframe thead th {\n",
       "        text-align: right;\n",
       "    }\n",
       "</style>\n",
       "<table border=\"1\" class=\"dataframe\">\n",
       "  <thead>\n",
       "    <tr style=\"text-align: right;\">\n",
       "      <th></th>\n",
       "      <th>paper_id</th>\n",
       "      <th>abstract</th>\n",
       "      <th>authors</th>\n",
       "      <th>title</th>\n",
       "      <th>journal</th>\n",
       "      <th>publish_time</th>\n",
       "    </tr>\n",
       "  </thead>\n",
       "  <tbody>\n",
       "    <tr>\n",
       "      <th>2</th>\n",
       "      <td>210a892deb1c61577f6fba58505fd65356ce6636</td>\n",
       "      <td>The geographic spread of 2019 novel coronaviru...</td>\n",
       "      <td>Linton, M. Natalie; Kobayashi, Tetsuro; Yang, ...</td>\n",
       "      <td>Incubation Period and Other Epidemiological Ch...</td>\n",
       "      <td>Journal of Clinical Medicine</td>\n",
       "      <td>2020</td>\n",
       "    </tr>\n",
       "    <tr>\n",
       "      <th>3</th>\n",
       "      <td>e3b40cc8e0e137c416b4a2273a4dca94ae8178cc</td>\n",
       "      <td>In December 2019, cases of unidentified pneumo...</td>\n",
       "      <td>Deng, Sheng-Qun; Peng, Hong-Juan</td>\n",
       "      <td>Characteristics of and Public Health Responses...</td>\n",
       "      <td>J Clin Med</td>\n",
       "      <td>2020</td>\n",
       "    </tr>\n",
       "  </tbody>\n",
       "</table>\n",
       "</div>"
      ],
      "text/plain": [
       "                                   paper_id  ... publish_time\n",
       "2  210a892deb1c61577f6fba58505fd65356ce6636  ...         2020\n",
       "3  e3b40cc8e0e137c416b4a2273a4dca94ae8178cc  ...         2020\n",
       "\n",
       "[2 rows x 6 columns]"
      ]
     },
     "execution_count": 9,
     "metadata": {
      "tags": []
     },
     "output_type": "execute_result"
    }
   ],
   "source": [
    "# function to check if text of certain column in dataframe is written in certain language \n",
    "def is_lang(row, item, lang, dropNA=True):\n",
    "    if (row[item] != None and row[item] != '' and row[item] != 'None' and isinstance(row[item], str)):\n",
    "        try:\n",
    "            return detect(row[item]) == lang\n",
    "        except Exception as e:\n",
    "            #print(\"Non-readable entity will be droped from data.frame\")\n",
    "            return False\n",
    "    else:\n",
    "        return not dropNA\n",
    "\n",
    "# select article written in certain language \n",
    "def select_article_lang_multi(df, basedon='abstract', lang='en'):\n",
    "    return df[df.parallel_apply(lambda text: is_lang(text, basedon, lang), axis=1)]\n",
    "\n",
    "df_covid_eng = select_article_lang_multi(df_covid)\n",
    "print('Number of English Articles: {}/{}'.format(len(df_covid_eng), len(df_covid)))\n",
    "df_covid_eng.head(n=2)"
   ]
  },
  {
   "cell_type": "code",
   "execution_count": 10,
   "metadata": {
    "id": "bta2AyN3o58W"
   },
   "outputs": [],
   "source": [
    "## text level processors\n",
    "def replace_brackets_with_whitespace(text):\n",
    "    text = text.replace('(', '')\n",
    "    text = text.replace(')', '')\n",
    "    text = text.replace('[', '')\n",
    "    text = text.replace(']', '')\n",
    "    return text\n",
    "\n",
    "\n",
    "# remove special characters\n",
    "def strip_characters(text):\n",
    "    t = re.sub('\\(|\\)|:|,|;|\\.|’||“|\\?|%|>|<', '', text)\n",
    "    t = re.sub('/', ' ', t)\n",
    "    t = t.replace(\"'\",'')\n",
    "    return t\n",
    "\n",
    "## word level processors:\n",
    "def to_lowercase(word):\n",
    "    return word.lower()\n",
    "\n",
    "def do_stemming(stemmer):\n",
    "    return lambda word: stemmer.stem(word)\n",
    "\n",
    "def do_lemmatizing(lemmatizer):\n",
    "    return lambda word: lemmatizer.lemmatize(word, pos='v') \n",
    "\n",
    "# help function to test if word is stopword\n",
    "def is_stopword(word):\n",
    "    return word in stopwords.words('english')\n",
    "\n",
    "# function to process word\n",
    "def process_word_by(word_cleanner, uniqueYN):\n",
    "    def cond(word):\n",
    "        return (len(word) > 1 and\n",
    "                not is_stopword(word) and\n",
    "                not word.isnumeric() and\n",
    "                word.isalnum() and\n",
    "                word != len(word) * word[0])\n",
    "\n",
    "    def clean_byword(text):\n",
    "        return list(take_unique(uniqueYN)((word_cleanner(word) for word in text if cond(word))))\n",
    "\n",
    "    return clean_byword\n",
    "\n",
    "# function to decide making a set (unique words) from text or not\n",
    "def take_unique(YN):\n",
    "    return set if YN else lambda x:x\n",
    "def compose(*funcs):\n",
    "    *funcs, penultimate, last = funcs\n",
    "    if funcs:\n",
    "        penultimate = compose(*funcs, penultimate)\n",
    "    return lambda *args: penultimate(last(*args))\n",
    "# function to pre_processing the text\n",
    "## compose text and word processors by combine every individual processor together \n",
    "text_processor = compose(replace_brackets_with_whitespace, strip_characters)\n",
    "word_processor = compose(to_lowercase, do_lemmatizing(WordNetLemmatizer()), do_stemming(PorterStemmer())) # it is crucial to do stemming after lemmatization\n",
    "\n",
    "## pre_processing function taking a dataframe and text and word processor functions as input and clean the text and tokenize the specified column\n",
    "def pre_processing(df, text_tools, word_tools):\n",
    "    def inner(col, uniqueYN=False):\n",
    "        return df[col].parallel_apply(text_tools).parallel_apply(nltk.word_tokenize).parallel_apply(process_word_by(word_tools,uniqueYN=uniqueYN))\n",
    "    return inner"
   ]
  },
  {
   "cell_type": "code",
   "execution_count": 11,
   "metadata": {
    "id": "Pr_90jARU76a"
   },
   "outputs": [],
   "source": [
    "tokenized_df = df_covid_eng.sort_values(by='publish_time', ascending=False)\n",
    "tokenized_df=tokenized_df[0:1000]"
   ]
  },
  {
   "cell_type": "code",
   "execution_count": 12,
   "metadata": {
    "id": "_1g6Zn9PVCs5"
   },
   "outputs": [],
   "source": [
    "# created processor function with chosen text and work processors and apply it to all articles to clean and tokenize all abstracts\n",
    "processor = pre_processing(tokenized_df, text_processor, word_processor)\n",
    "tokenized_df['abstract_token'] = processor('abstract')\n",
    "# reset index (this is necessary for cosine similarity search)\n",
    "tokenized_df = tokenized_df.reset_index(drop=True)\n",
    "# Our processor function is a generic procedure to clean and tokenize any column with user specified column name, such as 'abstract' or 'body_text'\n",
    "# Because processing body_text takes too long, we only process abstract\n",
    "# tokenized_df['body_text_token'] = processor('body_text')"
   ]
  },
  {
   "cell_type": "code",
   "execution_count": 13,
   "metadata": {
    "colab": {
     "base_uri": "https://localhost:8080/",
     "height": 448
    },
    "id": "BLYPYJujWfX7",
    "outputId": "45e4a5f8-7fc8-42a4-e17d-dcf598ee3ddc"
   },
   "outputs": [
    {
     "data": {
      "image/png": "[encoded data removed]",
      "text/plain": [
       "<Figure size 1080x864 with 1 Axes>"
      ]
     },
     "metadata": {
      "needs_background": "light",
      "tags": []
     },
     "output_type": "display_data"
    }
   ],
   "source": [
    "tokenized_df['abstract_corpus'] = tokenized_df['abstract_token'].apply(lambda tokens: ' '.join(tokens))\n",
    "corpus = tokenized_df['abstract_corpus'].tolist()\n",
    "#Word cloud\n",
    "from os import path\n",
    "from PIL import Image\n",
    "from wordcloud import WordCloud, STOPWORDS, ImageColorGenerator\n",
    "import matplotlib.pyplot as plt\n",
    "%matplotlib inline\n",
    "wordcloud = WordCloud(\n",
    "                          background_color='white',\n",
    "                          stopwords=stopwords.words('english'),\n",
    "                          max_words=100,\n",
    "                          max_font_size=50, \n",
    "                          random_state=42\n",
    "                         ).generate(' '.join(corpus))\n",
    "fig = plt.figure(1)\n",
    "fig.set_size_inches(15,12)\n",
    "plt.imshow(wordcloud)\n",
    "plt.axis('off')\n",
    "plt.show()"
   ]
  },
  {
   "cell_type": "code",
   "execution_count": 14,
   "metadata": {
    "id": "zSeBJEMYWjqT"
   },
   "outputs": [],
   "source": [
    "# Function to get top n-grams\n",
    "def get_top_nK_words(corpus, K=1, n=None):\n",
    "    vec1 = CountVectorizer(max_df=0.7,stop_words=stopwords.words('english'), ngram_range=(K,K),  \n",
    "            max_features=2000).fit(corpus)\n",
    "    bag_of_words = vec1.transform(corpus)\n",
    "    sum_words = bag_of_words.sum(axis=0) \n",
    "    words_freq = [(word, sum_words[0, idx]) for word, idx in     \n",
    "                  vec1.vocabulary_.items()]\n",
    "    words_freq =sorted(words_freq, key = lambda x: x[1], \n",
    "                reverse=True)\n",
    "    return words_freq[:n]"
   ]
  },
  {
   "cell_type": "code",
   "execution_count": 15,
   "metadata": {
    "colab": {
     "base_uri": "https://localhost:8080/",
     "height": 863
    },
    "id": "_KD8-iu6o58Z",
    "outputId": "03c121a5-bcb9-44be-84c2-58019677bb98"
   },
   "outputs": [
    {
     "data": {
      "text/plain": [
       "[Text(0, 0, 'patient'),\n",
       " Text(0, 0, 'case'),\n",
       " Text(0, 0, 'infect'),\n",
       " Text(0, 0, 'use'),\n",
       " Text(0, 0, 'coronaviru'),\n",
       " Text(0, 0, 'diseas'),\n",
       " Text(0, 0, 'china'),\n",
       " Text(0, 0, 'jatsp'),\n",
       " Text(0, 0, 'viru'),\n",
       " Text(0, 0, 'outbreak'),\n",
       " Text(0, 0, 'studi'),\n",
       " Text(0, 0, 'result'),\n",
       " Text(0, 0, 'sever'),\n",
       " Text(0, 0, 'wuhan'),\n",
       " Text(0, 0, 'cell'),\n",
       " Text(0, 0, 'model'),\n",
       " Text(0, 0, 'respiratori'),\n",
       " Text(0, 0, 'clinic'),\n",
       " Text(0, 0, 'data'),\n",
       " Text(0, 0, 'number')]"
      ]
     },
     "execution_count": 15,
     "metadata": {
      "tags": []
     },
     "output_type": "execute_result"
    },
    {
     "data": {
      "image/png": "[encoded data removed]",
      "text/plain": [
       "<Figure size 936x576 with 1 Axes>"
      ]
     },
     "metadata": {
      "tags": []
     },
     "output_type": "display_data"
    }
   ],
   "source": [
    "#Convert most freq words to dataframe for plotting bar plot\n",
    "top_words = get_top_nK_words(corpus, K=1, n=20)\n",
    "top_df = pd.DataFrame(top_words)\n",
    "top_df.columns=[\"Word\", \"Freq\"]\n",
    "#Barplot of most freq words\n",
    "sns.set(rc={'figure.figsize':(13,8)})\n",
    "g = sns.barplot(x=\"Word\", y=\"Freq\", data=top_df)\n",
    "g.set_xticklabels(g.get_xticklabels(), rotation=30)"
   ]
  },
  {
   "cell_type": "code",
   "execution_count": 16,
   "metadata": {
    "colab": {
     "base_uri": "https://localhost:8080/",
     "height": 926
    },
    "id": "TVTJ7xkKo58b",
    "outputId": "1314087d-b1af-4405-fb54-d012b62982a4"
   },
   "outputs": [
    {
     "name": "stdout",
     "output_type": "stream",
     "text": [
      "                Bi-gram  Freq\n",
      "0      novel coronaviru   307\n",
      "1         public health   189\n",
      "2   respiratori syndrom   176\n",
      "3      acut respiratori   162\n",
      "4          confirm case   148\n",
      "5           host factor   134\n",
      "6           wuhan china   132\n",
      "7     coronaviru diseas   127\n",
      "8         hubei provinc   127\n",
      "9            sever acut   122\n",
      "10     jatsp background   109\n",
      "11       infecti diseas   105\n",
      "12     reproduct number   103\n",
      "13   syndrom coronaviru    88\n",
      "14         incub period    79\n",
      "15           wuhan citi    71\n",
      "16            thi studi    71\n",
      "17         nucleic acid    70\n",
      "18    coronaviru infect    68\n",
      "19        immun respons    66\n"
     ]
    },
    {
     "data": {
      "image/png": "[encoded data removed]",
      "text/plain": [
       "<Figure size 936x576 with 1 Axes>"
      ]
     },
     "metadata": {
      "tags": []
     },
     "output_type": "display_data"
    }
   ],
   "source": [
    "# Top bi-grams\n",
    "top2_words = get_top_nK_words(corpus, K=2, n=20)\n",
    "top2_df = pd.DataFrame(top2_words)\n",
    "top2_df.columns=[\"Bi-gram\", \"Freq\"]\n",
    "print(top2_df)\n",
    "#Barplot of most freq Bi-grams\n",
    "import seaborn as sns\n",
    "sns.set(rc={'figure.figsize':(13,8)})\n",
    "h=sns.barplot(x=\"Bi-gram\", y=\"Freq\", data=top2_df)\n",
    "h.set_xticklabels(h.get_xticklabels(), rotation=45)\n",
    "fig = h.get_figure()"
   ]
  },
  {
   "cell_type": "code",
   "execution_count": 17,
   "metadata": {
    "colab": {
     "base_uri": "https://localhost:8080/",
     "height": 971
    },
    "id": "hgPWvBKUo58e",
    "outputId": "8f788148-4452-4bc0-dbdc-4f8c63ec38e2"
   },
   "outputs": [
    {
     "name": "stdout",
     "output_type": "stream",
     "text": [
      "                          Tri-gram  Freq\n",
      "0           sever acut respiratori   119\n",
      "1         acut respiratori syndrom   112\n",
      "2   respiratori syndrom coronaviru    87\n",
      "3           middl east respiratori    57\n",
      "4         east respiratori syndrom    55\n",
      "5           basic reproduct number    50\n",
      "6       novel coronaviru pneumonia    46\n",
      "7               world health organ    44\n",
      "8              wuhan hubei provinc    39\n",
      "9        outbreak novel coronaviru    34\n",
      "10             public health emerg    32\n",
      "11         novel coronaviru infect    32\n",
      "12             hubei provinc china    32\n",
      "13             number confirm case    30\n",
      "14        among midwestern poultri    30\n",
      "15            identifi host factor    28\n",
      "16             identif host factor    28\n",
      "17         novel coronaviru diseas    27\n",
      "18           caus novel coronaviru    25\n",
      "19        polymeras chain reaction    25\n"
     ]
    },
    {
     "data": {
      "image/png": "[encoded data removed]",
      "text/plain": [
       "<Figure size 936x576 with 1 Axes>"
      ]
     },
     "metadata": {
      "tags": []
     },
     "output_type": "display_data"
    }
   ],
   "source": [
    "top3_words = get_top_nK_words(corpus, K=3, n=20)\n",
    "top3_df = pd.DataFrame(top3_words)\n",
    "top3_df.columns=[\"Tri-gram\", \"Freq\"]\n",
    "print(top3_df)\n",
    "#Barplot of most freq Tri-grams\n",
    "import seaborn as sns\n",
    "sns.set(rc={'figure.figsize':(13,8)})\n",
    "j=sns.barplot(x=\"Tri-gram\", y=\"Freq\", data=top3_df)\n",
    "j.set_xticklabels(j.get_xticklabels(), rotation=45)\n",
    "fig = j.get_figure()"
   ]
  },
  {
   "cell_type": "code",
   "execution_count": 18,
   "metadata": {
    "colab": {
     "base_uri": "https://localhost:8080/",
     "height": 246
    },
    "id": "KX9Y6vZ4du6n",
    "outputId": "c3febbb8-58cd-4d41-da82-7c1c9043be1d"
   },
   "outputs": [
    {
     "data": {
      "text/html": [
       "<div>\n",
       "<style scoped>\n",
       "    .dataframe tbody tr th:only-of-type {\n",
       "        vertical-align: middle;\n",
       "    }\n",
       "\n",
       "    .dataframe tbody tr th {\n",
       "        vertical-align: top;\n",
       "    }\n",
       "\n",
       "    .dataframe thead th {\n",
       "        text-align: right;\n",
       "    }\n",
       "</style>\n",
       "<table border=\"1\" class=\"dataframe\">\n",
       "  <thead>\n",
       "    <tr style=\"text-align: right;\">\n",
       "      <th></th>\n",
       "      <th>1ab</th>\n",
       "      <th>50</th>\n",
       "      <th>90th</th>\n",
       "      <th>99th</th>\n",
       "      <th>abil</th>\n",
       "      <th>abl</th>\n",
       "      <th>abund</th>\n",
       "      <th>account</th>\n",
       "      <th>accumul</th>\n",
       "      <th>accur</th>\n",
       "      <th>accuraci</th>\n",
       "      <th>ace2</th>\n",
       "      <th>acid</th>\n",
       "      <th>across</th>\n",
       "      <th>activ</th>\n",
       "      <th>acut</th>\n",
       "      <th>adapt</th>\n",
       "      <th>addit</th>\n",
       "      <th>adequ</th>\n",
       "      <th>adjust</th>\n",
       "      <th>adjuv</th>\n",
       "      <th>administr</th>\n",
       "      <th>adopt</th>\n",
       "      <th>aerosol</th>\n",
       "      <th>after</th>\n",
       "      <th>age</th>\n",
       "      <th>agent</th>\n",
       "      <th>agil</th>\n",
       "      <th>aim</th>\n",
       "      <th>air</th>\n",
       "      <th>airborn</th>\n",
       "      <th>align</th>\n",
       "      <th>aliphat</th>\n",
       "      <th>all</th>\n",
       "      <th>alongsid</th>\n",
       "      <th>alreadi</th>\n",
       "      <th>also</th>\n",
       "      <th>although</th>\n",
       "      <th>amino</th>\n",
       "      <th>among</th>\n",
       "      <th>...</th>\n",
       "      <th>use</th>\n",
       "      <th>util</th>\n",
       "      <th>vaccin</th>\n",
       "      <th>valid</th>\n",
       "      <th>valu</th>\n",
       "      <th>variat</th>\n",
       "      <th>vendor</th>\n",
       "      <th>ventil</th>\n",
       "      <th>via</th>\n",
       "      <th>viral</th>\n",
       "      <th>virtual</th>\n",
       "      <th>viru</th>\n",
       "      <th>virus</th>\n",
       "      <th>vitro</th>\n",
       "      <th>vivo</th>\n",
       "      <th>warrant</th>\n",
       "      <th>water</th>\n",
       "      <th>we</th>\n",
       "      <th>week</th>\n",
       "      <th>well</th>\n",
       "      <th>whether</th>\n",
       "      <th>while</th>\n",
       "      <th>whilst</th>\n",
       "      <th>whole</th>\n",
       "      <th>widespread</th>\n",
       "      <th>wildlif</th>\n",
       "      <th>window</th>\n",
       "      <th>wish</th>\n",
       "      <th>withdraw</th>\n",
       "      <th>within</th>\n",
       "      <th>women</th>\n",
       "      <th>work</th>\n",
       "      <th>worldwid</th>\n",
       "      <th>would</th>\n",
       "      <th>wuchang</th>\n",
       "      <th>wuhan</th>\n",
       "      <th>year</th>\n",
       "      <th>yearsiqr</th>\n",
       "      <th>yet</th>\n",
       "      <th>yunnan</th>\n",
       "    </tr>\n",
       "  </thead>\n",
       "  <tbody>\n",
       "    <tr>\n",
       "      <th>0</th>\n",
       "      <td>0.00000</td>\n",
       "      <td>0.0</td>\n",
       "      <td>0.0</td>\n",
       "      <td>0.0</td>\n",
       "      <td>0.0</td>\n",
       "      <td>0.0</td>\n",
       "      <td>0.000000</td>\n",
       "      <td>0.0</td>\n",
       "      <td>0.0</td>\n",
       "      <td>0.000000</td>\n",
       "      <td>0.0</td>\n",
       "      <td>0.259563</td>\n",
       "      <td>0.000000</td>\n",
       "      <td>0.000000</td>\n",
       "      <td>0.0</td>\n",
       "      <td>0.000000</td>\n",
       "      <td>0.000000</td>\n",
       "      <td>0.107277</td>\n",
       "      <td>0.0</td>\n",
       "      <td>0.0</td>\n",
       "      <td>0.0</td>\n",
       "      <td>0.0</td>\n",
       "      <td>0.0</td>\n",
       "      <td>0.0</td>\n",
       "      <td>0.0</td>\n",
       "      <td>0.0</td>\n",
       "      <td>0.000000</td>\n",
       "      <td>0.0</td>\n",
       "      <td>0.0</td>\n",
       "      <td>0.0</td>\n",
       "      <td>0.0</td>\n",
       "      <td>0.0</td>\n",
       "      <td>0.0</td>\n",
       "      <td>0.0</td>\n",
       "      <td>0.00000</td>\n",
       "      <td>0.0</td>\n",
       "      <td>0.000000</td>\n",
       "      <td>0.000000</td>\n",
       "      <td>0.000000</td>\n",
       "      <td>0.000000</td>\n",
       "      <td>...</td>\n",
       "      <td>0.000000</td>\n",
       "      <td>0.0</td>\n",
       "      <td>0.000000</td>\n",
       "      <td>0.0</td>\n",
       "      <td>0.0</td>\n",
       "      <td>0.000000</td>\n",
       "      <td>0.0</td>\n",
       "      <td>0.0</td>\n",
       "      <td>0.0</td>\n",
       "      <td>0.000000</td>\n",
       "      <td>0.0</td>\n",
       "      <td>0.000000</td>\n",
       "      <td>0.000000</td>\n",
       "      <td>0.000000</td>\n",
       "      <td>0.0</td>\n",
       "      <td>0.0</td>\n",
       "      <td>0.0</td>\n",
       "      <td>0.0</td>\n",
       "      <td>0.0</td>\n",
       "      <td>0.0</td>\n",
       "      <td>0.000000</td>\n",
       "      <td>0.0</td>\n",
       "      <td>0.147644</td>\n",
       "      <td>0.0</td>\n",
       "      <td>0.000000</td>\n",
       "      <td>0.00000</td>\n",
       "      <td>0.000000</td>\n",
       "      <td>0.147644</td>\n",
       "      <td>0.147644</td>\n",
       "      <td>0.000000</td>\n",
       "      <td>0.0</td>\n",
       "      <td>0.295289</td>\n",
       "      <td>0.000000</td>\n",
       "      <td>0.000000</td>\n",
       "      <td>0.0</td>\n",
       "      <td>0.000000</td>\n",
       "      <td>0.0</td>\n",
       "      <td>0.0</td>\n",
       "      <td>0.000000</td>\n",
       "      <td>0.00000</td>\n",
       "    </tr>\n",
       "    <tr>\n",
       "      <th>1</th>\n",
       "      <td>0.00000</td>\n",
       "      <td>0.0</td>\n",
       "      <td>0.0</td>\n",
       "      <td>0.0</td>\n",
       "      <td>0.0</td>\n",
       "      <td>0.0</td>\n",
       "      <td>0.066609</td>\n",
       "      <td>0.0</td>\n",
       "      <td>0.0</td>\n",
       "      <td>0.055059</td>\n",
       "      <td>0.0</td>\n",
       "      <td>0.000000</td>\n",
       "      <td>0.000000</td>\n",
       "      <td>0.066609</td>\n",
       "      <td>0.0</td>\n",
       "      <td>0.000000</td>\n",
       "      <td>0.066609</td>\n",
       "      <td>0.055059</td>\n",
       "      <td>0.0</td>\n",
       "      <td>0.0</td>\n",
       "      <td>0.0</td>\n",
       "      <td>0.0</td>\n",
       "      <td>0.0</td>\n",
       "      <td>0.0</td>\n",
       "      <td>0.0</td>\n",
       "      <td>0.0</td>\n",
       "      <td>0.000000</td>\n",
       "      <td>0.0</td>\n",
       "      <td>0.0</td>\n",
       "      <td>0.0</td>\n",
       "      <td>0.0</td>\n",
       "      <td>0.0</td>\n",
       "      <td>0.0</td>\n",
       "      <td>0.0</td>\n",
       "      <td>0.00000</td>\n",
       "      <td>0.0</td>\n",
       "      <td>0.000000</td>\n",
       "      <td>0.000000</td>\n",
       "      <td>0.000000</td>\n",
       "      <td>0.000000</td>\n",
       "      <td>...</td>\n",
       "      <td>0.037231</td>\n",
       "      <td>0.0</td>\n",
       "      <td>0.000000</td>\n",
       "      <td>0.0</td>\n",
       "      <td>0.0</td>\n",
       "      <td>0.133218</td>\n",
       "      <td>0.0</td>\n",
       "      <td>0.0</td>\n",
       "      <td>0.0</td>\n",
       "      <td>0.000000</td>\n",
       "      <td>0.0</td>\n",
       "      <td>0.037231</td>\n",
       "      <td>0.000000</td>\n",
       "      <td>0.000000</td>\n",
       "      <td>0.0</td>\n",
       "      <td>0.0</td>\n",
       "      <td>0.0</td>\n",
       "      <td>0.0</td>\n",
       "      <td>0.0</td>\n",
       "      <td>0.0</td>\n",
       "      <td>0.066609</td>\n",
       "      <td>0.0</td>\n",
       "      <td>0.000000</td>\n",
       "      <td>0.0</td>\n",
       "      <td>0.075777</td>\n",
       "      <td>0.00000</td>\n",
       "      <td>0.075777</td>\n",
       "      <td>0.000000</td>\n",
       "      <td>0.000000</td>\n",
       "      <td>0.066609</td>\n",
       "      <td>0.0</td>\n",
       "      <td>0.000000</td>\n",
       "      <td>0.000000</td>\n",
       "      <td>0.055059</td>\n",
       "      <td>0.0</td>\n",
       "      <td>0.078773</td>\n",
       "      <td>0.0</td>\n",
       "      <td>0.0</td>\n",
       "      <td>0.000000</td>\n",
       "      <td>0.00000</td>\n",
       "    </tr>\n",
       "    <tr>\n",
       "      <th>2</th>\n",
       "      <td>0.00000</td>\n",
       "      <td>0.0</td>\n",
       "      <td>0.0</td>\n",
       "      <td>0.0</td>\n",
       "      <td>0.0</td>\n",
       "      <td>0.0</td>\n",
       "      <td>0.000000</td>\n",
       "      <td>0.0</td>\n",
       "      <td>0.0</td>\n",
       "      <td>0.000000</td>\n",
       "      <td>0.0</td>\n",
       "      <td>0.000000</td>\n",
       "      <td>0.000000</td>\n",
       "      <td>0.000000</td>\n",
       "      <td>0.0</td>\n",
       "      <td>0.000000</td>\n",
       "      <td>0.000000</td>\n",
       "      <td>0.000000</td>\n",
       "      <td>0.0</td>\n",
       "      <td>0.0</td>\n",
       "      <td>0.0</td>\n",
       "      <td>0.0</td>\n",
       "      <td>0.0</td>\n",
       "      <td>0.0</td>\n",
       "      <td>0.0</td>\n",
       "      <td>0.0</td>\n",
       "      <td>0.077283</td>\n",
       "      <td>0.0</td>\n",
       "      <td>0.0</td>\n",
       "      <td>0.0</td>\n",
       "      <td>0.0</td>\n",
       "      <td>0.0</td>\n",
       "      <td>0.0</td>\n",
       "      <td>0.0</td>\n",
       "      <td>0.08792</td>\n",
       "      <td>0.0</td>\n",
       "      <td>0.000000</td>\n",
       "      <td>0.077283</td>\n",
       "      <td>0.000000</td>\n",
       "      <td>0.000000</td>\n",
       "      <td>...</td>\n",
       "      <td>0.000000</td>\n",
       "      <td>0.0</td>\n",
       "      <td>0.000000</td>\n",
       "      <td>0.0</td>\n",
       "      <td>0.0</td>\n",
       "      <td>0.000000</td>\n",
       "      <td>0.0</td>\n",
       "      <td>0.0</td>\n",
       "      <td>0.0</td>\n",
       "      <td>0.165166</td>\n",
       "      <td>0.0</td>\n",
       "      <td>0.086396</td>\n",
       "      <td>0.000000</td>\n",
       "      <td>0.077283</td>\n",
       "      <td>0.0</td>\n",
       "      <td>0.0</td>\n",
       "      <td>0.0</td>\n",
       "      <td>0.0</td>\n",
       "      <td>0.0</td>\n",
       "      <td>0.0</td>\n",
       "      <td>0.000000</td>\n",
       "      <td>0.0</td>\n",
       "      <td>0.000000</td>\n",
       "      <td>0.0</td>\n",
       "      <td>0.000000</td>\n",
       "      <td>0.00000</td>\n",
       "      <td>0.000000</td>\n",
       "      <td>0.000000</td>\n",
       "      <td>0.000000</td>\n",
       "      <td>0.000000</td>\n",
       "      <td>0.0</td>\n",
       "      <td>0.000000</td>\n",
       "      <td>0.077283</td>\n",
       "      <td>0.000000</td>\n",
       "      <td>0.0</td>\n",
       "      <td>0.000000</td>\n",
       "      <td>0.0</td>\n",
       "      <td>0.0</td>\n",
       "      <td>0.175841</td>\n",
       "      <td>0.00000</td>\n",
       "    </tr>\n",
       "    <tr>\n",
       "      <th>3</th>\n",
       "      <td>0.00000</td>\n",
       "      <td>0.0</td>\n",
       "      <td>0.0</td>\n",
       "      <td>0.0</td>\n",
       "      <td>0.0</td>\n",
       "      <td>0.0</td>\n",
       "      <td>0.000000</td>\n",
       "      <td>0.0</td>\n",
       "      <td>0.0</td>\n",
       "      <td>0.000000</td>\n",
       "      <td>0.0</td>\n",
       "      <td>0.000000</td>\n",
       "      <td>0.000000</td>\n",
       "      <td>0.000000</td>\n",
       "      <td>0.0</td>\n",
       "      <td>0.063394</td>\n",
       "      <td>0.000000</td>\n",
       "      <td>0.068525</td>\n",
       "      <td>0.0</td>\n",
       "      <td>0.0</td>\n",
       "      <td>0.0</td>\n",
       "      <td>0.0</td>\n",
       "      <td>0.0</td>\n",
       "      <td>0.0</td>\n",
       "      <td>0.0</td>\n",
       "      <td>0.0</td>\n",
       "      <td>0.000000</td>\n",
       "      <td>0.0</td>\n",
       "      <td>0.0</td>\n",
       "      <td>0.0</td>\n",
       "      <td>0.0</td>\n",
       "      <td>0.0</td>\n",
       "      <td>0.0</td>\n",
       "      <td>0.0</td>\n",
       "      <td>0.00000</td>\n",
       "      <td>0.0</td>\n",
       "      <td>0.074804</td>\n",
       "      <td>0.000000</td>\n",
       "      <td>0.000000</td>\n",
       "      <td>0.000000</td>\n",
       "      <td>...</td>\n",
       "      <td>0.000000</td>\n",
       "      <td>0.0</td>\n",
       "      <td>0.074804</td>\n",
       "      <td>0.0</td>\n",
       "      <td>0.0</td>\n",
       "      <td>0.000000</td>\n",
       "      <td>0.0</td>\n",
       "      <td>0.0</td>\n",
       "      <td>0.0</td>\n",
       "      <td>0.118112</td>\n",
       "      <td>0.0</td>\n",
       "      <td>0.000000</td>\n",
       "      <td>0.000000</td>\n",
       "      <td>0.000000</td>\n",
       "      <td>0.0</td>\n",
       "      <td>0.0</td>\n",
       "      <td>0.0</td>\n",
       "      <td>0.0</td>\n",
       "      <td>0.0</td>\n",
       "      <td>0.0</td>\n",
       "      <td>0.000000</td>\n",
       "      <td>0.0</td>\n",
       "      <td>0.000000</td>\n",
       "      <td>0.0</td>\n",
       "      <td>0.000000</td>\n",
       "      <td>0.00000</td>\n",
       "      <td>0.000000</td>\n",
       "      <td>0.000000</td>\n",
       "      <td>0.000000</td>\n",
       "      <td>0.000000</td>\n",
       "      <td>0.0</td>\n",
       "      <td>0.000000</td>\n",
       "      <td>0.000000</td>\n",
       "      <td>0.068525</td>\n",
       "      <td>0.0</td>\n",
       "      <td>0.000000</td>\n",
       "      <td>0.0</td>\n",
       "      <td>0.0</td>\n",
       "      <td>0.000000</td>\n",
       "      <td>0.00000</td>\n",
       "    </tr>\n",
       "    <tr>\n",
       "      <th>4</th>\n",
       "      <td>0.09027</td>\n",
       "      <td>0.0</td>\n",
       "      <td>0.0</td>\n",
       "      <td>0.0</td>\n",
       "      <td>0.0</td>\n",
       "      <td>0.0</td>\n",
       "      <td>0.000000</td>\n",
       "      <td>0.0</td>\n",
       "      <td>0.0</td>\n",
       "      <td>0.000000</td>\n",
       "      <td>0.0</td>\n",
       "      <td>0.079349</td>\n",
       "      <td>0.079349</td>\n",
       "      <td>0.000000</td>\n",
       "      <td>0.0</td>\n",
       "      <td>0.000000</td>\n",
       "      <td>0.000000</td>\n",
       "      <td>0.000000</td>\n",
       "      <td>0.0</td>\n",
       "      <td>0.0</td>\n",
       "      <td>0.0</td>\n",
       "      <td>0.0</td>\n",
       "      <td>0.0</td>\n",
       "      <td>0.0</td>\n",
       "      <td>0.0</td>\n",
       "      <td>0.0</td>\n",
       "      <td>0.000000</td>\n",
       "      <td>0.0</td>\n",
       "      <td>0.0</td>\n",
       "      <td>0.0</td>\n",
       "      <td>0.0</td>\n",
       "      <td>0.0</td>\n",
       "      <td>0.0</td>\n",
       "      <td>0.0</td>\n",
       "      <td>0.00000</td>\n",
       "      <td>0.0</td>\n",
       "      <td>0.000000</td>\n",
       "      <td>0.079349</td>\n",
       "      <td>0.079349</td>\n",
       "      <td>0.079349</td>\n",
       "      <td>...</td>\n",
       "      <td>0.000000</td>\n",
       "      <td>0.0</td>\n",
       "      <td>0.000000</td>\n",
       "      <td>0.0</td>\n",
       "      <td>0.0</td>\n",
       "      <td>0.000000</td>\n",
       "      <td>0.0</td>\n",
       "      <td>0.0</td>\n",
       "      <td>0.0</td>\n",
       "      <td>0.000000</td>\n",
       "      <td>0.0</td>\n",
       "      <td>0.088705</td>\n",
       "      <td>0.079349</td>\n",
       "      <td>0.000000</td>\n",
       "      <td>0.0</td>\n",
       "      <td>0.0</td>\n",
       "      <td>0.0</td>\n",
       "      <td>0.0</td>\n",
       "      <td>0.0</td>\n",
       "      <td>0.0</td>\n",
       "      <td>0.000000</td>\n",
       "      <td>0.0</td>\n",
       "      <td>0.000000</td>\n",
       "      <td>0.0</td>\n",
       "      <td>0.000000</td>\n",
       "      <td>0.09027</td>\n",
       "      <td>0.000000</td>\n",
       "      <td>0.000000</td>\n",
       "      <td>0.000000</td>\n",
       "      <td>0.000000</td>\n",
       "      <td>0.0</td>\n",
       "      <td>0.000000</td>\n",
       "      <td>0.000000</td>\n",
       "      <td>0.000000</td>\n",
       "      <td>0.0</td>\n",
       "      <td>0.000000</td>\n",
       "      <td>0.0</td>\n",
       "      <td>0.0</td>\n",
       "      <td>0.000000</td>\n",
       "      <td>0.09027</td>\n",
       "    </tr>\n",
       "  </tbody>\n",
       "</table>\n",
       "<p>5 rows × 826 columns</p>\n",
       "</div>"
      ],
      "text/plain": [
       "       1ab   50  90th  99th  abil  ...     wuhan  year  yearsiqr       yet   yunnan\n",
       "0  0.00000  0.0   0.0   0.0   0.0  ...  0.000000   0.0       0.0  0.000000  0.00000\n",
       "1  0.00000  0.0   0.0   0.0   0.0  ...  0.078773   0.0       0.0  0.000000  0.00000\n",
       "2  0.00000  0.0   0.0   0.0   0.0  ...  0.000000   0.0       0.0  0.175841  0.00000\n",
       "3  0.00000  0.0   0.0   0.0   0.0  ...  0.000000   0.0       0.0  0.000000  0.00000\n",
       "4  0.09027  0.0   0.0   0.0   0.0  ...  0.000000   0.0       0.0  0.000000  0.09027\n",
       "\n",
       "[5 rows x 826 columns]"
      ]
     },
     "execution_count": 18,
     "metadata": {
      "tags": []
     },
     "output_type": "execute_result"
    }
   ],
   "source": [
    "# compute TF-IDF scores for word vectors\n",
    "def tfidf_(df):\n",
    "    myvectorizer = TfidfVectorizer()\n",
    "    vectors = myvectorizer.fit_transform(df['abstract_token'].parallel_apply(lambda x:' '.join(x))).toarray()\n",
    "    feature_names = myvectorizer.get_feature_names()\n",
    "    veclist = vectors.tolist()\n",
    "    out_tfidf = pd.DataFrame(veclist, columns=feature_names)\n",
    "    return out_tfidf\n",
    "\n",
    "tfidf_(tokenized_df[:20]).head()"
   ]
  },
  {
   "cell_type": "code",
   "execution_count": 34,
   "metadata": {
    "colab": {
     "base_uri": "https://localhost:8080/",
     "height": 197
    },
    "id": "Ek9uZu5Dd1BO",
    "outputId": "80c3dcef-705a-4da1-97d8-a27b774fcff4"
   },
   "outputs": [
    {
     "data": {
      "text/html": [
       "<div>\n",
       "<style scoped>\n",
       "    .dataframe tbody tr th:only-of-type {\n",
       "        vertical-align: middle;\n",
       "    }\n",
       "\n",
       "    .dataframe tbody tr th {\n",
       "        vertical-align: top;\n",
       "    }\n",
       "\n",
       "    .dataframe thead th {\n",
       "        text-align: right;\n",
       "    }\n",
       "</style>\n",
       "<table border=\"1\" class=\"dataframe\">\n",
       "  <thead>\n",
       "    <tr style=\"text-align: right;\">\n",
       "      <th></th>\n",
       "      <th>Max1</th>\n",
       "      <th>Max2</th>\n",
       "      <th>Max3</th>\n",
       "      <th>Max4</th>\n",
       "      <th>Max5</th>\n",
       "      <th>Max6</th>\n",
       "      <th>Max7</th>\n",
       "      <th>Max8</th>\n",
       "      <th>Max9</th>\n",
       "      <th>Max10</th>\n",
       "      <th>Max11</th>\n",
       "      <th>Max12</th>\n",
       "      <th>Max13</th>\n",
       "      <th>Max14</th>\n",
       "      <th>Max15</th>\n",
       "    </tr>\n",
       "  </thead>\n",
       "  <tbody>\n",
       "    <tr>\n",
       "      <th>0</th>\n",
       "      <td>acid</td>\n",
       "      <td>ace2</td>\n",
       "      <td>wish</td>\n",
       "      <td>withdraw</td>\n",
       "      <td>accuraci</td>\n",
       "      <td>accur</td>\n",
       "      <td>work</td>\n",
       "      <td>accumul</td>\n",
       "      <td>account</td>\n",
       "      <td>abund</td>\n",
       "      <td>abl</td>\n",
       "      <td>abil</td>\n",
       "      <td>99th</td>\n",
       "      <td>90th</td>\n",
       "      <td>yunnan</td>\n",
       "    </tr>\n",
       "    <tr>\n",
       "      <th>1</th>\n",
       "      <td>ace2</td>\n",
       "      <td>window</td>\n",
       "      <td>accuraci</td>\n",
       "      <td>accur</td>\n",
       "      <td>within</td>\n",
       "      <td>accumul</td>\n",
       "      <td>account</td>\n",
       "      <td>abund</td>\n",
       "      <td>would</td>\n",
       "      <td>abl</td>\n",
       "      <td>wuhan</td>\n",
       "      <td>abil</td>\n",
       "      <td>99th</td>\n",
       "      <td>90th</td>\n",
       "      <td>yunnan</td>\n",
       "    </tr>\n",
       "    <tr>\n",
       "      <th>2</th>\n",
       "      <td>across</td>\n",
       "      <td>acid</td>\n",
       "      <td>ace2</td>\n",
       "      <td>accuraci</td>\n",
       "      <td>accur</td>\n",
       "      <td>accumul</td>\n",
       "      <td>account</td>\n",
       "      <td>worldwid</td>\n",
       "      <td>abund</td>\n",
       "      <td>abl</td>\n",
       "      <td>abil</td>\n",
       "      <td>99th</td>\n",
       "      <td>90th</td>\n",
       "      <td>yet</td>\n",
       "      <td>yunnan</td>\n",
       "    </tr>\n",
       "    <tr>\n",
       "      <th>3</th>\n",
       "      <td>activ</td>\n",
       "      <td>across</td>\n",
       "      <td>acid</td>\n",
       "      <td>ace2</td>\n",
       "      <td>accuraci</td>\n",
       "      <td>accur</td>\n",
       "      <td>accumul</td>\n",
       "      <td>account</td>\n",
       "      <td>would</td>\n",
       "      <td>abund</td>\n",
       "      <td>abl</td>\n",
       "      <td>abil</td>\n",
       "      <td>99th</td>\n",
       "      <td>90th</td>\n",
       "      <td>yunnan</td>\n",
       "    </tr>\n",
       "    <tr>\n",
       "      <th>4</th>\n",
       "      <td>junction</td>\n",
       "      <td>insert</td>\n",
       "      <td>ident</td>\n",
       "      <td>evid</td>\n",
       "      <td>event</td>\n",
       "      <td>denot</td>\n",
       "      <td>contrast</td>\n",
       "      <td>complet</td>\n",
       "      <td>closest</td>\n",
       "      <td>character</td>\n",
       "      <td>caus</td>\n",
       "      <td>bind</td>\n",
       "      <td>beyond</td>\n",
       "      <td>bat</td>\n",
       "      <td>yunnan</td>\n",
       "    </tr>\n",
       "  </tbody>\n",
       "</table>\n",
       "</div>"
      ],
      "text/plain": [
       "       Max1    Max2      Max3      Max4  ... Max12   Max13 Max14   Max15\n",
       "0      acid    ace2      wish  withdraw  ...  abil    99th  90th  yunnan\n",
       "1      ace2  window  accuraci     accur  ...  abil    99th  90th  yunnan\n",
       "2    across    acid      ace2  accuraci  ...  99th    90th   yet  yunnan\n",
       "3     activ  across      acid      ace2  ...  abil    99th  90th  yunnan\n",
       "4  junction  insert     ident      evid  ...  bind  beyond   bat  yunnan\n",
       "\n",
       "[5 rows x 15 columns]"
      ]
     },
     "execution_count": 34,
     "metadata": {
      "tags": []
     },
     "output_type": "execute_result"
    }
   ],
   "source": [
    "# using sklearn is 10 times faster than self-written script\n",
    "# extract key-words with tfidf score\n",
    "tfidf_scores_df = tfidf_(tokenized_df[:20])\n",
    "N = 15 # Number of min/max values \n",
    "u = np.argpartition(tfidf_scores_df, axis=1, kth=N).values\n",
    "v = tfidf_scores_df.columns.values[u].reshape(u.shape)\n",
    "maxdf = pd.DataFrame(v[:,-N:]).rename(columns=lambda x: f'Max{x+1}')\n",
    "maxdf.head()"
   ]
  },
  {
   "cell_type": "code",
   "execution_count": 35,
   "metadata": {
    "id": "AZ0MTWCCd4gu"
   },
   "outputs": [],
   "source": [
    "def gen_vector_T(tokens):\n",
    "    Q = np.zeros((len(vocabulary)))    \n",
    "    x= tfidf.transform(tokens)\n",
    "    #print(tokens[0].split(','))\n",
    "    for token in tokens[0].split(','):\n",
    "        #print(token)\n",
    "        try:\n",
    "            ind = vocabulary.index(token)\n",
    "            Q[ind]  = x[0, tfidf.vocabulary_[token]]\n",
    "        except:\n",
    "            pass\n",
    "    return Q\n",
    "\n",
    "# calculate cosine similarity\n",
    "def cosine_sim(a, b):\n",
    "    cos_sim = np.dot(a, b)/(np.linalg.norm(a)*np.linalg.norm(b))\n",
    "    return cos_sim\n",
    "\n",
    "# Function to get transformed tfidf model\n",
    "def tfidf_tran(mydf):\n",
    "    vectorizer = TfidfVectorizer()\n",
    "    vectors = vectorizer.fit_transform(mydf['abstract_token'].parallel_apply(lambda x:' '.join(x)))\n",
    "    return vectors\n",
    "\n",
    "# Define wordLemmatizer\n",
    "# WordNetLemmatizer requires Pos tags to understand if the word is noun or verb or adjective etc. By default it is set to Noun\n",
    "def wordLemmatizer(data):\n",
    "    tag_map = defaultdict(lambda : wn.NOUN)\n",
    "    tag_map['J'] = wn.ADJ\n",
    "    tag_map['V'] = wn.VERB\n",
    "    tag_map['R'] = wn.ADV\n",
    "    file_clean_k =pd.DataFrame()\n",
    "    for index,entry in enumerate(data):\n",
    "        \n",
    "        # Declaring Empty List to store the words that follow the rules for this step\n",
    "        Final_words = []\n",
    "        # Initializing WordNetLemmatizer()\n",
    "        word_Lemmatized = WordNetLemmatizer()\n",
    "        # pos_tag function below will provide the 'tag' i.e if the word is Noun(N) or Verb(V) or something else.\n",
    "        for word, tag in nltk.pos_tag(entry):\n",
    "            # Below condition is to check for Stop words and consider only alphabets\n",
    "            if len(word)>1 and word not in stopwords.words('english') and word.isalpha():\n",
    "                word_Final = word_Lemmatized.lemmatize(word,tag_map[tag[0]])\n",
    "                Final_words.append(word_Final)\n",
    "            # The final processed set of words for each iteration will be stored in 'text_final'\n",
    "                file_clean_k.loc[index,'Keyword_final'] = str(Final_words).lower()\n",
    "                file_clean_k=file_clean_k.replace(to_replace =\"\\[.\", value = '', regex = True)\n",
    "                file_clean_k=file_clean_k.replace(to_replace =\"'\", value = '', regex = True)\n",
    "                file_clean_k=file_clean_k.replace(to_replace =\" \", value = '', regex = True)\n",
    "                file_clean_k=file_clean_k.replace(to_replace ='\\]', value = '', regex = True)\n",
    "    return file_clean_k"
   ]
  },
  {
   "cell_type": "code",
   "execution_count": 36,
   "metadata": {
    "id": "7ciLMAc4d-Bm"
   },
   "outputs": [],
   "source": [
    "def cosine_similarity_T(k, query, text_token_df):\n",
    "    preprocessed_query  = re.sub(\"\\W+\", \" \", query).strip()\n",
    "    tokens = nltk.word_tokenize(text_processor(str(preprocessed_query).lower()))\n",
    "    tokens = [word_processor(token) for token in tokens if \n",
    "              len(token) > 1 and\n",
    "              not is_stopword(token) and\n",
    "              not token.isnumeric() and\n",
    "              token.isalnum() and\n",
    "              token != len(token) * token[0]]\n",
    "    q_df = pd.DataFrame(columns=['q_clean'])\n",
    "    q_df.loc[0,'q_clean'] =tokens\n",
    "    q_df['q_clean'] = wordLemmatizer(q_df.q_clean)\n",
    "    d_cosines = []\n",
    "    #print(q_df['q_clean'])\n",
    "    query_vector = gen_vector_T(q_df['q_clean'])\n",
    "    #print(query_vector)\n",
    "    #print(q_df['q_clean'])\n",
    "    #print(sum(query_vector))\n",
    "    for d in tfidf_tran.A:\n",
    "        d_cosines.append(cosine_sim(query_vector, d))\n",
    "    #print(d_cosines)              \n",
    "    out = np.array(d_cosines).argsort()[-k:][::-1]\n",
    "    d_cosines.sort()\n",
    "    #print(out)\n",
    "    a = pd.DataFrame()\n",
    "    firsttime=True\n",
    "    for i,index in enumerate(out):\n",
    "        try:\n",
    "            a.loc[i, 'Paper ID'] = text_token_df['paper_id'][index]\n",
    "            a.loc[i,'Title'] = text_token_df['title'][index]\n",
    "            a.loc[i, 'Abstract'] = text_token_df['abstract'][index]\n",
    "        except KeyError as e:\n",
    "            if firsttime:\n",
    "                print(\"Fewer matches are found than requested {}\".format(k))\n",
    "                firsttime=not firsttime\n",
    "                pass\n",
    "    for j,simScore in enumerate(d_cosines[-k:][::-1]):\n",
    "        a.loc[j,'Score'] = simScore\n",
    "    return a"
   ]
  },
  {
   "cell_type": "code",
   "execution_count": 37,
   "metadata": {
    "colab": {
     "base_uri": "https://localhost:8080/"
    },
    "id": "SCDdZNpby9h_",
    "outputId": "be1f3cbc-5d97-46da-e7e1-01917f2535b8"
   },
   "outputs": [
    {
     "name": "stdout",
     "output_type": "stream",
     "text": [
      "[nltk_data] Downloading package averaged_perceptron_tagger to\n",
      "[nltk_data]     /root/nltk_data...\n",
      "[nltk_data]   Package averaged_perceptron_tagger is already up-to-\n",
      "[nltk_data]       date!\n"
     ]
    },
    {
     "data": {
      "text/plain": [
       "True"
      ]
     },
     "execution_count": 37,
     "metadata": {
      "tags": []
     },
     "output_type": "execute_result"
    }
   ],
   "source": [
    "\n",
    "nltk.download('averaged_perceptron_tagger')"
   ]
  },
  {
   "cell_type": "code",
   "execution_count": 40,
   "metadata": {
    "colab": {
     "base_uri": "https://localhost:8080/"
    },
    "id": "7-vCi2J4eCUX",
    "outputId": "2bdc7757-baa5-4f30-d836-18454475e82e"
   },
   "outputs": [
    {
     "name": "stdout",
     "output_type": "stream",
     "text": [
      "Fewer matches are found than requested 1000\n",
      "Fewer matches are found than requested 1000\n",
      "Fewer matches are found than requested 1000\n",
      "Fewer matches are found than requested 1000\n",
      "Fewer matches are found than requested 1000\n"
     ]
    }
   ],
   "source": [
    "vocabulary = set()\n",
    "for tokens in tokenized_df.abstract_token:\n",
    "    vocabulary.update(tokens)\n",
    "vocabulary = list(vocabulary) \n",
    " \n",
    "# Intializating the tfIdf model\n",
    "tfidf = TfidfVectorizer(vocabulary=vocabulary)\n",
    " \n",
    "# Transform the TfIdf model\n",
    "tfidf_tran=tfidf.fit_transform(tokenized_df['abstract_token'].parallel_apply(lambda x:' '.join(x)))\n",
    "tokenized_df.drop_duplicates(subset=['title'], inplace=True)    \n",
    " \n",
    "# # search engine using cosine similarity + TF-IDF\n",
    "# TFIDF_output = cosine_similarity_T(1000,' What is known about transmission, incubation, and environmental stability of coronavirus ',tokenized_df)\n",
    "# TFIDF_output_significant = TFIDF_output[TFIDF_output['Score'] > 0]\n",
    "# TFIDF_output_significant.head(10)\n",
    "\n",
    "TFIDF_output_1 = cosine_similarity_T(1000,' What is known about transmission, incubation, and environmental stability of coronavirus ',tokenized_df)\n",
    "TFIDF_output_significant_1 = TFIDF_output_1[TFIDF_output_1['Score'] > 0]\n",
    "TFIDF_output_2 = cosine_similarity_T(1000,'What do we know about coronavirus risk factors',tokenized_df)\n",
    "TFIDF_output_significant_2 = TFIDF_output_2[TFIDF_output_2['Score'] > 0]\n",
    "TFIDF_output_3 = cosine_similarity_T(1000,' What do we know about coronavirus genetics, origin, and evolution',tokenized_df)\n",
    "TFIDF_output_significant_3 = TFIDF_output_3[TFIDF_output_3['Score'] > 0]\n",
    "TFIDF_output_4 = cosine_similarity_T(1000,' What do we know about vaccines and therapeutics for coronavirus ',tokenized_df)\n",
    "TFIDF_output_significant_4 = TFIDF_output_4[TFIDF_output_4['Score'] > 0]\n",
    "TFIDF_output_5 = cosine_similarity_T(1000,' What has been published about coronavirus medical care ',tokenized_df)\n",
    "TFIDF_output_significant_5 = TFIDF_output_5[TFIDF_output_5['Score'] > 0]\n",
    "\n",
    "TFIDF_output_1.head(20).to_csv('Model1_query_1.csv')\n",
    "TFIDF_output_2.head(20).to_csv('Model1_query_2.csv')\n",
    "TFIDF_output_3.head(20).to_csv('Model1_query_3.csv')\n",
    "TFIDF_output_4.head(20).to_csv('Model1_query_4.csv')\n",
    "TFIDF_output_5.head(20).to_csv('Model1_query_5.csv')"
   ]
  },
  {
   "cell_type": "code",
   "execution_count": null,
   "metadata": {
    "id": "gd53hwJh4Rsn"
   },
   "outputs": [],
   "source": [
    "TFIDF_output_1 = cosine_similarity_T(1000,' What is known about transmission, incubation, and environmental stability of coronavirus ',tokenized_df)\n",
    "TFIDF_output_significant_1 = TFIDF_output[TFIDF_output_1['Score'] > 0]\n",
    "TFIDF_output_2 = cosine_similarity_T(1000,'What do we know about coronavirus risk factors',tokenized_df)\n",
    "TFIDF_output_significant_2 = TFIDF_output[TFIDF_output_2['Score'] > 0]\n",
    "TFIDF_output_3 = cosine_similarity_T(1000,' What do we know about coronavirus genetics, origin, and evolution',tokenized_df)\n",
    "TFIDF_output_significant_3 = TFIDF_output[TFIDF_output_3['Score'] > 0]\n",
    "TFIDF_output_4 = cosine_similarity_T(1000,' What do we know about vaccines and therapeutics for coronavirus ',tokenized_df)\n",
    "TFIDF_output_significant_4 = TFIDF_output[TFIDF_output_4['Score'] > 0]\n",
    "TFIDF_output_5 = cosine_similarity_T(1000,' What has been published about coronavirus medical care ',tokenized_df)\n",
    "TFIDF_output_significant_5 = TFIDF_output[TFIDF_output_5['Score'] > 0]\n",
    "\n",
    "TFIDF_output_1.head(20).to_csv('Model1_query_1.csv')\n",
    "TFIDF_output_2.head(20).to_csv('Model1_query_2.csv')\n",
    "TFIDF_output_3.head(20).to_csv('Model1_query_3.csv')\n",
    "TFIDF_output_4.head(20).to_csv('Model1_query_4.csv')\n",
    "TFIDF_output_5.head(20).to_csv('Model1_query_5.csv')"
   ]
  },
  {
   "cell_type": "code",
   "execution_count": 41,
   "metadata": {
    "id": "VUuwLegqhUoG"
   },
   "outputs": [],
   "source": [
    "papers_to_embed = tokenized_df.copy()"
   ]
  },
  {
   "cell_type": "code",
   "execution_count": 42,
   "metadata": {
    "id": "u9T_PuIriQLa"
   },
   "outputs": [],
   "source": [
    "papers_to_embed=papers_to_embed.drop_duplicates(subset=['paper_id']).set_index('paper_id')"
   ]
  },
  {
   "cell_type": "code",
   "execution_count": 43,
   "metadata": {
    "colab": {
     "base_uri": "https://localhost:8080/",
     "height": 215,
     "referenced_widgets": [
      "94da5d09ed7b4a1788634100df706825",
      "1f2384d9ed3b48b6a369120cbf93e3ab",
      "7883a1343208439d8517f0757f9c4c6e",
      "990a597eddbd4154ac0ef708528c2fbf",
      "160da13e23fd4825a1321ace6ce1eaee",
      "26114cb8480047189f1d586c241868e9",
      "c5d5a7681ee44d27be7370f07bbd1f25",
      "958c3d7f991c40b991efee6088feef8a"
     ]
    },
    "id": "OBd9lMjMgoif",
    "outputId": "f05a129d-0277-417d-836f-1548bbf86663"
   },
   "outputs": [
    {
     "name": "stderr",
     "output_type": "stream",
     "text": [
      "Splitting abstracts into sentences: 100%|██████████| 213/213 [00:00<00:00, 2324.33it/s]"
     ]
    },
    {
     "name": "stdout",
     "output_type": "stream",
     "text": [
      "                                   paper_id  ...                                    abstract_corpus\n",
      "0  3083af632db7cfbddd6ac1b939fcf076d545e783  ...  infecti diseas still major threat world today ...\n",
      "1  9c2aa72aa0640f5224c2663ae55c35f75b8889c6  ...  virus infect host cell sinc dawn life extrem c...\n",
      "2  17b715fd64ea139c0ed35b555de365b47585da64  ...  today world character increas popul densiti hu...\n",
      "3  cfe337afa069a02e96adf6894819e7928f8c4534  ...  background acquir myasthenia gravi amg increas...\n",
      "4  b4e276ce333eefee623e9d425f5c538c64b567cc  ...  biolog mass spectrometri evolv core analyt tec...\n",
      "\n",
      "[5 rows x 8 columns]\n"
     ]
    },
    {
     "name": "stderr",
     "output_type": "stream",
     "text": [
      "\n"
     ]
    },
    {
     "data": {
      "application/vnd.jupyter.widget-view+json": {
       "model_id": "94da5d09ed7b4a1788634100df706825",
       "version_major": 2,
       "version_minor": 0
      },
      "text/plain": [
       "HBox(children=(FloatProgress(value=0.0, description='Batches', max=19.0, style=ProgressStyle(description_width…"
      ]
     },
     "metadata": {
      "tags": []
     },
     "output_type": "display_data"
    },
    {
     "name": "stdout",
     "output_type": "stream",
     "text": [
      "\n"
     ]
    }
   ],
   "source": [
    "papers_to_embed=papers_to_embed.dropna().reset_index()\n",
    "print(papers_to_embed.head())\n",
    "tqdm.pandas(desc='Splitting abstracts into sentences')\n",
    "papers_to_embed['abstract_sentence'] = papers_to_embed[\n",
    "    'abstract'].progress_apply(tokenize.sent_tokenize)\n",
    "embedder = SentenceTransformer('bert-base-nli-mean-tokens')\n",
    "sent_to_embed_abstr = list(itertools.chain(\n",
    "    *papers_to_embed['abstract_sentence']))\n",
    "\n",
    "abstract_embed = np.array(embedder.encode(\n",
    "    sent_to_embed_abstr, batch_size=100, show_progress_bar=True))\n"
   ]
  },
  {
   "cell_type": "code",
   "execution_count": 28,
   "metadata": {
    "colab": {
     "base_uri": "https://localhost:8080/",
     "height": 65,
     "referenced_widgets": [
      "d6cbaecafe6e4ffd8abf7c79768139e3",
      "c40bca8a7cf34bcdbc1120158e87c423",
      "635f3128e02c46b4a11c90e9855431d3",
      "db7b0828d5ca4eae80421c1573b4a7e4",
      "3d6487990a1c4f9bb0da2ad73102b38e",
      "2ca44e1b65e84897ae2f015d83e07baa",
      "a8493b3c338f43b28426860b35e7dd7d",
      "04e53bd5adec417cb3390098479c8fa2"
     ]
    },
    "id": "d-R7skWKhAQY",
    "outputId": "ebc68fcb-9212-4c7c-cc0f-681d2a3feb9e"
   },
   "outputs": [
    {
     "data": {
      "application/vnd.jupyter.widget-view+json": {
       "model_id": "d6cbaecafe6e4ffd8abf7c79768139e3",
       "version_major": 2,
       "version_minor": 0
      },
      "text/plain": [
       "HBox(children=(FloatProgress(value=0.0, description='Batches', max=1.0, style=ProgressStyle(description_width=…"
      ]
     },
     "metadata": {
      "tags": []
     },
     "output_type": "display_data"
    },
    {
     "name": "stdout",
     "output_type": "stream",
     "text": [
      "\n"
     ]
    }
   ],
   "source": [
    "questions = [\n",
    "    ('What is known about transmission, incubation, and environmental stability of coronavirus ')]\n",
    "\n",
    "questions_embed = np.array(embedder.encode(questions, batch_size=100, show_progress_bar=True))"
   ]
  },
  {
   "cell_type": "code",
   "execution_count": 63,
   "metadata": {
    "colab": {
     "base_uri": "https://localhost:8080/"
    },
    "id": "Lkyi9GPlhJHc",
    "outputId": "ead0795c-384f-4952-a28a-7621b433c0c0"
   },
   "outputs": [
    {
     "name": "stderr",
     "output_type": "stream",
     "text": [
      "Splitting abstracts into sentences: 100%|██████████| 213/213 [00:00<00:00, 46779.07it/s]\n"
     ]
    }
   ],
   "source": [
    "similarity_abstr = cosine_similarity(\n",
    "    abstract_embed, questions_embed).squeeze()\n",
    "sort_args_abstr = np.argsort(similarity_abstr)[::-1]\n",
    "sim_sort_abstr = similarity_abstr[sort_args_abstr]\n",
    "paper_id_abst = np.array(list(itertools.chain(\n",
    "    *papers_to_embed.progress_apply(\n",
    "        lambda x: [x['paper_id']] * len(x['abstract_sentence']), \n",
    "        axis=1).tolist())))\n",
    "interest_paper_id_abstr = paper_id_abst[0:213]\n",
    "interest_abstracts = papers_to_embed.set_index('paper_id').loc[\n",
    "    interest_paper_id_abstr]['abstract'].tolist()\n",
    "column_names = [\"paperID\", \"abstract\",'Score']\n",
    "df1 = pd.DataFrame(columns = column_names)\n",
    "with open('interesting_papers_based_on_abstract.txt', 'w') as f:\n",
    "    paper1=0\n",
    "    for paper, abst, metric in zip(\n",
    "        interest_paper_id_abstr, interest_abstracts, sim_sort_abstr):\n",
    "      if (paper1!=paper):\n",
    "            _ = f.write('Paper ID: ' + paper + '\\n')\n",
    "            _ = f.write('Associated abstract: ' + abst + '\\n')    \n",
    "            _ = f.write('Cosine Similarity metric: ' + '{0:.3f}'.format(metric) + '\\n')\n",
    "            _ = f.write('\\n')   \n",
    "      paper1= paper\n",
    "\n",
    "df1['paperID'] = interest_paper_id_abstr\n",
    "df1['abstract'] = interest_abstracts\n",
    "df1['Score'] = sim_sort_abstr[0:213]\n",
    "df1=df1.drop_duplicates(subset=['paperID'])\n"
   ]
  },
  {
   "cell_type": "code",
   "execution_count": 65,
   "metadata": {
    "colab": {
     "base_uri": "https://localhost:8080/",
     "height": 82,
     "referenced_widgets": [
      "0c88c371b6f947b9958360fda734e733",
      "c11b95f7dcf540c18799cf1ac293302b",
      "8246d4a2683e4ccea923664d93abfc3f",
      "471b981575574f79a5207a21a90deb4b",
      "5d0062b5898f424a9774f1813a78d997",
      "8236b74276704df4a3593c737ac309fe",
      "219f768b193543b58ac1ab49323b430e",
      "5ea135c7c0ac4bc89f963c0fa9e6ac2d"
     ]
    },
    "id": "q1EBnDuN8LZ7",
    "outputId": "84f9ca3d-e5c7-4cd6-f82c-320151bb74a5"
   },
   "outputs": [
    {
     "data": {
      "application/vnd.jupyter.widget-view+json": {
       "model_id": "0c88c371b6f947b9958360fda734e733",
       "version_major": 2,
       "version_minor": 0
      },
      "text/plain": [
       "HBox(children=(FloatProgress(value=0.0, description='Batches', max=1.0, style=ProgressStyle(description_width=…"
      ]
     },
     "metadata": {
      "tags": []
     },
     "output_type": "display_data"
    },
    {
     "name": "stderr",
     "output_type": "stream",
     "text": [
      "Splitting abstracts into sentences: 100%|██████████| 213/213 [00:00<00:00, 28420.13it/s]"
     ]
    },
    {
     "name": "stdout",
     "output_type": "stream",
     "text": [
      "\n"
     ]
    },
    {
     "name": "stderr",
     "output_type": "stream",
     "text": [
      "\n"
     ]
    }
   ],
   "source": [
    "questions = [\n",
    "    ('What do we know about coronavirus risk factors ')]\n",
    "# primaryQuestions = [\n",
    "#     \"What is known about transmission, incubation, and environmental stability of coronavirus\"\n",
    "#     #\"What do we know about coronavirus risk factors\"\n",
    "#     #\"What do we know about coronavirus genetics, origin, and evolution\"\n",
    "#     #\"What do we know about vaccines and therapeutics for coronavirus\"\n",
    "#     #\"What has been published about coronavirus medical care\"\n",
    "questions_embed = np.array(embedder.encode(questions, batch_size=100, show_progress_bar=True))\n",
    "similarity_abstr = cosine_similarity(\n",
    "    abstract_embed, questions_embed).squeeze()\n",
    "sort_args_abstr = np.argsort(similarity_abstr)[::-1]\n",
    "sim_sort_abstr = similarity_abstr[sort_args_abstr]\n",
    "paper_id_abst = np.array(list(itertools.chain(\n",
    "    *papers_to_embed.progress_apply(\n",
    "        lambda x: [x['paper_id']] * len(x['abstract_sentence']), \n",
    "        axis=1).tolist())))\n",
    "interest_paper_id_abstr = paper_id_abst[0:213]\n",
    "interest_abstracts = papers_to_embed.set_index('paper_id').loc[\n",
    "    interest_paper_id_abstr]['abstract'].tolist()\n",
    "column_names = [\"paperID\", \"abstract\",'Score']\n",
    "df2 = pd.DataFrame(columns = column_names)\n",
    "with open('interesting_papers_based_on_abstract.txt', 'w') as f:\n",
    "    paper1=0\n",
    "    for paper, abst, metric in zip(\n",
    "        interest_paper_id_abstr, interest_abstracts, sim_sort_abstr):\n",
    "      if (paper1!=paper):\n",
    "            _ = f.write('Paper ID: ' + paper + '\\n')\n",
    "            _ = f.write('Associated abstract: ' + abst + '\\n')    \n",
    "            _ = f.write('Cosine Similarity metric: ' + '{0:.3f}'.format(metric) + '\\n')\n",
    "            _ = f.write('\\n')   \n",
    "      paper1= paper\n",
    "\n",
    "df2['paperID'] = interest_paper_id_abstr\n",
    "df2['abstract'] = interest_abstracts\n",
    "df2['Score'] = sim_sort_abstr[0:213]\n",
    "df2=df2.drop_duplicates(subset=['paperID'])"
   ]
  },
  {
   "cell_type": "code",
   "execution_count": 66,
   "metadata": {
    "colab": {
     "base_uri": "https://localhost:8080/",
     "height": 82,
     "referenced_widgets": [
      "5c6e337749b3466586377153b375720a",
      "eab747aee93f43699ae89e39e2cc8757",
      "f92af5727203433cb0f9d47d2817e297",
      "fbe61d0a267645808b74a0a2da50b52f",
      "a378ccea0e9c4909ba0cfb38b5fe0ac1",
      "3c048663453548d8b1802125cefaabb5",
      "b331e4ffe6514aa88267793f7772660f",
      "3837b29efb424522a4c8895439c23e09"
     ]
    },
    "id": "zjXTmoiq8Pxx",
    "outputId": "06a40248-a2df-4624-f2ed-c3f63bfc1db6"
   },
   "outputs": [
    {
     "data": {
      "application/vnd.jupyter.widget-view+json": {
       "model_id": "5c6e337749b3466586377153b375720a",
       "version_major": 2,
       "version_minor": 0
      },
      "text/plain": [
       "HBox(children=(FloatProgress(value=0.0, description='Batches', max=1.0, style=ProgressStyle(description_width=…"
      ]
     },
     "metadata": {
      "tags": []
     },
     "output_type": "display_data"
    },
    {
     "name": "stderr",
     "output_type": "stream",
     "text": [
      "Splitting abstracts into sentences: 100%|██████████| 213/213 [00:00<00:00, 25131.84it/s]"
     ]
    },
    {
     "name": "stdout",
     "output_type": "stream",
     "text": [
      "\n"
     ]
    },
    {
     "name": "stderr",
     "output_type": "stream",
     "text": [
      "\n"
     ]
    }
   ],
   "source": [
    "questions = [\n",
    "    ('What do we know about coronavirus genetics, origin, and evolution ')]\n",
    "\n",
    "questions_embed = np.array(embedder.encode(questions, batch_size=100, show_progress_bar=True))\n",
    "similarity_abstr = cosine_similarity(\n",
    "    abstract_embed, questions_embed).squeeze()\n",
    "sort_args_abstr = np.argsort(similarity_abstr)[::-1]\n",
    "sim_sort_abstr = similarity_abstr[sort_args_abstr]\n",
    "paper_id_abst = np.array(list(itertools.chain(\n",
    "    *papers_to_embed.progress_apply(\n",
    "        lambda x: [x['paper_id']] * len(x['abstract_sentence']), \n",
    "        axis=1).tolist())))\n",
    "interest_paper_id_abstr = paper_id_abst[0:213]\n",
    "interest_abstracts = papers_to_embed.set_index('paper_id').loc[\n",
    "    interest_paper_id_abstr]['abstract'].tolist()\n",
    "column_names = [\"paperID\", \"abstract\",'Score']\n",
    "df3 = pd.DataFrame(columns = column_names)\n",
    "with open('interesting_papers_based_on_abstract.txt', 'w') as f:\n",
    "    paper1=0\n",
    "    for paper, abst, metric in zip(\n",
    "        interest_paper_id_abstr, interest_abstracts, sim_sort_abstr):\n",
    "      if (paper1!=paper):\n",
    "            _ = f.write('Paper ID: ' + paper + '\\n')\n",
    "            _ = f.write('Associated abstract: ' + abst + '\\n')    \n",
    "            _ = f.write('Cosine Similarity metric: ' + '{0:.3f}'.format(metric) + '\\n')\n",
    "            _ = f.write('\\n')   \n",
    "      paper1= paper\n",
    "\n",
    "df3['paperID'] = interest_paper_id_abstr\n",
    "df3['abstract'] = interest_abstracts\n",
    "df3['Score'] = sim_sort_abstr[0:213]\n",
    "df3=df3.drop_duplicates(subset=['paperID'])"
   ]
  },
  {
   "cell_type": "code",
   "execution_count": 67,
   "metadata": {
    "colab": {
     "base_uri": "https://localhost:8080/",
     "height": 82,
     "referenced_widgets": [
      "405ddc94b2eb4d5d9934e9d97029eef0",
      "890f66a5e6474ae1920c26afa27548d8",
      "76026fe8ec04455caf03f33b326804d9",
      "9fca5d7196304dbb84022e251ad820e3",
      "a39ad03bb5ee4d17a15930c8b6963806",
      "ffb3654895994068bc71191c77b1b3cb",
      "0d0e11b790ee440881aa63eb843ed3f3",
      "e18f41875abb4c80bce6c92f64681141"
     ]
    },
    "id": "IIr04ksm8Qio",
    "outputId": "46b27aa1-1040-4df5-ed0e-356164f3d679"
   },
   "outputs": [
    {
     "data": {
      "application/vnd.jupyter.widget-view+json": {
       "model_id": "405ddc94b2eb4d5d9934e9d97029eef0",
       "version_major": 2,
       "version_minor": 0
      },
      "text/plain": [
       "HBox(children=(FloatProgress(value=0.0, description='Batches', max=1.0, style=ProgressStyle(description_width=…"
      ]
     },
     "metadata": {
      "tags": []
     },
     "output_type": "display_data"
    },
    {
     "name": "stderr",
     "output_type": "stream",
     "text": [
      "Splitting abstracts into sentences: 100%|██████████| 213/213 [00:00<00:00, 36808.82it/s]"
     ]
    },
    {
     "name": "stdout",
     "output_type": "stream",
     "text": [
      "\n"
     ]
    },
    {
     "name": "stderr",
     "output_type": "stream",
     "text": [
      "\n"
     ]
    }
   ],
   "source": [
    "questions = [\n",
    "    ('What do we know about vaccines and therapeutics for coronavirus ')]\n",
    "\n",
    "questions_embed = np.array(embedder.encode(questions, batch_size=100, show_progress_bar=True))\n",
    "similarity_abstr = cosine_similarity(\n",
    "    abstract_embed, questions_embed).squeeze()\n",
    "sort_args_abstr = np.argsort(similarity_abstr)[::-1]\n",
    "sim_sort_abstr = similarity_abstr[sort_args_abstr]\n",
    "paper_id_abst = np.array(list(itertools.chain(\n",
    "    *papers_to_embed.progress_apply(\n",
    "        lambda x: [x['paper_id']] * len(x['abstract_sentence']), \n",
    "        axis=1).tolist())))\n",
    "interest_paper_id_abstr = paper_id_abst[0:213]\n",
    "interest_abstracts = papers_to_embed.set_index('paper_id').loc[\n",
    "    interest_paper_id_abstr]['abstract'].tolist()\n",
    "column_names = [\"paperID\", \"abstract\",'Score']\n",
    "df4 = pd.DataFrame(columns = column_names)\n",
    "with open('interesting_papers_based_on_abstract.txt', 'w') as f:\n",
    "    paper1=0\n",
    "    for paper, abst, metric in zip(\n",
    "        interest_paper_id_abstr, interest_abstracts, sim_sort_abstr):\n",
    "      if (paper1!=paper):\n",
    "            _ = f.write('Paper ID: ' + paper + '\\n')\n",
    "            _ = f.write('Associated abstract: ' + abst + '\\n')    \n",
    "            _ = f.write('Cosine Similarity metric: ' + '{0:.3f}'.format(metric) + '\\n')\n",
    "            _ = f.write('\\n')   \n",
    "      paper1= paper\n",
    "\n",
    "df4['paperID'] = interest_paper_id_abstr\n",
    "df4['abstract'] = interest_abstracts\n",
    "df4['Score'] = sim_sort_abstr[0:213]\n",
    "df4=df4.drop_duplicates(subset=['paperID'])"
   ]
  },
  {
   "cell_type": "code",
   "execution_count": 68,
   "metadata": {
    "colab": {
     "base_uri": "https://localhost:8080/",
     "height": 82,
     "referenced_widgets": [
      "5956926e9dc04dea942787bfd94db7e6",
      "60375835068b4dc9894bf94d2e501a9a",
      "bb0dfa43f3424dc8be4a5172d4a7618e",
      "bca5629249c24d7f86f4d286c255afe4",
      "8951ac790ee048c7a0fa11fdca03c2ba",
      "3e2d29f35e4849be861329dad0b2b036",
      "3121b71fc6b44945a33e8c05ef6a1e97",
      "5d65db3113004696937de54841c973d2"
     ]
    },
    "id": "CCVuI4zB8RHi",
    "outputId": "47de27ea-099a-40a4-f8db-798312fa07a4"
   },
   "outputs": [
    {
     "data": {
      "application/vnd.jupyter.widget-view+json": {
       "model_id": "5956926e9dc04dea942787bfd94db7e6",
       "version_major": 2,
       "version_minor": 0
      },
      "text/plain": [
       "HBox(children=(FloatProgress(value=0.0, description='Batches', max=1.0, style=ProgressStyle(description_width=…"
      ]
     },
     "metadata": {
      "tags": []
     },
     "output_type": "display_data"
    },
    {
     "name": "stderr",
     "output_type": "stream",
     "text": [
      "Splitting abstracts into sentences: 100%|██████████| 213/213 [00:00<00:00, 28766.96it/s]"
     ]
    },
    {
     "name": "stdout",
     "output_type": "stream",
     "text": [
      "\n"
     ]
    },
    {
     "name": "stderr",
     "output_type": "stream",
     "text": [
      "\n"
     ]
    }
   ],
   "source": [
    "questions = [\n",
    "    ('What has been published about coronavirus medical care ')]\n",
    "\n",
    "questions_embed = np.array(embedder.encode(questions, batch_size=100, show_progress_bar=True))\n",
    "similarity_abstr = cosine_similarity(\n",
    "    abstract_embed, questions_embed).squeeze()\n",
    "sort_args_abstr = np.argsort(similarity_abstr)[::-1]\n",
    "sim_sort_abstr = similarity_abstr[sort_args_abstr]\n",
    "paper_id_abst = np.array(list(itertools.chain(\n",
    "    *papers_to_embed.progress_apply(\n",
    "        lambda x: [x['paper_id']] * len(x['abstract_sentence']), \n",
    "        axis=1).tolist())))\n",
    "interest_paper_id_abstr = paper_id_abst[0:213]\n",
    "interest_abstracts = papers_to_embed.set_index('paper_id').loc[\n",
    "    interest_paper_id_abstr]['abstract'].tolist()\n",
    "column_names = [\"paperID\", \"abstract\",'Score']\n",
    "df5 = pd.DataFrame(columns = column_names)\n",
    "with open('interesting_papers_based_on_abstract.txt', 'w') as f:\n",
    "    paper1=0\n",
    "    for paper, abst, metric in zip(\n",
    "        interest_paper_id_abstr, interest_abstracts, sim_sort_abstr):\n",
    "      if (paper1!=paper):\n",
    "            _ = f.write('Paper ID: ' + paper + '\\n')\n",
    "            _ = f.write('Associated abstract: ' + abst + '\\n')    \n",
    "            _ = f.write('Cosine Similarity metric: ' + '{0:.3f}'.format(metric) + '\\n')\n",
    "            _ = f.write('\\n')   \n",
    "      paper1= paper\n",
    "\n",
    "df5['paperID'] = interest_paper_id_abstr\n",
    "df5['abstract'] = interest_abstracts\n",
    "df5['Score'] = sim_sort_abstr[0:213]\n",
    "df5=df5.drop_duplicates(subset=['paperID'])"
   ]
  },
  {
   "cell_type": "code",
   "execution_count": 69,
   "metadata": {
    "id": "GFMUk-rp7ZtY"
   },
   "outputs": [],
   "source": [
    "df1.head(20).to_csv('Model2_query_1.csv')\n",
    "df2.head(20).to_csv('Model2_query_2.csv')\n",
    "df3.head(20).to_csv('Model2_query_3.csv')\n",
    "df4.head(20).to_csv('Model2_query_4.csv')\n",
    "df5.head(20).to_csv('Model2_query_5.csv')\n"
   ]
  },
  {
   "cell_type": "code",
   "execution_count": 57,
   "metadata": {
    "colab": {
     "base_uri": "https://localhost:8080/",
     "height": 197
    },
    "id": "N3uzqBHI5ASL",
    "outputId": "7a532764-dbf5-453f-a714-821c8ce39342"
   },
   "outputs": [
    {
     "data": {
      "text/html": [
       "<div>\n",
       "<style scoped>\n",
       "    .dataframe tbody tr th:only-of-type {\n",
       "        vertical-align: middle;\n",
       "    }\n",
       "\n",
       "    .dataframe tbody tr th {\n",
       "        vertical-align: top;\n",
       "    }\n",
       "\n",
       "    .dataframe thead th {\n",
       "        text-align: right;\n",
       "    }\n",
       "</style>\n",
       "<table border=\"1\" class=\"dataframe\">\n",
       "  <thead>\n",
       "    <tr style=\"text-align: right;\">\n",
       "      <th></th>\n",
       "      <th>paperID</th>\n",
       "      <th>abstract</th>\n",
       "      <th>score</th>\n",
       "      <th>Associated abstract:</th>\n",
       "      <th>Cosine Similarity metric:</th>\n",
       "    </tr>\n",
       "  </thead>\n",
       "  <tbody>\n",
       "    <tr>\n",
       "      <th>0</th>\n",
       "      <td>3083af632db7cfbddd6ac1b939fcf076d545e783</td>\n",
       "      <td>NaN</td>\n",
       "      <td>NaN</td>\n",
       "      <td>Infectious disease is still a major threat in ...</td>\n",
       "      <td>0.775804</td>\n",
       "    </tr>\n",
       "    <tr>\n",
       "      <th>1</th>\n",
       "      <td>3083af632db7cfbddd6ac1b939fcf076d545e783</td>\n",
       "      <td>NaN</td>\n",
       "      <td>NaN</td>\n",
       "      <td>Infectious disease is still a major threat in ...</td>\n",
       "      <td>0.738151</td>\n",
       "    </tr>\n",
       "    <tr>\n",
       "      <th>2</th>\n",
       "      <td>3083af632db7cfbddd6ac1b939fcf076d545e783</td>\n",
       "      <td>NaN</td>\n",
       "      <td>NaN</td>\n",
       "      <td>Infectious disease is still a major threat in ...</td>\n",
       "      <td>0.727805</td>\n",
       "    </tr>\n",
       "    <tr>\n",
       "      <th>3</th>\n",
       "      <td>3083af632db7cfbddd6ac1b939fcf076d545e783</td>\n",
       "      <td>NaN</td>\n",
       "      <td>NaN</td>\n",
       "      <td>Infectious disease is still a major threat in ...</td>\n",
       "      <td>0.727316</td>\n",
       "    </tr>\n",
       "    <tr>\n",
       "      <th>4</th>\n",
       "      <td>3083af632db7cfbddd6ac1b939fcf076d545e783</td>\n",
       "      <td>NaN</td>\n",
       "      <td>NaN</td>\n",
       "      <td>Infectious disease is still a major threat in ...</td>\n",
       "      <td>0.715836</td>\n",
       "    </tr>\n",
       "  </tbody>\n",
       "</table>\n",
       "</div>"
      ],
      "text/plain": [
       "                                    paperID  ... Cosine Similarity metric:\n",
       "0  3083af632db7cfbddd6ac1b939fcf076d545e783  ...                  0.775804\n",
       "1  3083af632db7cfbddd6ac1b939fcf076d545e783  ...                  0.738151\n",
       "2  3083af632db7cfbddd6ac1b939fcf076d545e783  ...                  0.727805\n",
       "3  3083af632db7cfbddd6ac1b939fcf076d545e783  ...                  0.727316\n",
       "4  3083af632db7cfbddd6ac1b939fcf076d545e783  ...                  0.715836\n",
       "\n",
       "[5 rows x 5 columns]"
      ]
     },
     "execution_count": 57,
     "metadata": {
      "tags": []
     },
     "output_type": "execute_result"
    }
   ],
   "source": [
    "df1.head()"
   ]
  },
  {
   "cell_type": "code",
   "execution_count": 50,
   "metadata": {
    "colab": {
     "base_uri": "https://localhost:8080/"
    },
    "id": "a0XyG20gqzFP",
    "outputId": "a5259b1c-daea-4cdb-9c99-25dcc26b0197"
   },
   "outputs": [
    {
     "name": "stdout",
     "output_type": "stream",
     "text": [
      "Results based on abstract:\n",
      "\"\"\"\n",
      "Paper ID: 3083af632db7cfbddd6ac1b939fcf076d545e783\n",
      "Associated abstract: Infectious disease is still a major threat in the world today. Five decades ago, it was considered soon to be eradicated, but the adaptation of pathogens to environmental pressure, such as antimicrobials, encouraged the emergence and reemergence of infectious disease. The fight with infectious disease starts with prevention, diagnosis, and treatment. Diagnosis can be upheld by observing the cause of disease under the microscope or detecting the presence of nucleic acid and proteins of the pathogens. The molecular techniques span from classical polymerase chain reaction (PCR) to sequencing the nucleic acid composition. Here, we are reviewing the works have been undertaken to utilize a portable sequencer, MinION, in various aspects of infectious disease management.\n",
      "Cosine Similarity metric: 0.776\n",
      "\n",
      "Paper ID: 9c2aa72aa0640f5224c2663ae55c35f75b8889c6\n",
      "Associated abstract: Viruses have been infecting their host cells since the dawn of life, and this extremely long-term coevolution gave rise to some surprising consequences for the entire tree of life. It is hypothesised that viruses might have contributed to the formation of the first cellular life form, or that even the eukaryotic cell nucleus originates from an infection by a coated virus. The continuous struggle between viruses and their hosts to maintain at least a constant fitness level led to the development of an unceasing arms race, where weapons are often shuttled between the participants. In this literature review we try to give a short insight into some general consequences or traits of virus–host coevolution, and after this we zoom in to the viral clades of adenoviruses, herpesviruses, nucleo-cytoplasmic large DNA viruses, polyomaviruses and, finally, circoviruses.\n",
      "Cosine Similarity metric: 0.697\n",
      "\n",
      "Paper ID: 17b715fd64ea139c0ed35b555de365b47585da64\n",
      "Associated abstract: Today’s world is characterized by increasing population density, human mobility, urbanization, and climate and ecological change. This global dynamic has various effects, including the increased appearance of emerging infectious diseases (EIDs), which pose a growing threat to global health security. Outbreaks of EIDs, like the 2013–2016 Ebola outbreak in West Africa or the current Ebola outbreak in Democratic Republic of the Congo (DRC), have not only put populations in low- and middle-income countries (LMIC) at risk in terms of morbidity and mortality, but they also have had a significant impact on economic growth in affected regions and beyond. The Coalition for Epidemic Preparedness Innovation (CEPI) is an innovative global partnership between public, private, philanthropic, and civil society organizations that was launched as the result of a consensus that a coordinated, international, and intergovernmental plan was needed to develop and deploy new vaccines to prevent future epidemics. CEPI is focusing on supporting candidate vaccines against the World Health Organization (WHO) Blueprint priority pathogens MERS-CoV, Nipah virus, Lassa fever virus, and Rift Valley fever virus, as well as Chikungunya virus, which is on the WHO watch list. The current vaccine portfolio contains a wide variety of technologies, ranging across recombinant viral vectors, nucleic acids, and recombinant proteins. To support and accelerate vaccine development, CEPI will also support science projects related to the development of biological standards and assays, animal models, epidemiological studies, and diagnostics, as well as build capacities for future clinical trials in risk-prone contexts.\n",
      "Cosine Similarity metric: 0.693\n",
      "\n",
      "Paper ID: cfe337afa069a02e96adf6894819e7928f8c4534\n",
      "Associated abstract: BACKGROUND: Acquired myasthenia gravis (AMG) is increasingly recognized in cats, yet information regarding the natural history of the disease, treatment, and outcome including occurrence of immune and spontaneous remission remains limited. OBJECTIVE: To determine the long‐term outcome of cats with AMG without evidence of a cranial mediastinal mass (CMM). ANIMALS: Eight cats diagnosed with AMG without evidence of a CMM. METHODS: Retrospective case series. The medical records of cats diagnosed with AMG between 2005 and 2018 from 2 veterinary referral hospitals were reviewed for inclusion. Inclusion criteria consisted of a diagnosis of AMG, thoracic imaging, serum biochemistry including measurement of creatine kinase, and a CBC. Exclusion criteria were the presence of an identifiable CMM, or administration of methimazole or carbimazole. RESULTS: All cats had an excellent long‐term outcome, achieving immune remission within 6 months of diagnosis, including 4 cats that did not receive any treatment and whose natural course of disease involved spontaneous remission. Clinical presentation was heterogeneous, and skeletal muscle weakness and fatigability induced or exacerbated by the wheelbarrow exercise stress test were the most consistent abnormalities associated with AMG. CONCLUSION AND CLINICAL IMPORTANCE: Cats diagnosed with AMG without evidence a CMM have a favorable outcome and frequently achieve immune remission. Moreover, the natural history of AMG in cats includes spontaneous remission when there is no evidence of a CMM. Attempting to rule out the presence of a CMM therefore refines prognosis, and treatment is not always necessary in this disease population.\n",
      "Cosine Similarity metric: 0.671\n",
      "\n",
      "Paper ID: b4e276ce333eefee623e9d425f5c538c64b567cc\n",
      "Associated abstract: Biological mass spectrometry has evolved as a core analytical technology in the last decade mainly because of its unparalleled ability to perform qualitative as well as quantitative profiling of enormously complex biological samples with high mass accuracy, sensitivity, selectivity and specificity. Mass spectrometry‐based techniques are also routinely used to assess glycosylation and other post‐translational modifications, disulfide bond linkage, and scrambling as well as for the detection of host cell protein contaminants in the field of biopharmaceuticals. The role of mass spectrometry in vaccine development has been very limited but is now expanding as the landscape of global vaccine development is shifting towards the development of recombinant vaccines. In this review, the role of mass spectrometry in vaccine development is presented, some of the ongoing efforts to develop vaccines for diseases with global unmet medical need are discussed and the regulatory challenges of implementing mass spectrometry techniques in a quality control laboratory setting are highlighted.\n",
      "Cosine Similarity metric: 0.659\n",
      "\n",
      "Paper ID: 3fd4c59ae94e2ecc44c0c40d678dd18e31ddb7c7\n",
      "Associated abstract: BACKGROUND: Influenza is a zoonotic disease that infects millions of people each year resulting in hundreds of thousands of deaths, and in turn devastating pandemics. Influenza is caused by influenza viruses, including influenza A virus (IAV). There are many subtypes of IAV but only a few seem to be able to adapt to humans and to cause disease. In 2013, an H7N9 IAV subtype emerged in China that does not cause clinical symptoms in its chicken host but leads to severe infections when transmitted into humans. Since 2013, there have been six epidemic waves of H7N9 with 1567 laboratory‐confirmed human infections and 615 deaths. Pathogenicity of IAV is complex, but a crucial feature contributing to virulence is the activation of the hemagglutinin (HA) fusion protein by host proteases that triggers membrane fusion and leads to subsequent virus propagation. METHODS: 293T, VERO, and MDCK cells were used to conduct Western blot analysis, immunofluorescence assays, and pseudoparticle and live virus infections, and to evaluate H7N9 HA cleavage‐activation. RESULTS/CONCLUSIONS: We show that human matriptase/ST 14 is able to cleave H7N9 HA. Cleavage of H7N9 HA expressed in cell culture results in fusogenic HA and syncytia formation. In infection studies with viral pseudoparticles carrying matriptase/ST 14‐activated H7N9 HA, we observed a high infectivity of cells. Finally, human matriptase/ST 14 also activated H7N9 live virus which resulted in high infectivity. Our data demonstrate that human matriptase/ST 14 is a likely candidate protease to promote H7N9 infections in humans.\n",
      "Cosine Similarity metric: 0.655\n",
      "\n",
      "Paper ID: 9e90670ce5061438424bedfc1f400b75e3dea417\n",
      "Associated abstract: Renin angiotensin system (RAS) is an endocrine system widely known for its physiological roles in electrolyte homeostasis, body fluid volume regulation and cardiovascular control in peripheral circulation. However, brain RAS is an independent form of RAS expressed locally in the brain, which is known to be involved in brain functions and disorders. There is strong evidence for a major involvement of excessive brain angiotensin converting enzyme (ACE)/Angiotensin II (Ang II)/Angiotensin type-1 receptor (AT-1R) axis in increased activation of oxidative stress, apoptosis and neuroinflammation causing neurodegeneration in several brain disorders. Numerous studies have demonstrated strong neuroprotective effects by blocking AT1R in these brain disorders. Additionally, the angiotensin converting enzyme 2 (ACE2)/Angiotensin (1–7)/Mas receptor (MASR), is another axis of brain RAS which counteracts the damaging effects of ACE/Ang II/AT1R axis on neurons in the brain. Thus, angiotensin II receptor blockers (ARBs) and activation of ACE2/Angiotensin (1–7)/MASR axis may serve as an exciting and novel method for neuroprotection in several neurodegenerative diseases. Here in this review article, we discuss the expression of RAS in the brain and highlight how altered RAS level may cause neurodegeneration. Understanding the pathophysiology of RAS and their links to neurodegeneration has enormous potential to identify potentially effective pharmacological tools to treat neurodegenerative diseases in the brain.\n",
      "Cosine Similarity metric: 0.646\n",
      "\n",
      "Paper ID: 98aca16ac6513c25abcf54bc1dbe7b6fe65e9c49\n",
      "Associated abstract: BACKGROUND: Cell‐based influenza vaccines can solve the problem of the frequent occurrence of egg adaptation–associated antigenic changes observed in egg‐based vaccines. Seed viruses for cell‐based vaccines can be prepared from clinical specimens by cell culture; however, clinical samples risk harboring respiratory viruses other than influenza virus. Therefore, it is necessary to investigate the patterns of co‐infection in clinical samples and explore whether cell culture technology can selectively propagate influenza viruses from samples containing other respiratory viruses. METHODS: A total of 341 clinical specimens were collected from patients with influenza or influenza‐like illness and analyzed by ResPlex II assay to detect 18 respiratory viruses. The patterns of co‐infection were statistically analyzed with Fisher's exact test. The samples with double or triple infections were passaged in suspension MDCK cells (MDCK‐S), adherent MDCK cells (MDCK‐A), and LLC‐MK2D cells. Cell‐passaged samples were analyzed by ResPlex II assay again to investigate whether each cell line could amplify influenza viruses and eliminate other respiratory viruses. RESULTS: Double infections were detected in 8.5% and triple infections in 0.9% of the collected clinical specimens. We identified four pairs of viruses with significant correlation. For all samples with double and triple infection, MDCK‐S and MDCK‐A could selectively propagate influenza viruses, while eliminating all contaminating viruses. In contrast, LLC‐MK2D showed lower isolation efficiency for influenza virus and higher isolation efficiency for coxsackievirus/echovirus than MDCK‐S and MDCK‐A. CONCLUSIONS: Both MDCK‐S and MDCK‐A are considered suitable for the preparation of influenza vaccine seed viruses without adventitious agents or egg‐adaptation mutations.\n",
      "Cosine Similarity metric: 0.642\n",
      "\n",
      "Paper ID: 9c4444ada7a386ec68c8180c998e0b2ec44824d8\n",
      "Associated abstract: Increasing research has demonstrated that expression of brain and muscle ARNT-like 1 (BMAL1) and other circadian clock genes can be regulated by drugs and toxicants. We previously demonstrated that icariin, extracted from Herba Epimedii, sromotes osteogenic differentiation. However, the mechanism underlying the association between icariin and BMAL1 in osteogenic differentiation of bone marrow-derived mesenchymal stem cells (BMSCs) remains unclear. The present study was designed with an aim to clarify the association between icariin and BMAL1 in osteogenic differentiation of BMSCs. The Cell Counting Kit-8 assay was used to evaluate cell proliferation. The expression of bone morphogenetic protein 2 (BMP2), RUNX family transcription factor 2 (RUNX2), alkaline phosphatase (ALP), osteocalcin (OC) and BMAL1 in BMSCs was evaluated by reverse transcription-quantitative PCR and western blotting. ALP and Alizarin red S (ARS) staining were also performed. Icariin promoted BMSC proliferation, and upregulated expression of osteogenic genes and BMAL1. In addition, expression of the osteogenic genes BMP2, RUNX2, ALP and OC were upregulated by BMAL1 overexpression. Furthermore, we confirmed that BMAL1 deficiency suppressed osteogenic differentiation in BMSCs. Finally, ARS staining of BMAL1(−/−) BMSCs revealed that BMAL1 was an essential intermediary in matrix mineralization during osteogenic differentiation. In conclusion, these results demonstrated that icariin promoted osteogenic differentiation through BMAL1-BMP2 signaling in BMSCs. The present study thus described a novel target of icariin that has potential applications in the treatment of osteogenic disorders.\n",
      "Cosine Similarity metric: 0.635\n",
      "\n",
      "Paper ID: 7fb385f3c0c5ce04f1c3d3c4f20678c0ae3a7031\n",
      "Associated abstract: BACKGROUND: Hajj pilgrimage faces numerous challenges including a high prevalence of respiratory tract infection as well as its prevention strategies. The aim of this study was to develop and validate a questionnaire to evaluate knowledge, attitude and practice (KAP) towards respiratory tract infections (RTIs) prevention among Malaysian Hajj pilgrims. METHODS: This study was conducted among Malaysian Umrah pilgrims in Malaysia from Kuala Lumpur and Kelantan. The questionnaire then underwent a series of validation process that included content, face validity and exploratory part. Item response theory (IRT) analysis was utilized for the validation of the knowledge domain. The attitude and practice were validated using the exploratory factor analysis (EFA). RESULTS: The validation process resulted in a questionnaire that comprised of four main sections: demography, knowledge, attitude, and practice. Following IRT analysis of the knowledge domain, all items analyzed were within the acceptable range of difficulty and discrimination. The Kaiser-Meyer-Olkin measure of sampling adequacy (KMO) was 0.72 and 0.84 for attitude and practice domain respectively and Bartlett’s test of Sphericity for both domains were highly significant (P < 0.001). The factor analysis resulted in two factors with total of 12 items in attitude domain, and 2 factors with total of 13 items in the practice domain with satisfactory factor loading (> 0.3). The Cronbach’s alpha for reliability of the knowledge, attitude and practice domains all showed acceptable values of > 0.6 (0.92, 0.77 and 0.85). CONCLUSION: The findings of this validation and reliability study showed that the developed questionnaire had a satisfactory psychometric property for measuring KAP of Malaysian Hajj pilgrims.\n",
      "Cosine Similarity metric: 0.627\n",
      "\n",
      "Paper ID: fb8e2e76092de55f4b7f22bd0106f6c3853ca3bd\n",
      "Associated abstract: In the present study, a new hepatic tissue‐origin cell line from European eel Anguilla anguilla has been developed and characterized. This cell line designated EL has been maintained in Leibovitz L‐15 supplemented with 10% fetal bovine serum over 72 months, and subcultured more than 90 times. The EL cell line consisted predominantly of fibroblast‐like cells, which could survive over 100 days in vitro, and could grow at 15–32°C. The optimum temperature for growth was 27°C. The chromosome analysis revealed a modal diploid karyotype of 2n = 38. The origin of this cell line was confirmed by the 18S recombinant (r)RNA sequencing. The susceptibility test indicated significant cytopathic effects in the EL cells with regard to the Rana grylio virus and the Herpesvirus anguillae. The viral replication was confirmed by transmission electron microscopy and polymerase chain reaction analysis. Following poly (I:C) exposure, the expression levels of the immune‐related molecules interferon regulatory factor‐7 (irf7) and transforming growth factor‐β (TGF‐β) were downregulated in EL cells, whereas the expression levels of the rf3 and the cytochrome P450 (CYP450) were upregulated. All four genes were significantly upregulated following inflammation by lipopolysaccharide (LPS). These data suggested the application of EL cell line for viral identification, as well as for immunodiagnosis and pharmacological targeting.\n",
      "Cosine Similarity metric: 0.623\n",
      "\n",
      "Paper ID: d7f54f3f478888e9b3f3571a391ce869f0eac789\n",
      "Associated abstract: Since the 2019 novel coronavirus (2019-nCoV or officially named by the World Health Organization as COVID-19) outbreak in Wuhan, Hubei Province, China in 2019, there have been a few reports of its imaging findings. Here, we report two confirmed cases of 2019-nCoV pneumonia with chest computed tomography findings of multiple regions of patchy consolidation and ground-glass opacities in both lungs. These findings were characteristically located along the bronchial bundle or subpleural lungs.\n",
      "Cosine Similarity metric: 0.619\n",
      "\n",
      "Paper ID: 6a8d67876f9d695b2ad3251846bb303a9cc46ba1\n",
      "Associated abstract: BACKGROUND: The International Health Regulations state that early detection and immediate reporting of unusual health events is important for early warning and response systems. OBJECTIVE: To describe a pilot surveillance program established in health facilities in Yaoundé, Cameroon in 2017 which aimed to enable detection and reporting of public health events. METHODS: Cameroon’s Ministry of Health, in partnership with the US Centers for Disease Control and Prevention, Cameroon Pasteur Center, and National Public Health Laboratory, implemented event‐based surveillance (EBS) in nine Yaoundé health facilities. Four signals were defined that could indicate possible public health events, and a reporting, triage, and verification system was established among partner organizations. A pre‐defined laboratory algorithm was defined, and a series of workshops trained health facilities, laboratory, and public health staff for surveillance implementation. RESULTS: From May 2017 to January 2018, 30 signals were detected, corresponding to 15 unusual respiratory events. All health facilities reported a signal at least once, and more than three‐quarters of health facilities reported ≥2 times. Among specimens tested, the pathogens detected included Klebsiella pneumoniae, Moraxella catarrhalis, Streptococcus pneumoniae, Haemophilus influenza, Staphylococcus aureus, Pneumocystis jiroveci, influenza A (H1N1) virus, rhinovirus, and adenovirus. CONCLUSIONS: The events detected in this pilot were caused by routine respiratory bacteria and viruses, and no novel influenza viruses or other emerging respiratory threats were identified. The surveillance system, however, strengthened relationships and communication linkages between health facilities and public health authorities. Astute clinicians can play a critical role in early detection and EBS is one approach that may enable reporting of emerging outbreaks and public health events.\n",
      "Cosine Similarity metric: 0.617\n",
      "\n",
      "Paper ID: 0293ec2b1cf8097392297cffd06854d2f37348f4\n",
      "Associated abstract: BACKGROUND: In this study, we evaluated the diagnostic potential and clinical impact of an automated multiplex PCR platform (the FilmArray Respiratory Panel; FA‐RP), specially designed for pathogen detection in respiratory tract infections in adults with unexplained pneumonia (UP). METHODS: A total of 112 UP patients in Shanghai, China, were enrolled prospectively and assessed using the FA‐RP from October 2016 to March 2018. We examined the test results and their influence on clinical decisions. Furthermore, as a control group, we retrospectively obtained the clinical data of 70 UP patients between October 2014 and March 2016 (before the FA‐RP was available). The two patient groups were compared with respect to factors, including general antimicrobial use and defined daily dose (DDD) numbers. RESULTS: Between October 2016 and March 2018, the positive rate obtained using FA‐RP for UP was 76.8%. The primary pathogens in adults with UP were Influenza A/B (47.3%, 53/112). Compared with the patients before FA‐RP was available, patients who underwent FA‐RP testing had higher rates of antiviral drug use and antibiotic de‐escalation during clinical treatment. FA‐RP significantly decreased the total DDDs of antibiotic or antifungal drugs DDDs by 7 days after admission (10.6 ± 2.5 vs 14.1 ± 8.8, P < .01). CONCLUSIONS: The FA‐RP is a rapid and sensitive nucleic acid amplification test method for UP diagnosis in adults. The application of FA‐RP may lead to a more accurately targeted antimicrobial treatment and reduced use of antibiotic/antifungal drugs.\n",
      "Cosine Similarity metric: 0.615\n",
      "\n",
      "Paper ID: 95cd65dbf317e24c13557dbf46ffbaa4c206f8be\n",
      "Associated abstract: Porcine deltacoronavirus (PDCoV) is a porcine enteropathogenic coronavirus that causes watery diarrhea, vomiting, and frequently death in piglets, causing serious economic losses to the pig industry. The strain CHN-JS-2017 was isolated and identified by cytopathology, immunofluorescence assays, transmission electron microscopy, and sequence analysis. A nucleotide sequence alignment showed that the whole genome of CHN-JS-2017 is 97.4%–99.6% identical to other PDCoV strains. The pathogenicity of the CHN-JS-2017 strain was investigated in orally inoculated five-day-old piglets; the piglets developed acute, watery diarrhea, but all recovered and survived. CHN-JS-2017 infection-induced microscopic lesions were observed, and viral antigens were detected mainly by immunohistochemical staining in the small intestine. The neonatal Fc receptor (FcRn) and polymeric immunoglobulin receptor (pIgR) are crucial immunoglobulin (Ig) receptors for the transcytosis ofimmunoglobulin G (IgG), IgA, or IgM. Importantly, CHN-JS-2017 infected five-day-old piglets could significantly down-regulate the expression of FcRn, pIgR, and nuclear factor-kappa B (NF-κB)in the intestinal mucosa. Note that the level of FcRn mRNA in the intestinal mucosa of normal piglets is positively correlated with pIgR and NF-κB. At the same time, the expressions of FcRn, pIgR, and NF-κB mRNA are also positively correlated in infected piglets. These results may help explain the immunological and pathological changes associated with porcine deltacorononirus infection.\n",
      "Cosine Similarity metric: 0.613\n",
      "\n",
      "Paper ID: 19ebb3ea64083a71dcf7b9c2cd53bc49ec1a90ca\n",
      "Associated abstract: Freya Shearer and co-authors discuss the use of decision analysis in planning for infectious disease pandemics.\n",
      "Cosine Similarity metric: 0.611\n",
      "\n",
      "Paper ID: 54775274bbf4947d5312a62a87bedfb1264d7f87\n",
      "Associated abstract: INTRODUCTION: Annual influenza vaccination is recommended for older adults, but evidence regarding the impact of repeated vaccination has been inconclusive. AIM: We investigated vaccine effectiveness (VE) against laboratory-confirmed influenza and the impact of repeated vaccination over 10 previous seasons on current season VE among older adults. METHODS: We conducted an observational test-negative study in community-dwelling adults aged > 65 years in Ontario, Canada for the 2010/11 to 2015/16 seasons by linking laboratory and health administrative data. We estimated VE using multivariable logistic regression. We assessed the impact of repeated vaccination by stratifying by previous vaccination history. RESULTS: We included 58,304 testing episodes for respiratory viruses, with 11,496 (20%) testing positive for influenza and 31,004 (53%) vaccinated. Adjusted VE against laboratory-confirmed influenza for the six seasons combined was 21% (95% confidence interval (CI): 18 to 24%). Patients who were vaccinated in the current season, but had received no vaccinations in the previous 10 seasons, had higher current season VE (34%; 95%CI: 9 to 52%) than patients who had received 1–3 (26%; 95%CI: 13 to 37%), 4–6 (24%; 95%CI: 15 to 33%), 7–8 (13%; 95%CI: 2 to 22%), or 9–10 (7%; 95%CI: −4 to 16%) vaccinations (trend test p = 0.001). All estimates were higher after correcting for misclassification of current season vaccination status. For patients who were not vaccinated in the current season, residual protection rose significantly with increasing numbers of vaccinations received previously. CONCLUSIONS: Although VE appeared to decrease with increasing numbers of previous vaccinations, current season vaccination likely provides some protection against influenza regardless of the number of vaccinations received over the previous 10 influenza seasons.\n",
      "Cosine Similarity metric: 0.611\n",
      "\n",
      "Paper ID: 1a7d600387654c0315c076f74d8479adb4403d75\n",
      "Associated abstract: The ability to detect nanoscale objects is particular crucial for a wide range of applications, such as environmental protection, early-stage disease diagnosis and drug discovery. Photonic crystal nanobeam cavity (PCNC) sensors have attracted great attention due to high-quality factors and small-mode volumes (Q/V) and good on-chip integrability with optical waveguides/circuits. In this review, we focus on nanoscale optical sensing based on PCNC sensors, including ultrahigh figure of merit (FOM) sensing, single nanoparticle trapping, label-free molecule detection and an integrated sensor array for multiplexed sensing. We believe that the PCNC sensors featuring ultracompact footprint, high monolithic integration capability, fast response and ultrahigh sensitivity sensing ability, etc., will provide a promising platform for further developing lab-on-a-chip devices for biosensing and other functionalities.\n",
      "Cosine Similarity metric: 0.607\n",
      "\n",
      "Paper ID: 095424c03a6e78279e47488552d961bc328f9c84\n",
      "Associated abstract: Despite the availability of highly effective direct-acting antiviral (DAA) regimens for the treatment of hepatitis C virus (HCV) infections, sustained viral response (SVR) rates remain suboptimal for difficult-to-treat patient populations such as those with HCV genotype 3, cirrhosis or prior treatment experience, warranting development of more potent HCV replication antivirals. AT-527 is the hemi-sulfate salt of AT-511, a novel phosphoramidate prodrug of 2’-fluoro-2’-C-methylguanosine-5'-monophosphate that has potent in vitro activity against HCV. The EC(50) of AT-511, determined using HCV laboratory strains and clinical isolates with genotypes 1–5, ranged from 5–28 nM. The active 5'-triphosphate metabolite, AT-9010, specifically inhibited the HCV RNA-dependent RNA polymerase. AT-511 did not inhibit the replication of other selected RNA or DNA viruses in vitro. AT-511 was approximately 10-fold more active than sofosbuvir (SOF) against a panel of laboratory strains and clinical isolates of HCV genotypes 1–5 and remained fully active against S282T resistance-associated variants, with up to 58-fold more potency than SOF. In vitro, AT-511 did not inhibit human DNA polymerases or elicit cytotoxicity or mitochondrial toxicity at concentrations up to 100 μM. Unlike the other potent guanosine analogs PSI-938 and PSI-661, no mutagenic O(6)-alkylguanine bases were formed when incubated with cytochrome P450 (CYP) 3A4, and AT-511 had IC(50) values ≥25 μM against a panel of CYP enzymes. In hepatocytes from multiple species, the active triphosphate was the predominant metabolite produced from the prodrug, with a half-life of 10 h in human hepatocytes. When given orally to rats and monkeys, AT-527 preferentially delivered high levels of AT-9010 in the liver in vivo. These favorable preclinical attributes support the ongoing clinical development of AT-527 and suggest that, when used in combination with an HCV DAA from a different class, AT-527 may increase SVR rates, especially for difficult-to-treat patient populations, and could potentially shorten treatment duration for all patients.\n",
      "Cosine Similarity metric: 0.605\n",
      "\n",
      "Paper ID: 78b06344bf1d834407a41bceb4999839085b0082\n",
      "Associated abstract: To investigate CTL epitope applications in swine, SLA-1(*)1502-restricted peptide epitopes matching porcine reproductive and respiratory syndrome virus (PRRSV) strains were explored by crystallography, biochemistry, and the specific pathogen-free (SPF) swine experiments. First, nine predicted PRRSV peptides were tested by assembly of the peptide-SLA-1(*)1502 (pSLA-1(*)1502) complexes, and the crystal structure of the SLA-1(*)1502 complex with one peptide (NSP9-TMP9) was determined. The NSP9-TMP9 peptide conformation presented by pSLA-1(*)1502 is different from that of the peptides presented by the known pSLA-1(*)0401 and pSLA-3(*)hs0202 complexes. Two consecutive Pro residues make the turn between P3 and P4 of NSP9-TMP9 much sharper. The D pocket of pSLA-1(*)1502 is unique and is important for peptide binding. Next, the potential SLA-1(*)1502-restricted peptide epitopes matching four typical genetic PRRSV strains were identified based on the peptide-binding motif of SLA-1(*)1502 determined by structural analysis and alanine scanning of the NSP9-TMP9 peptide. The tetrameric complex of SLA-1(*)1502 and NSP9-TMP9 was constructed and examined. Finally, taking NSP9-TMP9 as an example, the CTL immunogenicity of the identified PRRSV peptide epitope was evaluated. The SPF swine expressing the SLA-1(*)1502 alleles were divided into three groups: modified live vaccine (MLV), MLV+NSP9-TMP9, and the blank control group. NSP9-TMP9 was determined as a PRRSV CTL epitope with strong immunogenicity by flow cytometry and IFN-γ expression. Our study developed an integrated approach to identify SLA-I-restricted CTL epitopes from various important viruses and is helpful in designing and applying effective peptide-based vaccines for swine.\n",
      "Cosine Similarity metric: 0.601\n",
      "\n",
      "Paper ID: 0d83a837839b75104b3925a1a0be27ea2883b419\n",
      "Associated abstract: The initial exponential growth rate of an epidemic is an important measure of the severeness of the epidemic, and is also closely related to the basic reproduction number. Estimating the growth rate from the epidemic curve can be a challenge, because of its decays with time. For fast epidemics, the estimation is subject to over-fitting due to the limited number of data points available, which also limits our choice of models for the epidemic curve. We discuss the estimation of the growth rate using maximum likelihood method and simple models.\n",
      "Cosine Similarity metric: 0.598\n",
      "\n",
      "Paper ID: 9dc436e46261781fe2991baeff4ddc7dd2e96c9b\n",
      "Associated abstract: Antibodies play critical roles in neutralizing viral infections and are increasingly used as therapeutic drugs and diagnostic tools. Structural studies on virus-antibody immune complexes are important for better understanding the molecular mechanisms of antibody-mediated neutralization and also provide valuable information for structure-based vaccine design. Cryo-electron microscopy (cryo-EM) has recently matured as a powerful structural technique for studying bio-macromolecular complexes. When combined with X-ray crystallography, cryo-EM provides a routine approach for structurally characterizing the immune complexes formed between icosahedral viruses and their antibodies. In this review, recent advances in the structural understanding of virus-antibody interactions are outlined for whole virions with icosahedral T = pseudo 3 (picornaviruses) and T = 3 (flaviviruses) architectures, focusing on the dynamic nature of viral shells in different functional states. Glycoprotein complexes from pleomorphic enveloped viruses are also discussed as immune complex antigens. Improving our understanding of viral epitope structures using virus-based platforms would provide a fundamental road map for future vaccine development.\n",
      "Cosine Similarity metric: 0.597\n",
      "\n",
      "Paper ID: 0391c13dbb9949494913c209424ed61d3a652753\n",
      "Associated abstract: BACKGROUND: Haptoglobin is an acute-phase protein used as predicting diagnostic biomarker both in humans (i.e., diabetes, ovarian cancer, some neurological and cardiovascular disorders) and in animals (e.g., bovine mastitis). The latter is a frequent disease of dairy industry with staggering economical losses upon decreased milk production and increased health care costs. Early stage diagnosis of the associated diseases or inflammation onset is almost impossible by conventional analytical manners. RESULTS: The present study demonstrates a simple, rapid, and cost-effective label-free chemiluminescence bioassay based on magnetite nanoparticles (MNPs) for sensitive detection of haptoglobin by employing the specific interaction of hemoglobin-modified MNPs. The resulting haptoglobin-hemoglobin complex inhibits the peroxidase-like activity of luminol/H(2)O(2)-hemoglobin-MNPs sensing scheme and reduces the chemiluminescence intensities correspondingly to the innate haptoglobin concentrations. Quantitative detection of bovine haptoglobin was obtained within the range of 1 pg mL(−1) to 1 µg mL(−1), while presenting 0.89 pg mL(−1) limit of detection. Moreover, the influence of causative pathogenic bacteria (i.e., Streptococcus dysgalactiae and Escherichia coli) and somatic cell counts (depicting healthy, sub-clinical and clinical mastitis) on the emitted chemiluminescence radiation were established. The presented bioassay quantitative performances correspond with a standardized assay kit in differentiating dissimilar milk qualities. CONCLUSIONS: Overall, the main advantage of the presented sensing concept is the ability to detect haptoglobin, at clinically relevant concentrations within real milk samples for early bio-diagnostic detection of mastitis and hence adjusting the precise treatment, potentially initiating a positive influence on animals’ individual health and hence on dairy farms economy.\n",
      "Cosine Similarity metric: 0.595\n",
      "\n",
      "Paper ID: 879387ff0282d3823d01dded6b50b383e1741342\n",
      "Associated abstract: Adenoviruses are double-strained DNA viruses found in a great number of vertebrates, including humans. In order to understand their transmission dynamics, it is crucial, even from a human health perspective, to investigate how host traits influence their prevalence. Bats are important reservoirs for adenoviruses, and here we use the results of recent screenings in Western Europe to evaluate the association between characteristic traits of bat species and their probability of hosting adenoviruses, taking into account their phylogenetic relationships. Across species, we found an important phylogenetic component in the presence of adenoviruses and mating strategy as the most determinant factor conditioning the prevalence of adenoviruses across bat species. Contrary to other more stable mating strategies (e.g. harems), swarming could hinder transmission of adenoviruses since this strategy implies that contacts between individuals are too short. Alternatively, bat species with more promiscuous behavior may develop a stronger immune system. Outstandingly high prevalence of adenoviruses was reported for the Iberian species Pipistrellus pygmaeus, P. kuhlii and Nyctalus lasiopterus and we found that in the latter, males were more likely to be infected by adenoviruses than females, due to the immunosuppressing consequence of testosterone during the mating season. As a general trend across species, we found that the number of adenoviruses positive individuals was different across localities and that the difference in prevalence between populations was correlated with their geographic distances for two of the three studied bat species (P. pygmaeus and P.kuhlii). These results increase our knowledge about the transmission mechanisms of adenoviruses.\n",
      "Cosine Similarity metric: 0.594\n",
      "\n",
      "Paper ID: d51dd0a976e0d01e1be8d21d301c7ed8843fc89e\n",
      "Associated abstract: BACKGROUND: Influenza is a highly contagious acute viral respiratory tract infection. The emergence of influenza A(H1N1)pdm09 in 2009 caused a pandemic. Since then it has become a seasonal influenza virus. It causes symptoms ranging from mild to severe illness, which might be fatal, particularly in people with underlying chronic medical conditions, immunocompromised people, the elderly, and pregnant women. OBJECTIVE: Describe the data generated by the influenza A(H1N1) pdm09 surveillance in Saudi Arabia from 2010 to 2016. DESIGN: Retrospective, descriptive. SETTING: Hospitals reporting to the Ministry of Health. MATERIALS AND METHODS: We studied aggregate data on hospitalized cases of influenza A(H1N1)pdm09 in Saudi Arabia between 2010 and 2016. The surveillance system used the case definition proposed by the WHO. The cases were confirmed by performing the real-time PCR (polymerase chain reaction) on upper respiratory samples. MAIN OUTCOME MEASURES: Suspected and confirmed influenza A(H1N1)pdm09 cases. SAMPLE SIZE: 113 502 suspected H1N1 cases and 17 094 (15.1%) confirmed cases. RESULTS: Most of the reported cases were registered in the Riyadh region. During the period of the study, the highest number of confirmed cases, 9262 (54.2 %), was in 2015. The case fatality rate for confirmed cases was 3.6%. CONCLUSION: Influenza A(H1N1)pdm09 showed seasonal trends. The number of suspected influenza cases each year was proportionate to the number of confirmed cases for that year. Riyadh, Jeddah and the Eastern areas (regions with the highest population) reported most of the cases. LIMITATION: Only one strain of H1N1 was tested. CONFLICT OF INTEREST: None.\n",
      "Cosine Similarity metric: 0.592\n",
      "\n",
      "\"\"\"\n",
      "\n"
     ]
    }
   ],
   "source": [
    "top_to_print = 100\n",
    "\n",
    "print('Results based on abstract:')\n",
    "print('\"\"\"')\n",
    "with open('interesting_papers_based_on_abstract.txt', 'r') as f:\n",
    "    print('\\n'.join(f.read().splitlines()[:4*top_to_print]))\n",
    "print('\"\"\"') \n",
    "print('')"
   ]
  },
  {
   "cell_type": "code",
   "execution_count": 70,
   "metadata": {
    "id": "NYlkx_AGlZ6O"
   },
   "outputs": [],
   "source": [
    "#Variable to store the batch size\n",
    "batchSize = 100 "
   ]
  },
  {
   "cell_type": "code",
   "execution_count": 71,
   "metadata": {
    "colab": {
     "base_uri": "https://localhost:8080/"
    },
    "id": "jc_CH9KVlb33",
    "outputId": "b6040ede-4bd5-43d2-9e13-f3f9574e9a85"
   },
   "outputs": [
    {
     "name": "stdout",
     "output_type": "stream",
     "text": [
      "Loading BERT semantic similarity model.\n",
      "Downloading model: clinical-bert-similarity from https://github.com/AndriyMulyar/semantic-text-similarity/releases/download/v1.0.0/clinical_bert_similarity.tar.gz\n"
     ]
    },
    {
     "name": "stderr",
     "output_type": "stream",
     "text": [
      "100%|██████████| 401555686/401555686 [00:12<00:00, 33001127.91B/s]\n"
     ]
    },
    {
     "name": "stdout",
     "output_type": "stream",
     "text": [
      "Model loaded.\n",
      "\n"
     ]
    }
   ],
   "source": [
    "#Load the model\n",
    "print(\"Loading BERT semantic similarity model.\")\n",
    "model = ClinicalBertSimilarity(device='cuda', batch_size=batchSize) #defaults to GPU prediction\n",
    "print(\"Model loaded.\")\n",
    "print()"
   ]
  },
  {
   "cell_type": "code",
   "execution_count": 159,
   "metadata": {
    "id": "yHvrzrvIle5f"
   },
   "outputs": [],
   "source": [
    "#The primary questions that attempt to be answered  \n",
    "primaryQuestions = [\n",
    "    \"What has been published about coronavirus medical care\"\n",
    "]\n",
    "#Extract the text from the articles \n",
    "text_list = list(tokenized_df['abstract'].dropna())"
   ]
  },
  {
   "cell_type": "code",
   "execution_count": 160,
   "metadata": {
    "id": "Sy2YC--Clxyf"
   },
   "outputs": [],
   "source": [
    "#Get the index of where the prediction ranks among the current best predictions \n",
    "def computeScoreIndex(predictionScore, answerScores):\n",
    "    index = 0\n",
    "    while(index < len(answerScores)):\n",
    "        if(predictionScore > answerScores[index]):\n",
    "            break\n",
    "        index += 1\n",
    "    return index "
   ]
  },
  {
   "cell_type": "code",
   "execution_count": 161,
   "metadata": {
    "id": "D-y-mYoDl16O"
   },
   "outputs": [],
   "source": [
    "#Function to make a batch to send through the semantic similarity model \n",
    "def makeBatch(query, sentences):\n",
    "    batch = []\n",
    "    index = 0\n",
    "    while(index < len(sentences)):\n",
    "        batch.append((query, sentences[index]))\n",
    "        index += 1\n",
    "    return batch "
   ]
  },
  {
   "cell_type": "code",
   "execution_count": 162,
   "metadata": {
    "id": "TOO0QqSjl7qm"
   },
   "outputs": [],
   "source": [
    "#Set scores to strings for saving \n",
    "def convertScores(answers):\n",
    "    for key in answers.keys():\n",
    "        for scoreIndex, score in enumerate(answers[key]['scores']):\n",
    "            answers[key]['scores'][scoreIndex] = str(answers[key]['scores'][scoreIndex])\n",
    "    return answers"
   ]
  },
  {
   "cell_type": "code",
   "execution_count": 163,
   "metadata": {
    "id": "wIdGEKxzmAU2"
   },
   "outputs": [],
   "source": [
    "#Dictionary to store answers and variable to specify the number of answers to store \n",
    "import copy \n",
    "answerCount = 20\n",
    "questionResponses = {'titles': [], 'sentences': [], 'scores': []}\n",
    "answers = {}\n",
    "for query in primaryQuestions:\n",
    "    answers[query] = copy.deepcopy(questionResponses)"
   ]
  },
  {
   "cell_type": "code",
   "execution_count": 164,
   "metadata": {
    "id": "9xUqm_tBjDF_"
   },
   "outputs": [],
   "source": [
    "#Function to update the most relevant answers based on model predictions \n",
    "def updateAnswersSentences(query, title, sentences, predictions, answers, answerCount):\n",
    "    #Get the top answerCount prediction scores \n",
    "    topIndices = predictions.argsort()[-answerCount:][::-1]\n",
    "    for index in topIndices:\n",
    "        #Case where lists are empty\n",
    "        if(len(answers[query]['scores']) == 0):\n",
    "            answers[query]['titles'].append(title)\n",
    "            answers[query]['sentences'].append(sentences[index])\n",
    "            answers[query]['scores'].append(predictions[index])\n",
    "        #Case where lists have length shorter than answerCount \n",
    "        elif(len(answers[query]['scores']) < answerCount):\n",
    "            scoreIndex = computeScoreIndex(predictions[index], answers[query]['scores'])\n",
    "            answers[query]['titles'].insert(scoreIndex, title)\n",
    "            answers[query]['sentences'].insert(scoreIndex, sentences[index])\n",
    "            answers[query]['scores'].insert(scoreIndex, predictions[index])\n",
    "        #Case where lists are full \n",
    "        else:\n",
    "            scoreIndex = computeScoreIndex(predictions[index], answers[query]['scores'])\n",
    "            #Check to see if an item should be bumped out of the list \n",
    "            if(scoreIndex < answerCount):\n",
    "                answers[query]['titles'].insert(scoreIndex, title)\n",
    "                answers[query]['sentences'].insert(scoreIndex, sentences[index])\n",
    "                answers[query]['scores'].insert(scoreIndex, predictions[index])\n",
    "                answers[query]['titles'] = answers[query]['titles'][:answerCount]\n",
    "                answers[query]['sentences'] = answers[query]['sentences'][:answerCount]\n",
    "                answers[query]['scores'] = answers[query]['scores'][:answerCount]\n",
    "    return answers "
   ]
  },
  {
   "cell_type": "code",
   "execution_count": 164,
   "metadata": {
    "id": "LzzSx8s_snBm"
   },
   "outputs": [],
   "source": []
  },
  {
   "cell_type": "code",
   "execution_count": 165,
   "metadata": {
    "colab": {
     "base_uri": "https://localhost:8080/"
    },
    "id": "uV4osCEnsg3S",
    "outputId": "cb0c1ad1-40f3-4068-a743-1f5c79a25d64"
   },
   "outputs": [
    {
     "name": "stdout",
     "output_type": "stream",
     "text": [
      "Processing query 0 of 1 --- Article 885 of 886\n"
     ]
    }
   ],
   "source": [
    "#Loop through all queries   \n",
    "from nltk.tokenize import sent_tokenize, word_tokenize\n",
    "for queryIndex, query in enumerate(primaryQuestions):\n",
    "    #Loop through all articles \n",
    "    for textIndex, text in enumerate(text_list):\n",
    "        #Tokenize the article to sentences and loop through all sentences computing prediction scores for each \n",
    "        sentences = sent_tokenize(text)\n",
    "        batchIndex = 0\n",
    "        while(batchIndex*batchSize < len(sentences)):\n",
    "            batchSentences = None\n",
    "            batch = None\n",
    "            #Check to make sure the batch size won't go out of bounds in regard to the sentences \n",
    "            if((batchIndex*batchSize)+batchSize > len(sentences)):\n",
    "                batchSentences = sentences[batchIndex*batchSize:len(sentences)]\n",
    "                batch = makeBatch(query, batchSentences)\n",
    "            else:\n",
    "                batchSentences = sentences[batchIndex*batchSize:(batchIndex*batchSize)+batchSize]\n",
    "                batch = makeBatch(query, batchSentences)\n",
    "            predictions = model.predict(batch)\n",
    "            answers = updateAnswersSentences(query, df_covid.iloc[textIndex][\"title\"], batchSentences, predictions, answers, answerCount)\n",
    "            batchIndex += 1\n",
    "        print(\"Processing query \"+str(queryIndex)+\" of \"+str(len(primaryQuestions))+\" --- Article \"+str(textIndex)+\" of \"+str(len(text_list)), end='\\r')\n",
    "    print()"
   ]
  },
  {
   "cell_type": "code",
   "execution_count": 166,
   "metadata": {
    "id": "l633mreNo58q"
   },
   "outputs": [],
   "source": [
    "#Save the results\n",
    "answers = convertScores(answers)\n",
    "jsonData = json.dumps(answers)\n",
    "f = open(\"topSentences.json\",\"w\")\n",
    "f.write(jsonData)\n",
    "f.close()"
   ]
  },
  {
   "cell_type": "code",
   "execution_count": 167,
   "metadata": {
    "colab": {
     "base_uri": "https://localhost:8080/"
    },
    "id": "Lk8xZzzXmNgA",
    "outputId": "03339ba0-4513-4e5b-e87c-9a3e820950b8"
   },
   "outputs": [
    {
     "name": "stdout",
     "output_type": "stream",
     "text": [
      "Query: What has been published about coronavirus medical care\n",
      "1. Article: Expert consensus on chloroquine phosphate for the treatment of novel coronavirus pneumonia\n",
      "Sentence: We recommend readers consult the latest guidance (box 1).Box 1 Essential resourcescovid-19: latest case definition, investigation, and initial clinical management of possible cases:https://www.gov.uk/government/publications/wuhan-novel-coronavirus-initial-investigation-of-possible-cases/investigation-and-initial-clinical-management-of-possible-cases-of-wuhan-novel-coronavirus-wn-cov-infectionCoronavirus: latest information and advice including updated list of high risk countries:https://www.gov.uk/guidance/wuhan-novel-coronavirus-information-for-the-publicGuidance on isolation of healthcare workers:https://www.gov.uk/government/publications/novel-coronavirus-2019-ncov-guidance-for-healthcare-providers-with-staff-who-have-travelled-to-china/guidance-for-healthcare-providers-healthcare-workers-who-have-travelled-to-chinaFind your local Health Protection Team in England:https://www.gov.uk/health-protection-teamcovid-19: interim guidance … RETURN TO TEXT\n",
      "Score: 2.3695703\n",
      "\n",
      "2. Article: Genetic diversity and evolution of SARS-CoV-2\n",
      "Sentence: <jats:p>Objective: We aim to summarize reliable evidences of evidence-based medicine for the treatment and prevention of the 2019 novel coronavirus (2019-nCoV) by analyzing all the published studies on the clinical characteristics of patients with 2019-nCoV.\n",
      "Score: 2.36178\n",
      "\n",
      "3. Article: Abnormal Coagulation parameters are associated with poor prognosis in patients with novel coronavirus pneumonia\n",
      "Sentence: There is concern about a new coronavirus, the 2019-nCoV, as a global public health threat.\n",
      "Score: 2.3582366\n",
      "\n",
      "4. Article: Dynamic changes of chest CT imaging in patients with corona virus disease-19 (COVID-19)\n",
      "Sentence: Prevention and control about the situation of 2019 coronavirus disease (COVID-19) are grim at present.\n",
      "Score: 2.2299953\n",
      "\n",
      "5. Article: Singapore claims first use of antibody test to track coronavirus infections | Science | AAAS\n",
      "Sentence: “Since the beginning, we have been serious in strictly following WHO [World Health Organization] guidelines regarding the coronavirus issue,” he said.\n",
      "Score: 2.221891\n",
      "\n",
      "6. Article: Chest CT for Typical 2019-nCoV Pneumonia: Relationship to Negative RT-PCR Testing\n",
      "Sentence: MERS coronavirus (MERS-CoV) has been confirmed to be the etiological agent.\n",
      "Score: 2.1781287\n",
      "\n",
      "7. Article: Coronavirus disinfection in histopathology\n",
      "Sentence: In addition, the comprehensive evaluation of all the published genomes of Coronavirus strains, including population genetics analysis, functional analysis and structural analysis on a historical and global scale were presented in the CoVdb.\n",
      "Score: 2.1775439\n",
      "\n",
      "8. Article: Coronavirus puts drug chemical industry on alert\n",
      "Sentence: To expedite the advancement of our knowledge we leverage the data about the related coronaviruses that is readily available in public databases, and integrate these data into a single computational pipeline.\n",
      "Score: 2.166527\n",
      "\n",
      "9. Article: Clinical features and high resolutionCT imaging findings of preliminary diagnosis novel coronavirus pneumonia\n",
      "Sentence: Diagnosis of the virus responsible for disease is essential to ensure patients receive appropriate clinical management.\n",
      "Score: 2.1520433\n",
      "\n",
      "10. Article: Integration of the Gene Ontology into an object-oriented architecture\n",
      "Sentence: Using data obtained from similar coronaviruses, e.g.\n",
      "Score: 2.1515605\n",
      "\n",
      "11. Article: The psychological effects of quarantining a city\n",
      "Sentence: This knowledge should facilitate the design of antivirals to prevent coronavirus infections in the field.\n",
      "Score: 2.1423862\n",
      "\n",
      "12. Article: Protocolo para la atención de personas con sospechas o infección confirmada por Coronavirus (2019-nCoN)[Spanish]\n",
      "Sentence: At present, the prevention and control of new coronavirus has entered a critical period.\n",
      "Score: 2.1334624\n",
      "\n",
      "13. Article: Coronavirus disinfection in histopathology\n",
      "Sentence: With the urgent needs to assist the control of the Coronavirus spread and to provide valuable scientific information, we developed a coronavirus database (CoVdb), an online genomics and proteomics analysis platform.\n",
      "Score: 2.1288385\n",
      "\n",
      "14. Article: ‘This beast is moving very fast.’ Will the new coronavirus be contained—or go pandemic? | Science | AAAS\n",
      "Sentence: The treatment of critically ill patients with coronavirus disease 2019(COVID-19) faces compelling challenges.\n",
      "Score: 2.1135275\n",
      "\n",
      "15. Article: How bad will it get?\n",
      "Sentence: To date, few data on immunologic features of Coronavirus Disease 2019 (COVID-19) have been reported.\n",
      "Score: 2.0591693\n",
      "\n",
      "16. Article: Protocolo de Manejo Clínico para o Novo Coronavírus (2019-nCoV)\n",
      "Sentence: Coronavirus disease 2019 (COVID-19) has emerged as a growing focus of global attention and a critical factor in public-health decision making.\n",
      "Score: 2.0556161\n",
      "\n",
      "17. Article: Integration of the Gene Ontology into an object-oriented architecture\n",
      "Sentence: The full genome of the 2019 novel coronavirus (2019-nCoV) has now been shared, and data have been gathered from several case series.\n",
      "Score: 2.0266445\n",
      "\n",
      "18. Article: Statistics-Based Predictions of Coronavirus Epidemic Spreading in Mainland China\n",
      "Sentence: <jats:p>Summary Background: Some articles have reported the epidemiological and clinical characteristics of coronavirus disease (COVID-19) in Wuhan, but other cities have rarely been reported.\n",
      "Score: 2.0205019\n",
      "\n",
      "19. Article: Investigation on demands for antenatal care services among 2 002 pregnant women during the epidemic of coronavirus disease 2019 in Shanghai\n",
      "Sentence: Coronaviruses are respiratory viruses whose appearance on electron microscopy looks like tiny crowns (Figure 1).\n",
      "Score: 2.000091\n",
      "\n",
      "20. Article: Labs scramble to spot hidden coronavirus infections | Science | AAAS\n",
      "Sentence: In low-resource areas, a key obstacle is quick and accurate detection of viruses near the point of care.\n",
      "Score: 1.9870967\n",
      "\n"
     ]
    },
    {
     "data": {
      "text/plain": [
       "list"
      ]
     },
     "execution_count": 167,
     "metadata": {
      "tags": []
     },
     "output_type": "execute_result"
    }
   ],
   "source": [
    "#Print the results \n",
    "for query in answers.keys():\n",
    "    print(\"Query: \"+query)\n",
    "    resultCount = len(answers[query]['scores'])\n",
    "    index = 0\n",
    "    while(index < resultCount):\n",
    "        print(str(index+1)+\". Article: \"+str(answers[query]['titles'][index]))\n",
    "        print(\"Sentence: \"+answers[query]['sentences'][index])\n",
    "        print(\"Score: \"+answers[query]['scores'][index])\n",
    "        print()\n",
    "        index += 1\n",
    "    column_names = [\"paperID\", \"abstract\",'Score']\n",
    "    df1 = pd.DataFrame(columns = column_names)\n",
    "    df1['paperID']= answers[query]['titles']\n",
    "    df1['abstract'][0:20] = answers[query]['sentences']\n",
    "    df1['Score'][:20] = answers[query]['scores']\n",
    "    df1=df1.drop_duplicates(subset=['paperID'])\n",
    "type(answers[query]['titles'])\n"
   ]
  },
  {
   "cell_type": "code",
   "execution_count": 168,
   "metadata": {
    "id": "DYxMS2AyA3dG"
   },
   "outputs": [],
   "source": [
    "df1.to_csv('Model3_Query5.csv')"
   ]
  },
  {
   "cell_type": "code",
   "execution_count": null,
   "metadata": {
    "id": "ANygdon1o58s"
   },
   "outputs": [],
   "source": [
    "#Word to compare against and number of similar words to print out \n",
    "word = 'facemask'\n",
    "similarCount = 3"
   ]
  },
  {
   "cell_type": "code",
   "execution_count": null,
   "metadata": {
    "id": "LveShlbSo58u"
   },
   "outputs": [],
   "source": [
    "#Get and print the results \n",
    "results = model.wv.most_similar(positive=word, topn=similarCount)\n",
    "print(\"Input word:\", word)\n",
    "print(\"Top \"+str(similarCount)+\" similar words are:\")\n",
    "for index, word in enumerate(results):\n",
    "    print(str(index+1)+\". \"+word[0]+\" --- Score: \"+str(word[1]))"
   ]
  },
  {
   "cell_type": "code",
   "execution_count": null,
   "metadata": {
    "id": "6XFbDMlXo58w"
   },
   "outputs": [],
   "source": [
    "#Words to compute cosine similarity over  \n",
    "word1 = 'china'\n",
    "word2 = 'wuhan'\n",
    "\n",
    "#Get the word embeddings \n",
    "embedding1 = model.wv[word1]\n",
    "embedding2 = model.wv[word2]"
   ]
  },
  {
   "cell_type": "code",
   "execution_count": null,
   "metadata": {
    "id": "8YaVEpMko58z"
   },
   "outputs": [],
   "source": [
    "#Compute the cosine similarity and print the results \n",
    "cosineSimilarity = np.sum(embedding1*embedding2) / (np.sqrt(np.sum(np.square(embedding1)))*np.sqrt(np.sum(np.square(embedding2))))\n",
    "print(\"Word1: \"+word1+\" --- Word2: \"+word2)\n",
    "print(\"Cosine similarity: \"+ str(cosineSimilarity))"
   ]
  },
  {
   "cell_type": "code",
   "execution_count": null,
   "metadata": {
    "id": "zM8OOiPPo581"
   },
   "outputs": [],
   "source": [
    "#Set the GPU device\n",
    "device = 0\n",
    "torch.cuda.set_device(device)"
   ]
  },
  {
   "cell_type": "code",
   "execution_count": null,
   "metadata": {
    "id": "vXfRpihIo583"
   },
   "outputs": [],
   "source": [
    "#Read in the saved data \n",
    "print(\"Loading the dataframe.\")\n",
    "df_covid = pd.read_csv('../input/cord19cleaneddata/covidDataCleaned.csv')\n",
    "print(\"Dataframe loaded.\")\n",
    "print()\n",
    "df_covid = df_covid.head(500)"
   ]
  },
  {
   "cell_type": "code",
   "execution_count": null,
   "metadata": {
    "id": "06kfCUwao585"
   },
   "outputs": [],
   "source": [
    "#Variable to store the batch size\n",
    "batchSize = 500 "
   ]
  },
  {
   "cell_type": "code",
   "execution_count": null,
   "metadata": {
    "id": "hWk4rCufo587"
   },
   "outputs": [],
   "source": [
    "#Load the model\n",
    "print(\"Loading BERT semantic similarity model.\")\n",
    "model = ClinicalBertSimilarity(device='cuda', batch_size=batchSize) #defaults to GPU prediction\n",
    "print(\"Model loaded.\")\n",
    "print()"
   ]
  },
  {
   "cell_type": "code",
   "execution_count": null,
   "metadata": {
    "id": "bb9tkgi5o589"
   },
   "outputs": [],
   "source": [
    "#The primary questions that attempt to be answered  \n",
    "primaryQuestions = [\n",
    "    \"What is known about transmission, incubation, and environmental stability of coronavirus\"\n",
    "    #\"What do we know about coronavirus risk factors\"\n",
    "    #\"What do we know about coronavirus genetics, origin, and evolution\"\n",
    "    #\"What do we know about vaccines and therapeutics for coronavirus\"\n",
    "    #\"What has been published about coronavirus medical care\"\n",
    "    #\"What do we know about non-pharmaceutical interventions for coronavirus\"\n",
    "    #\"What do we know about diagnostics and surveillance of coronavirus\"\n",
    "    #\"In what ways does geography affects virality\"\n",
    "    #\"What has been published about ethical and social science considerations regarding coronavirus\"\n",
    "    #\"What has been published about information sharing and inter-sectoral collaboration\"\n",
    "]"
   ]
  },
  {
   "cell_type": "code",
   "execution_count": null,
   "metadata": {
    "colab": {
     "base_uri": "https://localhost:8080/",
     "height": 335
    },
    "id": "P2kkPFvLqYZT",
    "outputId": "d4982acb-b5ba-42e7-e6d8-8fcd71bc889b"
   },
   "outputs": [],
   "source": [
    "#Extract the text from the articles \n",
    "articleTexts = df_covid.drop([\"paper_id\", \"abstract\", \"title\", \"authors\", \"journal\", \"url\", \"abstract_word_count\", \"body_word_count\"], axis=1)\n",
    "text_list = list(articleTexts['body_text'])"
   ]
  },
  {
   "cell_type": "code",
   "execution_count": 84,
   "metadata": {
    "id": "0q7OALl_qdvt"
   },
   "outputs": [],
   "source": [
    "#Get the index of where the prediction ranks among the current best predictions \n",
    "def computeScoreIndex(predictionScore, answerScores):\n",
    "    index = 0\n",
    "    while(index < len(answerScores)):\n",
    "        if(predictionScore > answerScores[index]):\n",
    "            break\n",
    "        index += 1\n",
    "    return index"
   ]
  },
  {
   "cell_type": "code",
   "execution_count": 85,
   "metadata": {
    "id": "qD0U068jqflx"
   },
   "outputs": [],
   "source": [
    "#Function to make a batch to send through the semantic similarity model \n",
    "def makeBatch(query, sentences):\n",
    "    batch = []\n",
    "    index = 0\n",
    "    while(index < len(sentences)):\n",
    "        batch.append((query, sentences[index]))\n",
    "        index += 1\n",
    "    return batch "
   ]
  },
  {
   "cell_type": "code",
   "execution_count": 86,
   "metadata": {
    "id": "nlAxCgY6qiFl"
   },
   "outputs": [],
   "source": [
    "#Set scores to strings for saving \n",
    "def convertScores(answers):\n",
    "    for key in answers.keys():\n",
    "        for scoreIndex, score in enumerate(answers[key]['scores']):\n",
    "            answers[key]['scores'][scoreIndex] = str(answers[key]['scores'][scoreIndex])\n",
    "    return answers"
   ]
  },
  {
   "cell_type": "code",
   "execution_count": 87,
   "metadata": {
    "id": "C2MRjaRUqkGs"
   },
   "outputs": [],
   "source": [
    "#Dictionary to store answers and variable to specify the number of answers to store \n",
    "answerCount = 20\n",
    "questionResponses = {'titles': [], 'sentences': [], 'scores': []}\n",
    "answers = {}\n",
    "for query in primaryQuestions:\n",
    "    answers[query] = copy.deepcopy(questionResponses)"
   ]
  },
  {
   "cell_type": "code",
   "execution_count": 88,
   "metadata": {
    "id": "tehXCw0fqnsm"
   },
   "outputs": [],
   "source": [
    "#Function to update the most relevant answers based on model predictions \n",
    "def updateAnswersSentences(query, title, sentences, predictions, answers, answerCount):\n",
    "    #Get the top answerCount prediction scores \n",
    "    topIndices = predictions.argsort()[-answerCount:][::-1]\n",
    "    for index in topIndices:\n",
    "        #Case where lists are empty\n",
    "        if(len(answers[query]['scores']) == 0):\n",
    "            answers[query]['titles'].append(title)\n",
    "            answers[query]['sentences'].append(sentences[index])\n",
    "            answers[query]['scores'].append(predictions[index])\n",
    "        #Case where lists have length shorter than answerCount \n",
    "        elif(len(answers[query]['scores']) < answerCount):\n",
    "            scoreIndex = computeScoreIndex(predictions[index], answers[query]['scores'])\n",
    "            answers[query]['titles'].insert(scoreIndex, title)\n",
    "            answers[query]['sentences'].insert(scoreIndex, sentences[index])\n",
    "            answers[query]['scores'].insert(scoreIndex, predictions[index])\n",
    "        #Case where lists are full \n",
    "        else:\n",
    "            scoreIndex = computeScoreIndex(predictions[index], answers[query]['scores'])\n",
    "            #Check to see if an item should be bumped out of the list \n",
    "            if(scoreIndex < answerCount):\n",
    "                answers[query]['titles'].insert(scoreIndex, title)\n",
    "                answers[query]['sentences'].insert(scoreIndex, sentences[index])\n",
    "                answers[query]['scores'].insert(scoreIndex, predictions[index])\n",
    "                answers[query]['titles'] = answers[query]['titles'][:answerCount]\n",
    "                answers[query]['sentences'] = answers[query]['sentences'][:answerCount]\n",
    "                answers[query]['scores'] = answers[query]['scores'][:answerCount]\n",
    "    return answers "
   ]
  },
  {
   "cell_type": "code",
   "execution_count": 89,
   "metadata": {
    "colab": {
     "base_uri": "https://localhost:8080/"
    },
    "id": "6DdlS1C2qrke",
    "outputId": "78e7eeb0-9458-4979-ab70-d601b0c3085f"
   },
   "outputs": [
    {
     "name": "stdout",
     "output_type": "stream",
     "text": [
      "Processing query 0 of 1 --- Article 885 of 886\n"
     ]
    }
   ],
   "source": [
    "#Loop through all queries   \n",
    "for queryIndex, query in enumerate(primaryQuestions):\n",
    "    #Loop through all articles \n",
    "    for textIndex, text in enumerate(text_list):\n",
    "        #Tokenize the article to sentences and loop through all sentences computing prediction scores for each \n",
    "        sentences = sent_tokenize(text)\n",
    "        batchIndex = 0\n",
    "        while(batchIndex*batchSize < len(sentences)):\n",
    "            batchSentences = None\n",
    "            batch = None\n",
    "            #Check to make sure the batch size won't go out of bounds in regard to the sentences \n",
    "            if((batchIndex*batchSize)+batchSize > len(sentences)):\n",
    "                batchSentences = sentences[batchIndex*batchSize:len(sentences)]\n",
    "                batch = makeBatch(query, batchSentences)\n",
    "            else:\n",
    "                batchSentences = sentences[batchIndex*batchSize:(batchIndex*batchSize)+batchSize]\n",
    "                batch = makeBatch(query, batchSentences)\n",
    "            predictions = model.predict(batch)\n",
    "            answers = updateAnswersSentences(query, df_covid.iloc[textIndex][\"title\"], batchSentences, predictions, answers, answerCount)\n",
    "            batchIndex += 1\n",
    "        print(\"Processing query \"+str(queryIndex)+\" of \"+str(len(primaryQuestions))+\" --- Article \"+str(textIndex)+\" of \"+str(len(text_list)), end='\\r')\n",
    "    print()"
   ]
  },
  {
   "cell_type": "code",
   "execution_count": 91,
   "metadata": {
    "id": "WE0CJwO1qugu"
   },
   "outputs": [],
   "source": [
    "#Save the results\n",
    "answers = convertScores(answers)\n",
    "jsonData = json.dumps(answers)\n",
    "f = open(\"topSentences.json\",\"w\")\n",
    "f.write(jsonData)\n",
    "f.close()"
   ]
  },
  {
   "cell_type": "code",
   "execution_count": 92,
   "metadata": {
    "id": "f5aAFjMPqxdO"
   },
   "outputs": [],
   "source": [
    "#Read in the json file of results \n",
    "filename = \"topSentences.json\"\n",
    "answers = None\n",
    "with open(filename, 'r') as myfile:\n",
    "    answers = json.load(myfile)"
   ]
  },
  {
   "cell_type": "code",
   "execution_count": null,
   "metadata": {
    "id": "A1YFgvLRrudK"
   },
   "outputs": [],
   "source": []
  }
 ],
 "metadata": {
  "accelerator": "GPU",
  "colab": {
   "collapsed_sections": [],
   "name": "IST700 Final Project.ipynb",
   "provenance": []
  },
  "kernelspec": {
   "display_name": "Python 3",
   "language": "python",
   "name": "python3"
  },
  "language_info": {
   "codemirror_mode": {
    "name": "ipython",
    "version": 3
   },
   "file_extension": ".py",
   "mimetype": "text/x-python",
   "name": "python",
   "nbconvert_exporter": "python",
   "pygments_lexer": "ipython3",
   "version": "3.7.7"
  },
  "widgets": {
   "application/vnd.jupyter.widget-state+json": {
    "04e53bd5adec417cb3390098479c8fa2": {
     "model_module": "@jupyter-widgets/base",
     "model_name": "LayoutModel",
     "state": {
      "_model_module": "@jupyter-widgets/base",
      "_model_module_version": "1.2.0",
      "_model_name": "LayoutModel",
      "_view_count": null,
      "_view_module": "@jupyter-widgets/base",
      "_view_module_version": "1.2.0",
      "_view_name": "LayoutView",
      "align_content": null,
      "align_items": null,
      "align_self": null,
      "border": null,
      "bottom": null,
      "display": null,
      "flex": null,
      "flex_flow": null,
      "grid_area": null,
      "grid_auto_columns": null,
      "grid_auto_flow": null,
      "grid_auto_rows": null,
      "grid_column": null,
      "grid_gap": null,
      "grid_row": null,
      "grid_template_areas": null,
      "grid_template_columns": null,
      "grid_template_rows": null,
      "height": null,
      "justify_content": null,
      "justify_items": null,
      "left": null,
      "margin": null,
      "max_height": null,
      "max_width": null,
      "min_height": null,
      "min_width": null,
      "object_fit": null,
      "object_position": null,
      "order": null,
      "overflow": null,
      "overflow_x": null,
      "overflow_y": null,
      "padding": null,
      "right": null,
      "top": null,
      "visibility": null,
      "width": null
     }
    },
    "0c88c371b6f947b9958360fda734e733": {
     "model_module": "@jupyter-widgets/controls",
     "model_name": "HBoxModel",
     "state": {
      "_dom_classes": [],
      "_model_module": "@jupyter-widgets/controls",
      "_model_module_version": "1.5.0",
      "_model_name": "HBoxModel",
      "_view_count": null,
      "_view_module": "@jupyter-widgets/controls",
      "_view_module_version": "1.5.0",
      "_view_name": "HBoxView",
      "box_style": "",
      "children": [
       "IPY_MODEL_8246d4a2683e4ccea923664d93abfc3f",
       "IPY_MODEL_471b981575574f79a5207a21a90deb4b"
      ],
      "layout": "IPY_MODEL_c11b95f7dcf540c18799cf1ac293302b"
     }
    },
    "0d0e11b790ee440881aa63eb843ed3f3": {
     "model_module": "@jupyter-widgets/controls",
     "model_name": "DescriptionStyleModel",
     "state": {
      "_model_module": "@jupyter-widgets/controls",
      "_model_module_version": "1.5.0",
      "_model_name": "DescriptionStyleModel",
      "_view_count": null,
      "_view_module": "@jupyter-widgets/base",
      "_view_module_version": "1.2.0",
      "_view_name": "StyleView",
      "description_width": ""
     }
    },
    "160da13e23fd4825a1321ace6ce1eaee": {
     "model_module": "@jupyter-widgets/controls",
     "model_name": "ProgressStyleModel",
     "state": {
      "_model_module": "@jupyter-widgets/controls",
      "_model_module_version": "1.5.0",
      "_model_name": "ProgressStyleModel",
      "_view_count": null,
      "_view_module": "@jupyter-widgets/base",
      "_view_module_version": "1.2.0",
      "_view_name": "StyleView",
      "bar_color": null,
      "description_width": "initial"
     }
    },
    "1f2384d9ed3b48b6a369120cbf93e3ab": {
     "model_module": "@jupyter-widgets/base",
     "model_name": "LayoutModel",
     "state": {
      "_model_module": "@jupyter-widgets/base",
      "_model_module_version": "1.2.0",
      "_model_name": "LayoutModel",
      "_view_count": null,
      "_view_module": "@jupyter-widgets/base",
      "_view_module_version": "1.2.0",
      "_view_name": "LayoutView",
      "align_content": null,
      "align_items": null,
      "align_self": null,
      "border": null,
      "bottom": null,
      "display": null,
      "flex": null,
      "flex_flow": null,
      "grid_area": null,
      "grid_auto_columns": null,
      "grid_auto_flow": null,
      "grid_auto_rows": null,
      "grid_column": null,
      "grid_gap": null,
      "grid_row": null,
      "grid_template_areas": null,
      "grid_template_columns": null,
      "grid_template_rows": null,
      "height": null,
      "justify_content": null,
      "justify_items": null,
      "left": null,
      "margin": null,
      "max_height": null,
      "max_width": null,
      "min_height": null,
      "min_width": null,
      "object_fit": null,
      "object_position": null,
      "order": null,
      "overflow": null,
      "overflow_x": null,
      "overflow_y": null,
      "padding": null,
      "right": null,
      "top": null,
      "visibility": null,
      "width": null
     }
    },
    "219f768b193543b58ac1ab49323b430e": {
     "model_module": "@jupyter-widgets/controls",
     "model_name": "DescriptionStyleModel",
     "state": {
      "_model_module": "@jupyter-widgets/controls",
      "_model_module_version": "1.5.0",
      "_model_name": "DescriptionStyleModel",
      "_view_count": null,
      "_view_module": "@jupyter-widgets/base",
      "_view_module_version": "1.2.0",
      "_view_name": "StyleView",
      "description_width": ""
     }
    },
    "26114cb8480047189f1d586c241868e9": {
     "model_module": "@jupyter-widgets/base",
     "model_name": "LayoutModel",
     "state": {
      "_model_module": "@jupyter-widgets/base",
      "_model_module_version": "1.2.0",
      "_model_name": "LayoutModel",
      "_view_count": null,
      "_view_module": "@jupyter-widgets/base",
      "_view_module_version": "1.2.0",
      "_view_name": "LayoutView",
      "align_content": null,
      "align_items": null,
      "align_self": null,
      "border": null,
      "bottom": null,
      "display": null,
      "flex": null,
      "flex_flow": null,
      "grid_area": null,
      "grid_auto_columns": null,
      "grid_auto_flow": null,
      "grid_auto_rows": null,
      "grid_column": null,
      "grid_gap": null,
      "grid_row": null,
      "grid_template_areas": null,
      "grid_template_columns": null,
      "grid_template_rows": null,
      "height": null,
      "justify_content": null,
      "justify_items": null,
      "left": null,
      "margin": null,
      "max_height": null,
      "max_width": null,
      "min_height": null,
      "min_width": null,
      "object_fit": null,
      "object_position": null,
      "order": null,
      "overflow": null,
      "overflow_x": null,
      "overflow_y": null,
      "padding": null,
      "right": null,
      "top": null,
      "visibility": null,
      "width": null
     }
    },
    "2ca44e1b65e84897ae2f015d83e07baa": {
     "model_module": "@jupyter-widgets/base",
     "model_name": "LayoutModel",
     "state": {
      "_model_module": "@jupyter-widgets/base",
      "_model_module_version": "1.2.0",
      "_model_name": "LayoutModel",
      "_view_count": null,
      "_view_module": "@jupyter-widgets/base",
      "_view_module_version": "1.2.0",
      "_view_name": "LayoutView",
      "align_content": null,
      "align_items": null,
      "align_self": null,
      "border": null,
      "bottom": null,
      "display": null,
      "flex": null,
      "flex_flow": null,
      "grid_area": null,
      "grid_auto_columns": null,
      "grid_auto_flow": null,
      "grid_auto_rows": null,
      "grid_column": null,
      "grid_gap": null,
      "grid_row": null,
      "grid_template_areas": null,
      "grid_template_columns": null,
      "grid_template_rows": null,
      "height": null,
      "justify_content": null,
      "justify_items": null,
      "left": null,
      "margin": null,
      "max_height": null,
      "max_width": null,
      "min_height": null,
      "min_width": null,
      "object_fit": null,
      "object_position": null,
      "order": null,
      "overflow": null,
      "overflow_x": null,
      "overflow_y": null,
      "padding": null,
      "right": null,
      "top": null,
      "visibility": null,
      "width": null
     }
    },
    "3121b71fc6b44945a33e8c05ef6a1e97": {
     "model_module": "@jupyter-widgets/controls",
     "model_name": "DescriptionStyleModel",
     "state": {
      "_model_module": "@jupyter-widgets/controls",
      "_model_module_version": "1.5.0",
      "_model_name": "DescriptionStyleModel",
      "_view_count": null,
      "_view_module": "@jupyter-widgets/base",
      "_view_module_version": "1.2.0",
      "_view_name": "StyleView",
      "description_width": ""
     }
    },
    "3837b29efb424522a4c8895439c23e09": {
     "model_module": "@jupyter-widgets/base",
     "model_name": "LayoutModel",
     "state": {
      "_model_module": "@jupyter-widgets/base",
      "_model_module_version": "1.2.0",
      "_model_name": "LayoutModel",
      "_view_count": null,
      "_view_module": "@jupyter-widgets/base",
      "_view_module_version": "1.2.0",
      "_view_name": "LayoutView",
      "align_content": null,
      "align_items": null,
      "align_self": null,
      "border": null,
      "bottom": null,
      "display": null,
      "flex": null,
      "flex_flow": null,
      "grid_area": null,
      "grid_auto_columns": null,
      "grid_auto_flow": null,
      "grid_auto_rows": null,
      "grid_column": null,
      "grid_gap": null,
      "grid_row": null,
      "grid_template_areas": null,
      "grid_template_columns": null,
      "grid_template_rows": null,
      "height": null,
      "justify_content": null,
      "justify_items": null,
      "left": null,
      "margin": null,
      "max_height": null,
      "max_width": null,
      "min_height": null,
      "min_width": null,
      "object_fit": null,
      "object_position": null,
      "order": null,
      "overflow": null,
      "overflow_x": null,
      "overflow_y": null,
      "padding": null,
      "right": null,
      "top": null,
      "visibility": null,
      "width": null
     }
    },
    "3c048663453548d8b1802125cefaabb5": {
     "model_module": "@jupyter-widgets/base",
     "model_name": "LayoutModel",
     "state": {
      "_model_module": "@jupyter-widgets/base",
      "_model_module_version": "1.2.0",
      "_model_name": "LayoutModel",
      "_view_count": null,
      "_view_module": "@jupyter-widgets/base",
      "_view_module_version": "1.2.0",
      "_view_name": "LayoutView",
      "align_content": null,
      "align_items": null,
      "align_self": null,
      "border": null,
      "bottom": null,
      "display": null,
      "flex": null,
      "flex_flow": null,
      "grid_area": null,
      "grid_auto_columns": null,
      "grid_auto_flow": null,
      "grid_auto_rows": null,
      "grid_column": null,
      "grid_gap": null,
      "grid_row": null,
      "grid_template_areas": null,
      "grid_template_columns": null,
      "grid_template_rows": null,
      "height": null,
      "justify_content": null,
      "justify_items": null,
      "left": null,
      "margin": null,
      "max_height": null,
      "max_width": null,
      "min_height": null,
      "min_width": null,
      "object_fit": null,
      "object_position": null,
      "order": null,
      "overflow": null,
      "overflow_x": null,
      "overflow_y": null,
      "padding": null,
      "right": null,
      "top": null,
      "visibility": null,
      "width": null
     }
    },
    "3d6487990a1c4f9bb0da2ad73102b38e": {
     "model_module": "@jupyter-widgets/controls",
     "model_name": "ProgressStyleModel",
     "state": {
      "_model_module": "@jupyter-widgets/controls",
      "_model_module_version": "1.5.0",
      "_model_name": "ProgressStyleModel",
      "_view_count": null,
      "_view_module": "@jupyter-widgets/base",
      "_view_module_version": "1.2.0",
      "_view_name": "StyleView",
      "bar_color": null,
      "description_width": "initial"
     }
    },
    "3e2d29f35e4849be861329dad0b2b036": {
     "model_module": "@jupyter-widgets/base",
     "model_name": "LayoutModel",
     "state": {
      "_model_module": "@jupyter-widgets/base",
      "_model_module_version": "1.2.0",
      "_model_name": "LayoutModel",
      "_view_count": null,
      "_view_module": "@jupyter-widgets/base",
      "_view_module_version": "1.2.0",
      "_view_name": "LayoutView",
      "align_content": null,
      "align_items": null,
      "align_self": null,
      "border": null,
      "bottom": null,
      "display": null,
      "flex": null,
      "flex_flow": null,
      "grid_area": null,
      "grid_auto_columns": null,
      "grid_auto_flow": null,
      "grid_auto_rows": null,
      "grid_column": null,
      "grid_gap": null,
      "grid_row": null,
      "grid_template_areas": null,
      "grid_template_columns": null,
      "grid_template_rows": null,
      "height": null,
      "justify_content": null,
      "justify_items": null,
      "left": null,
      "margin": null,
      "max_height": null,
      "max_width": null,
      "min_height": null,
      "min_width": null,
      "object_fit": null,
      "object_position": null,
      "order": null,
      "overflow": null,
      "overflow_x": null,
      "overflow_y": null,
      "padding": null,
      "right": null,
      "top": null,
      "visibility": null,
      "width": null
     }
    },
    "405ddc94b2eb4d5d9934e9d97029eef0": {
     "model_module": "@jupyter-widgets/controls",
     "model_name": "HBoxModel",
     "state": {
      "_dom_classes": [],
      "_model_module": "@jupyter-widgets/controls",
      "_model_module_version": "1.5.0",
      "_model_name": "HBoxModel",
      "_view_count": null,
      "_view_module": "@jupyter-widgets/controls",
      "_view_module_version": "1.5.0",
      "_view_name": "HBoxView",
      "box_style": "",
      "children": [
       "IPY_MODEL_76026fe8ec04455caf03f33b326804d9",
       "IPY_MODEL_9fca5d7196304dbb84022e251ad820e3"
      ],
      "layout": "IPY_MODEL_890f66a5e6474ae1920c26afa27548d8"
     }
    },
    "471b981575574f79a5207a21a90deb4b": {
     "model_module": "@jupyter-widgets/controls",
     "model_name": "HTMLModel",
     "state": {
      "_dom_classes": [],
      "_model_module": "@jupyter-widgets/controls",
      "_model_module_version": "1.5.0",
      "_model_name": "HTMLModel",
      "_view_count": null,
      "_view_module": "@jupyter-widgets/controls",
      "_view_module_version": "1.5.0",
      "_view_name": "HTMLView",
      "description": "",
      "description_tooltip": null,
      "layout": "IPY_MODEL_5ea135c7c0ac4bc89f963c0fa9e6ac2d",
      "placeholder": "​",
      "style": "IPY_MODEL_219f768b193543b58ac1ab49323b430e",
      "value": " 1/1 [00:00&lt;00:00, 14.70it/s]"
     }
    },
    "5956926e9dc04dea942787bfd94db7e6": {
     "model_module": "@jupyter-widgets/controls",
     "model_name": "HBoxModel",
     "state": {
      "_dom_classes": [],
      "_model_module": "@jupyter-widgets/controls",
      "_model_module_version": "1.5.0",
      "_model_name": "HBoxModel",
      "_view_count": null,
      "_view_module": "@jupyter-widgets/controls",
      "_view_module_version": "1.5.0",
      "_view_name": "HBoxView",
      "box_style": "",
      "children": [
       "IPY_MODEL_bb0dfa43f3424dc8be4a5172d4a7618e",
       "IPY_MODEL_bca5629249c24d7f86f4d286c255afe4"
      ],
      "layout": "IPY_MODEL_60375835068b4dc9894bf94d2e501a9a"
     }
    },
    "5c6e337749b3466586377153b375720a": {
     "model_module": "@jupyter-widgets/controls",
     "model_name": "HBoxModel",
     "state": {
      "_dom_classes": [],
      "_model_module": "@jupyter-widgets/controls",
      "_model_module_version": "1.5.0",
      "_model_name": "HBoxModel",
      "_view_count": null,
      "_view_module": "@jupyter-widgets/controls",
      "_view_module_version": "1.5.0",
      "_view_name": "HBoxView",
      "box_style": "",
      "children": [
       "IPY_MODEL_f92af5727203433cb0f9d47d2817e297",
       "IPY_MODEL_fbe61d0a267645808b74a0a2da50b52f"
      ],
      "layout": "IPY_MODEL_eab747aee93f43699ae89e39e2cc8757"
     }
    },
    "5d0062b5898f424a9774f1813a78d997": {
     "model_module": "@jupyter-widgets/controls",
     "model_name": "ProgressStyleModel",
     "state": {
      "_model_module": "@jupyter-widgets/controls",
      "_model_module_version": "1.5.0",
      "_model_name": "ProgressStyleModel",
      "_view_count": null,
      "_view_module": "@jupyter-widgets/base",
      "_view_module_version": "1.2.0",
      "_view_name": "StyleView",
      "bar_color": null,
      "description_width": "initial"
     }
    },
    "5d65db3113004696937de54841c973d2": {
     "model_module": "@jupyter-widgets/base",
     "model_name": "LayoutModel",
     "state": {
      "_model_module": "@jupyter-widgets/base",
      "_model_module_version": "1.2.0",
      "_model_name": "LayoutModel",
      "_view_count": null,
      "_view_module": "@jupyter-widgets/base",
      "_view_module_version": "1.2.0",
      "_view_name": "LayoutView",
      "align_content": null,
      "align_items": null,
      "align_self": null,
      "border": null,
      "bottom": null,
      "display": null,
      "flex": null,
      "flex_flow": null,
      "grid_area": null,
      "grid_auto_columns": null,
      "grid_auto_flow": null,
      "grid_auto_rows": null,
      "grid_column": null,
      "grid_gap": null,
      "grid_row": null,
      "grid_template_areas": null,
      "grid_template_columns": null,
      "grid_template_rows": null,
      "height": null,
      "justify_content": null,
      "justify_items": null,
      "left": null,
      "margin": null,
      "max_height": null,
      "max_width": null,
      "min_height": null,
      "min_width": null,
      "object_fit": null,
      "object_position": null,
      "order": null,
      "overflow": null,
      "overflow_x": null,
      "overflow_y": null,
      "padding": null,
      "right": null,
      "top": null,
      "visibility": null,
      "width": null
     }
    },
    "5ea135c7c0ac4bc89f963c0fa9e6ac2d": {
     "model_module": "@jupyter-widgets/base",
     "model_name": "LayoutModel",
     "state": {
      "_model_module": "@jupyter-widgets/base",
      "_model_module_version": "1.2.0",
      "_model_name": "LayoutModel",
      "_view_count": null,
      "_view_module": "@jupyter-widgets/base",
      "_view_module_version": "1.2.0",
      "_view_name": "LayoutView",
      "align_content": null,
      "align_items": null,
      "align_self": null,
      "border": null,
      "bottom": null,
      "display": null,
      "flex": null,
      "flex_flow": null,
      "grid_area": null,
      "grid_auto_columns": null,
      "grid_auto_flow": null,
      "grid_auto_rows": null,
      "grid_column": null,
      "grid_gap": null,
      "grid_row": null,
      "grid_template_areas": null,
      "grid_template_columns": null,
      "grid_template_rows": null,
      "height": null,
      "justify_content": null,
      "justify_items": null,
      "left": null,
      "margin": null,
      "max_height": null,
      "max_width": null,
      "min_height": null,
      "min_width": null,
      "object_fit": null,
      "object_position": null,
      "order": null,
      "overflow": null,
      "overflow_x": null,
      "overflow_y": null,
      "padding": null,
      "right": null,
      "top": null,
      "visibility": null,
      "width": null
     }
    },
    "60375835068b4dc9894bf94d2e501a9a": {
     "model_module": "@jupyter-widgets/base",
     "model_name": "LayoutModel",
     "state": {
      "_model_module": "@jupyter-widgets/base",
      "_model_module_version": "1.2.0",
      "_model_name": "LayoutModel",
      "_view_count": null,
      "_view_module": "@jupyter-widgets/base",
      "_view_module_version": "1.2.0",
      "_view_name": "LayoutView",
      "align_content": null,
      "align_items": null,
      "align_self": null,
      "border": null,
      "bottom": null,
      "display": null,
      "flex": null,
      "flex_flow": null,
      "grid_area": null,
      "grid_auto_columns": null,
      "grid_auto_flow": null,
      "grid_auto_rows": null,
      "grid_column": null,
      "grid_gap": null,
      "grid_row": null,
      "grid_template_areas": null,
      "grid_template_columns": null,
      "grid_template_rows": null,
      "height": null,
      "justify_content": null,
      "justify_items": null,
      "left": null,
      "margin": null,
      "max_height": null,
      "max_width": null,
      "min_height": null,
      "min_width": null,
      "object_fit": null,
      "object_position": null,
      "order": null,
      "overflow": null,
      "overflow_x": null,
      "overflow_y": null,
      "padding": null,
      "right": null,
      "top": null,
      "visibility": null,
      "width": null
     }
    },
    "635f3128e02c46b4a11c90e9855431d3": {
     "model_module": "@jupyter-widgets/controls",
     "model_name": "FloatProgressModel",
     "state": {
      "_dom_classes": [],
      "_model_module": "@jupyter-widgets/controls",
      "_model_module_version": "1.5.0",
      "_model_name": "FloatProgressModel",
      "_view_count": null,
      "_view_module": "@jupyter-widgets/controls",
      "_view_module_version": "1.5.0",
      "_view_name": "ProgressView",
      "bar_style": "success",
      "description": "Batches: 100%",
      "description_tooltip": null,
      "layout": "IPY_MODEL_2ca44e1b65e84897ae2f015d83e07baa",
      "max": 1,
      "min": 0,
      "orientation": "horizontal",
      "style": "IPY_MODEL_3d6487990a1c4f9bb0da2ad73102b38e",
      "value": 1
     }
    },
    "76026fe8ec04455caf03f33b326804d9": {
     "model_module": "@jupyter-widgets/controls",
     "model_name": "FloatProgressModel",
     "state": {
      "_dom_classes": [],
      "_model_module": "@jupyter-widgets/controls",
      "_model_module_version": "1.5.0",
      "_model_name": "FloatProgressModel",
      "_view_count": null,
      "_view_module": "@jupyter-widgets/controls",
      "_view_module_version": "1.5.0",
      "_view_name": "ProgressView",
      "bar_style": "success",
      "description": "Batches: 100%",
      "description_tooltip": null,
      "layout": "IPY_MODEL_ffb3654895994068bc71191c77b1b3cb",
      "max": 1,
      "min": 0,
      "orientation": "horizontal",
      "style": "IPY_MODEL_a39ad03bb5ee4d17a15930c8b6963806",
      "value": 1
     }
    },
    "7883a1343208439d8517f0757f9c4c6e": {
     "model_module": "@jupyter-widgets/controls",
     "model_name": "FloatProgressModel",
     "state": {
      "_dom_classes": [],
      "_model_module": "@jupyter-widgets/controls",
      "_model_module_version": "1.5.0",
      "_model_name": "FloatProgressModel",
      "_view_count": null,
      "_view_module": "@jupyter-widgets/controls",
      "_view_module_version": "1.5.0",
      "_view_name": "ProgressView",
      "bar_style": "success",
      "description": "Batches: 100%",
      "description_tooltip": null,
      "layout": "IPY_MODEL_26114cb8480047189f1d586c241868e9",
      "max": 19,
      "min": 0,
      "orientation": "horizontal",
      "style": "IPY_MODEL_160da13e23fd4825a1321ace6ce1eaee",
      "value": 19
     }
    },
    "8236b74276704df4a3593c737ac309fe": {
     "model_module": "@jupyter-widgets/base",
     "model_name": "LayoutModel",
     "state": {
      "_model_module": "@jupyter-widgets/base",
      "_model_module_version": "1.2.0",
      "_model_name": "LayoutModel",
      "_view_count": null,
      "_view_module": "@jupyter-widgets/base",
      "_view_module_version": "1.2.0",
      "_view_name": "LayoutView",
      "align_content": null,
      "align_items": null,
      "align_self": null,
      "border": null,
      "bottom": null,
      "display": null,
      "flex": null,
      "flex_flow": null,
      "grid_area": null,
      "grid_auto_columns": null,
      "grid_auto_flow": null,
      "grid_auto_rows": null,
      "grid_column": null,
      "grid_gap": null,
      "grid_row": null,
      "grid_template_areas": null,
      "grid_template_columns": null,
      "grid_template_rows": null,
      "height": null,
      "justify_content": null,
      "justify_items": null,
      "left": null,
      "margin": null,
      "max_height": null,
      "max_width": null,
      "min_height": null,
      "min_width": null,
      "object_fit": null,
      "object_position": null,
      "order": null,
      "overflow": null,
      "overflow_x": null,
      "overflow_y": null,
      "padding": null,
      "right": null,
      "top": null,
      "visibility": null,
      "width": null
     }
    },
    "8246d4a2683e4ccea923664d93abfc3f": {
     "model_module": "@jupyter-widgets/controls",
     "model_name": "FloatProgressModel",
     "state": {
      "_dom_classes": [],
      "_model_module": "@jupyter-widgets/controls",
      "_model_module_version": "1.5.0",
      "_model_name": "FloatProgressModel",
      "_view_count": null,
      "_view_module": "@jupyter-widgets/controls",
      "_view_module_version": "1.5.0",
      "_view_name": "ProgressView",
      "bar_style": "success",
      "description": "Batches: 100%",
      "description_tooltip": null,
      "layout": "IPY_MODEL_8236b74276704df4a3593c737ac309fe",
      "max": 1,
      "min": 0,
      "orientation": "horizontal",
      "style": "IPY_MODEL_5d0062b5898f424a9774f1813a78d997",
      "value": 1
     }
    },
    "890f66a5e6474ae1920c26afa27548d8": {
     "model_module": "@jupyter-widgets/base",
     "model_name": "LayoutModel",
     "state": {
      "_model_module": "@jupyter-widgets/base",
      "_model_module_version": "1.2.0",
      "_model_name": "LayoutModel",
      "_view_count": null,
      "_view_module": "@jupyter-widgets/base",
      "_view_module_version": "1.2.0",
      "_view_name": "LayoutView",
      "align_content": null,
      "align_items": null,
      "align_self": null,
      "border": null,
      "bottom": null,
      "display": null,
      "flex": null,
      "flex_flow": null,
      "grid_area": null,
      "grid_auto_columns": null,
      "grid_auto_flow": null,
      "grid_auto_rows": null,
      "grid_column": null,
      "grid_gap": null,
      "grid_row": null,
      "grid_template_areas": null,
      "grid_template_columns": null,
      "grid_template_rows": null,
      "height": null,
      "justify_content": null,
      "justify_items": null,
      "left": null,
      "margin": null,
      "max_height": null,
      "max_width": null,
      "min_height": null,
      "min_width": null,
      "object_fit": null,
      "object_position": null,
      "order": null,
      "overflow": null,
      "overflow_x": null,
      "overflow_y": null,
      "padding": null,
      "right": null,
      "top": null,
      "visibility": null,
      "width": null
     }
    },
    "8951ac790ee048c7a0fa11fdca03c2ba": {
     "model_module": "@jupyter-widgets/controls",
     "model_name": "ProgressStyleModel",
     "state": {
      "_model_module": "@jupyter-widgets/controls",
      "_model_module_version": "1.5.0",
      "_model_name": "ProgressStyleModel",
      "_view_count": null,
      "_view_module": "@jupyter-widgets/base",
      "_view_module_version": "1.2.0",
      "_view_name": "StyleView",
      "bar_color": null,
      "description_width": "initial"
     }
    },
    "94da5d09ed7b4a1788634100df706825": {
     "model_module": "@jupyter-widgets/controls",
     "model_name": "HBoxModel",
     "state": {
      "_dom_classes": [],
      "_model_module": "@jupyter-widgets/controls",
      "_model_module_version": "1.5.0",
      "_model_name": "HBoxModel",
      "_view_count": null,
      "_view_module": "@jupyter-widgets/controls",
      "_view_module_version": "1.5.0",
      "_view_name": "HBoxView",
      "box_style": "",
      "children": [
       "IPY_MODEL_7883a1343208439d8517f0757f9c4c6e",
       "IPY_MODEL_990a597eddbd4154ac0ef708528c2fbf"
      ],
      "layout": "IPY_MODEL_1f2384d9ed3b48b6a369120cbf93e3ab"
     }
    },
    "958c3d7f991c40b991efee6088feef8a": {
     "model_module": "@jupyter-widgets/base",
     "model_name": "LayoutModel",
     "state": {
      "_model_module": "@jupyter-widgets/base",
      "_model_module_version": "1.2.0",
      "_model_name": "LayoutModel",
      "_view_count": null,
      "_view_module": "@jupyter-widgets/base",
      "_view_module_version": "1.2.0",
      "_view_name": "LayoutView",
      "align_content": null,
      "align_items": null,
      "align_self": null,
      "border": null,
      "bottom": null,
      "display": null,
      "flex": null,
      "flex_flow": null,
      "grid_area": null,
      "grid_auto_columns": null,
      "grid_auto_flow": null,
      "grid_auto_rows": null,
      "grid_column": null,
      "grid_gap": null,
      "grid_row": null,
      "grid_template_areas": null,
      "grid_template_columns": null,
      "grid_template_rows": null,
      "height": null,
      "justify_content": null,
      "justify_items": null,
      "left": null,
      "margin": null,
      "max_height": null,
      "max_width": null,
      "min_height": null,
      "min_width": null,
      "object_fit": null,
      "object_position": null,
      "order": null,
      "overflow": null,
      "overflow_x": null,
      "overflow_y": null,
      "padding": null,
      "right": null,
      "top": null,
      "visibility": null,
      "width": null
     }
    },
    "990a597eddbd4154ac0ef708528c2fbf": {
     "model_module": "@jupyter-widgets/controls",
     "model_name": "HTMLModel",
     "state": {
      "_dom_classes": [],
      "_model_module": "@jupyter-widgets/controls",
      "_model_module_version": "1.5.0",
      "_model_name": "HTMLModel",
      "_view_count": null,
      "_view_module": "@jupyter-widgets/controls",
      "_view_module_version": "1.5.0",
      "_view_name": "HTMLView",
      "description": "",
      "description_tooltip": null,
      "layout": "IPY_MODEL_958c3d7f991c40b991efee6088feef8a",
      "placeholder": "​",
      "style": "IPY_MODEL_c5d5a7681ee44d27be7370f07bbd1f25",
      "value": " 19/19 [00:06&lt;00:00,  3.00it/s]"
     }
    },
    "9fca5d7196304dbb84022e251ad820e3": {
     "model_module": "@jupyter-widgets/controls",
     "model_name": "HTMLModel",
     "state": {
      "_dom_classes": [],
      "_model_module": "@jupyter-widgets/controls",
      "_model_module_version": "1.5.0",
      "_model_name": "HTMLModel",
      "_view_count": null,
      "_view_module": "@jupyter-widgets/controls",
      "_view_module_version": "1.5.0",
      "_view_name": "HTMLView",
      "description": "",
      "description_tooltip": null,
      "layout": "IPY_MODEL_e18f41875abb4c80bce6c92f64681141",
      "placeholder": "​",
      "style": "IPY_MODEL_0d0e11b790ee440881aa63eb843ed3f3",
      "value": " 1/1 [02:48&lt;00:00, 169.00s/it]"
     }
    },
    "a378ccea0e9c4909ba0cfb38b5fe0ac1": {
     "model_module": "@jupyter-widgets/controls",
     "model_name": "ProgressStyleModel",
     "state": {
      "_model_module": "@jupyter-widgets/controls",
      "_model_module_version": "1.5.0",
      "_model_name": "ProgressStyleModel",
      "_view_count": null,
      "_view_module": "@jupyter-widgets/base",
      "_view_module_version": "1.2.0",
      "_view_name": "StyleView",
      "bar_color": null,
      "description_width": "initial"
     }
    },
    "a39ad03bb5ee4d17a15930c8b6963806": {
     "model_module": "@jupyter-widgets/controls",
     "model_name": "ProgressStyleModel",
     "state": {
      "_model_module": "@jupyter-widgets/controls",
      "_model_module_version": "1.5.0",
      "_model_name": "ProgressStyleModel",
      "_view_count": null,
      "_view_module": "@jupyter-widgets/base",
      "_view_module_version": "1.2.0",
      "_view_name": "StyleView",
      "bar_color": null,
      "description_width": "initial"
     }
    },
    "a8493b3c338f43b28426860b35e7dd7d": {
     "model_module": "@jupyter-widgets/controls",
     "model_name": "DescriptionStyleModel",
     "state": {
      "_model_module": "@jupyter-widgets/controls",
      "_model_module_version": "1.5.0",
      "_model_name": "DescriptionStyleModel",
      "_view_count": null,
      "_view_module": "@jupyter-widgets/base",
      "_view_module_version": "1.2.0",
      "_view_name": "StyleView",
      "description_width": ""
     }
    },
    "b331e4ffe6514aa88267793f7772660f": {
     "model_module": "@jupyter-widgets/controls",
     "model_name": "DescriptionStyleModel",
     "state": {
      "_model_module": "@jupyter-widgets/controls",
      "_model_module_version": "1.5.0",
      "_model_name": "DescriptionStyleModel",
      "_view_count": null,
      "_view_module": "@jupyter-widgets/base",
      "_view_module_version": "1.2.0",
      "_view_name": "StyleView",
      "description_width": ""
     }
    },
    "bb0dfa43f3424dc8be4a5172d4a7618e": {
     "model_module": "@jupyter-widgets/controls",
     "model_name": "FloatProgressModel",
     "state": {
      "_dom_classes": [],
      "_model_module": "@jupyter-widgets/controls",
      "_model_module_version": "1.5.0",
      "_model_name": "FloatProgressModel",
      "_view_count": null,
      "_view_module": "@jupyter-widgets/controls",
      "_view_module_version": "1.5.0",
      "_view_name": "ProgressView",
      "bar_style": "success",
      "description": "Batches: 100%",
      "description_tooltip": null,
      "layout": "IPY_MODEL_3e2d29f35e4849be861329dad0b2b036",
      "max": 1,
      "min": 0,
      "orientation": "horizontal",
      "style": "IPY_MODEL_8951ac790ee048c7a0fa11fdca03c2ba",
      "value": 1
     }
    },
    "bca5629249c24d7f86f4d286c255afe4": {
     "model_module": "@jupyter-widgets/controls",
     "model_name": "HTMLModel",
     "state": {
      "_dom_classes": [],
      "_model_module": "@jupyter-widgets/controls",
      "_model_module_version": "1.5.0",
      "_model_name": "HTMLModel",
      "_view_count": null,
      "_view_module": "@jupyter-widgets/controls",
      "_view_module_version": "1.5.0",
      "_view_name": "HTMLView",
      "description": "",
      "description_tooltip": null,
      "layout": "IPY_MODEL_5d65db3113004696937de54841c973d2",
      "placeholder": "​",
      "style": "IPY_MODEL_3121b71fc6b44945a33e8c05ef6a1e97",
      "value": " 1/1 [02:02&lt;00:00, 122.11s/it]"
     }
    },
    "c11b95f7dcf540c18799cf1ac293302b": {
     "model_module": "@jupyter-widgets/base",
     "model_name": "LayoutModel",
     "state": {
      "_model_module": "@jupyter-widgets/base",
      "_model_module_version": "1.2.0",
      "_model_name": "LayoutModel",
      "_view_count": null,
      "_view_module": "@jupyter-widgets/base",
      "_view_module_version": "1.2.0",
      "_view_name": "LayoutView",
      "align_content": null,
      "align_items": null,
      "align_self": null,
      "border": null,
      "bottom": null,
      "display": null,
      "flex": null,
      "flex_flow": null,
      "grid_area": null,
      "grid_auto_columns": null,
      "grid_auto_flow": null,
      "grid_auto_rows": null,
      "grid_column": null,
      "grid_gap": null,
      "grid_row": null,
      "grid_template_areas": null,
      "grid_template_columns": null,
      "grid_template_rows": null,
      "height": null,
      "justify_content": null,
      "justify_items": null,
      "left": null,
      "margin": null,
      "max_height": null,
      "max_width": null,
      "min_height": null,
      "min_width": null,
      "object_fit": null,
      "object_position": null,
      "order": null,
      "overflow": null,
      "overflow_x": null,
      "overflow_y": null,
      "padding": null,
      "right": null,
      "top": null,
      "visibility": null,
      "width": null
     }
    },
    "c40bca8a7cf34bcdbc1120158e87c423": {
     "model_module": "@jupyter-widgets/base",
     "model_name": "LayoutModel",
     "state": {
      "_model_module": "@jupyter-widgets/base",
      "_model_module_version": "1.2.0",
      "_model_name": "LayoutModel",
      "_view_count": null,
      "_view_module": "@jupyter-widgets/base",
      "_view_module_version": "1.2.0",
      "_view_name": "LayoutView",
      "align_content": null,
      "align_items": null,
      "align_self": null,
      "border": null,
      "bottom": null,
      "display": null,
      "flex": null,
      "flex_flow": null,
      "grid_area": null,
      "grid_auto_columns": null,
      "grid_auto_flow": null,
      "grid_auto_rows": null,
      "grid_column": null,
      "grid_gap": null,
      "grid_row": null,
      "grid_template_areas": null,
      "grid_template_columns": null,
      "grid_template_rows": null,
      "height": null,
      "justify_content": null,
      "justify_items": null,
      "left": null,
      "margin": null,
      "max_height": null,
      "max_width": null,
      "min_height": null,
      "min_width": null,
      "object_fit": null,
      "object_position": null,
      "order": null,
      "overflow": null,
      "overflow_x": null,
      "overflow_y": null,
      "padding": null,
      "right": null,
      "top": null,
      "visibility": null,
      "width": null
     }
    },
    "c5d5a7681ee44d27be7370f07bbd1f25": {
     "model_module": "@jupyter-widgets/controls",
     "model_name": "DescriptionStyleModel",
     "state": {
      "_model_module": "@jupyter-widgets/controls",
      "_model_module_version": "1.5.0",
      "_model_name": "DescriptionStyleModel",
      "_view_count": null,
      "_view_module": "@jupyter-widgets/base",
      "_view_module_version": "1.2.0",
      "_view_name": "StyleView",
      "description_width": ""
     }
    },
    "d6cbaecafe6e4ffd8abf7c79768139e3": {
     "model_module": "@jupyter-widgets/controls",
     "model_name": "HBoxModel",
     "state": {
      "_dom_classes": [],
      "_model_module": "@jupyter-widgets/controls",
      "_model_module_version": "1.5.0",
      "_model_name": "HBoxModel",
      "_view_count": null,
      "_view_module": "@jupyter-widgets/controls",
      "_view_module_version": "1.5.0",
      "_view_name": "HBoxView",
      "box_style": "",
      "children": [
       "IPY_MODEL_635f3128e02c46b4a11c90e9855431d3",
       "IPY_MODEL_db7b0828d5ca4eae80421c1573b4a7e4"
      ],
      "layout": "IPY_MODEL_c40bca8a7cf34bcdbc1120158e87c423"
     }
    },
    "db7b0828d5ca4eae80421c1573b4a7e4": {
     "model_module": "@jupyter-widgets/controls",
     "model_name": "HTMLModel",
     "state": {
      "_dom_classes": [],
      "_model_module": "@jupyter-widgets/controls",
      "_model_module_version": "1.5.0",
      "_model_name": "HTMLModel",
      "_view_count": null,
      "_view_module": "@jupyter-widgets/controls",
      "_view_module_version": "1.5.0",
      "_view_name": "HTMLView",
      "description": "",
      "description_tooltip": null,
      "layout": "IPY_MODEL_04e53bd5adec417cb3390098479c8fa2",
      "placeholder": "​",
      "style": "IPY_MODEL_a8493b3c338f43b28426860b35e7dd7d",
      "value": " 1/1 [00:00&lt;00:00, 10.51it/s]"
     }
    },
    "e18f41875abb4c80bce6c92f64681141": {
     "model_module": "@jupyter-widgets/base",
     "model_name": "LayoutModel",
     "state": {
      "_model_module": "@jupyter-widgets/base",
      "_model_module_version": "1.2.0",
      "_model_name": "LayoutModel",
      "_view_count": null,
      "_view_module": "@jupyter-widgets/base",
      "_view_module_version": "1.2.0",
      "_view_name": "LayoutView",
      "align_content": null,
      "align_items": null,
      "align_self": null,
      "border": null,
      "bottom": null,
      "display": null,
      "flex": null,
      "flex_flow": null,
      "grid_area": null,
      "grid_auto_columns": null,
      "grid_auto_flow": null,
      "grid_auto_rows": null,
      "grid_column": null,
      "grid_gap": null,
      "grid_row": null,
      "grid_template_areas": null,
      "grid_template_columns": null,
      "grid_template_rows": null,
      "height": null,
      "justify_content": null,
      "justify_items": null,
      "left": null,
      "margin": null,
      "max_height": null,
      "max_width": null,
      "min_height": null,
      "min_width": null,
      "object_fit": null,
      "object_position": null,
      "order": null,
      "overflow": null,
      "overflow_x": null,
      "overflow_y": null,
      "padding": null,
      "right": null,
      "top": null,
      "visibility": null,
      "width": null
     }
    },
    "eab747aee93f43699ae89e39e2cc8757": {
     "model_module": "@jupyter-widgets/base",
     "model_name": "LayoutModel",
     "state": {
      "_model_module": "@jupyter-widgets/base",
      "_model_module_version": "1.2.0",
      "_model_name": "LayoutModel",
      "_view_count": null,
      "_view_module": "@jupyter-widgets/base",
      "_view_module_version": "1.2.0",
      "_view_name": "LayoutView",
      "align_content": null,
      "align_items": null,
      "align_self": null,
      "border": null,
      "bottom": null,
      "display": null,
      "flex": null,
      "flex_flow": null,
      "grid_area": null,
      "grid_auto_columns": null,
      "grid_auto_flow": null,
      "grid_auto_rows": null,
      "grid_column": null,
      "grid_gap": null,
      "grid_row": null,
      "grid_template_areas": null,
      "grid_template_columns": null,
      "grid_template_rows": null,
      "height": null,
      "justify_content": null,
      "justify_items": null,
      "left": null,
      "margin": null,
      "max_height": null,
      "max_width": null,
      "min_height": null,
      "min_width": null,
      "object_fit": null,
      "object_position": null,
      "order": null,
      "overflow": null,
      "overflow_x": null,
      "overflow_y": null,
      "padding": null,
      "right": null,
      "top": null,
      "visibility": null,
      "width": null
     }
    },
    "f92af5727203433cb0f9d47d2817e297": {
     "model_module": "@jupyter-widgets/controls",
     "model_name": "FloatProgressModel",
     "state": {
      "_dom_classes": [],
      "_model_module": "@jupyter-widgets/controls",
      "_model_module_version": "1.5.0",
      "_model_name": "FloatProgressModel",
      "_view_count": null,
      "_view_module": "@jupyter-widgets/controls",
      "_view_module_version": "1.5.0",
      "_view_name": "ProgressView",
      "bar_style": "success",
      "description": "Batches: 100%",
      "description_tooltip": null,
      "layout": "IPY_MODEL_3c048663453548d8b1802125cefaabb5",
      "max": 1,
      "min": 0,
      "orientation": "horizontal",
      "style": "IPY_MODEL_a378ccea0e9c4909ba0cfb38b5fe0ac1",
      "value": 1
     }
    },
    "fbe61d0a267645808b74a0a2da50b52f": {
     "model_module": "@jupyter-widgets/controls",
     "model_name": "HTMLModel",
     "state": {
      "_dom_classes": [],
      "_model_module": "@jupyter-widgets/controls",
      "_model_module_version": "1.5.0",
      "_model_name": "HTMLModel",
      "_view_count": null,
      "_view_module": "@jupyter-widgets/controls",
      "_view_module_version": "1.5.0",
      "_view_name": "HTMLView",
      "description": "",
      "description_tooltip": null,
      "layout": "IPY_MODEL_3837b29efb424522a4c8895439c23e09",
      "placeholder": "​",
      "style": "IPY_MODEL_b331e4ffe6514aa88267793f7772660f",
      "value": " 1/1 [03:21&lt;00:00, 201.75s/it]"
     }
    },
    "ffb3654895994068bc71191c77b1b3cb": {
     "model_module": "@jupyter-widgets/base",
     "model_name": "LayoutModel",
     "state": {
      "_model_module": "@jupyter-widgets/base",
      "_model_module_version": "1.2.0",
      "_model_name": "LayoutModel",
      "_view_count": null,
      "_view_module": "@jupyter-widgets/base",
      "_view_module_version": "1.2.0",
      "_view_name": "LayoutView",
      "align_content": null,
      "align_items": null,
      "align_self": null,
      "border": null,
      "bottom": null,
      "display": null,
      "flex": null,
      "flex_flow": null,
      "grid_area": null,
      "grid_auto_columns": null,
      "grid_auto_flow": null,
      "grid_auto_rows": null,
      "grid_column": null,
      "grid_gap": null,
      "grid_row": null,
      "grid_template_areas": null,
      "grid_template_columns": null,
      "grid_template_rows": null,
      "height": null,
      "justify_content": null,
      "justify_items": null,
      "left": null,
      "margin": null,
      "max_height": null,
      "max_width": null,
      "min_height": null,
      "min_width": null,
      "object_fit": null,
      "object_position": null,
      "order": null,
      "overflow": null,
      "overflow_x": null,
      "overflow_y": null,
      "padding": null,
      "right": null,
      "top": null,
      "visibility": null,
      "width": null
     }
    }
   }
  }
 },
 "nbformat": 4,
 "nbformat_minor": 1
}
